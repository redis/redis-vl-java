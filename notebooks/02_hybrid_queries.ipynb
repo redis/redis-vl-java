{
 "cells": [
  {
   "cell_type": "markdown",
   "metadata": {},
   "source": [
    "# Querying with RedisVL\n",
    "\n",
    "In this notebook, we will explore more complex queries that can be performed with `RedisVL`\n",
    "\n",
    "Before running this notebook, be sure to:\n",
    "1. Have installed `RedisVL` and have that environment active for this notebook.\n",
    "2. Have a running Redis instance with RediSearch > 2.4 running."
   ]
  },
  {
   "cell_type": "markdown",
   "metadata": {},
   "source": [
    "## Import Required Libraries and Setup"
   ]
  },
  {
   "cell_type": "code",
   "execution_count": 1,
   "metadata": {
    "vscode": {
     "languageId": "java"
    }
   },
   "outputs": [
    {
     "name": "stdout",
     "output_type": "stream",
     "text": [
      "Libraries imported successfully!\n"
     ]
    }
   ],
   "source": [
    "// Load Maven dependencies\n",
    "%maven redis.clients:jedis:5.2.0\n",
    "%maven org.slf4j:slf4j-nop:2.0.16\n",
    "%maven com.fasterxml.jackson.core:jackson-databind:2.18.0\n",
    "%maven com.fasterxml.jackson.dataformat:jackson-dataformat-yaml:2.18.0\n",
    "%maven net.razorvine:pickle:1.4\n",
    "%maven de.vandermeer:asciitable:0.3.2\n",
    "\n",
    "// Import RedisVL classes\n",
    "import com.redis.vl.index.SearchIndex;\n",
    "import com.redis.vl.schema.IndexSchema;\n",
    "import com.redis.vl.query.VectorQuery;\n",
    "import com.redis.vl.query.Filter;\n",
    "\n",
    "// Import Redis client\n",
    "import redis.clients.jedis.UnifiedJedis;\n",
    "import redis.clients.jedis.HostAndPort;\n",
    "import redis.clients.jedis.search.SearchResult;\n",
    "\n",
    "// Import pickle library\n",
    "import net.razorvine.pickle.Unpickler;\n",
    "\n",
    "// Import ASCII Table\n",
    "import de.vandermeer.asciitable.AsciiTable;\n",
    "import de.vandermeer.asciitable.CWC_LongestLine;\n",
    "\n",
    "// Import Java standard libraries\n",
    "import java.util.*;\n",
    "import java.nio.*;\n",
    "import java.io.*;\n",
    "\n",
    "System.out.println(\"Libraries imported successfully!\");"
   ]
  },
  {
   "cell_type": "markdown",
   "metadata": {},
   "source": [
    "## Load Sample Data from Pickle File\n",
    "\n",
    "Load the hybrid_example_data.pkl file that contains our sample dataset:"
   ]
  },
  {
   "cell_type": "code",
   "execution_count": 2,
   "metadata": {
    "vscode": {
     "languageId": "java"
    }
   },
   "outputs": [
    {
     "name": "stdout",
     "output_type": "stream",
     "text": [
      "Sample data loaded from pickle file with 7 users\n",
      "\n",
      "Loaded data:\n",
      "┌───────┬───┬─────────────┬────────────┬─────────────────┬───────────────┬────────────┐\n",
      "│User   │Age│Job          │Credit Score│Office Location  │User Embedding │Last Updated│\n",
      "├───────┼───┼─────────────┼────────────┼─────────────────┼───────────────┼────────────┤\n",
      "│john   │18 │engineer     │high        │-122.4194,37.7749│[0.1, 0.1, 0.5]│1741627789  │\n",
      "│derrick│14 │doctor       │low         │-122.4194,37.7749│[0.1, 0.1, 0.5]│1741627789  │\n",
      "│nancy  │94 │doctor       │high        │-122.4194,37.7749│[0.7, 0.1, 0.5]│1710696589  │\n",
      "│tyler  │100│engineer     │high        │-122.0839,37.3861│[0.1, 0.4, 0.5]│1742232589  │\n",
      "│tim    │12 │dermatologist│high        │-122.0839,37.3861│[0.4, 0.4, 0.5]│1739644189  │\n",
      "│taimur │15 │CEO          │low         │-122.0839,37.3861│[0.6, 0.1, 0.5]│1742232589  │\n",
      "│joe    │35 │dentist      │medium      │-122.0839,37.3861│[0.9, 0.9, 0.1]│1742232589  │\n",
      "└───────┴───┴─────────────┴────────────┴─────────────────┴───────────────┴────────────┘\n"
     ]
    }
   ],
   "source": [
    "// Load data from pickle file and convert vector byte arrays to float arrays\n",
    "Unpickler unpickler = new Unpickler();\n",
    "List<Map<String, Object>> data;\n",
    "\n",
    "try {\n",
    "    FileInputStream fileInputStream = new FileInputStream(\"resources/hybrid_example_data.pkl\");\n",
    "    data = (List<Map<String, Object>>) unpickler.load(fileInputStream);\n",
    "    fileInputStream.close();\n",
    "\n",
    "    System.out.println(\"Sample data loaded from pickle file with \" + data.size() + \" users\");\n",
    "\n",
    "    // Convert byte array embeddings to float arrays\n",
    "    for (Map<String, Object> user : data) {\n",
    "        Object embedding = user.get(\"user_embedding\");\n",
    "\n",
    "        if (embedding instanceof byte[]) {\n",
    "            byte[] embBytes = (byte[]) embedding;\n",
    "            // Convert to float array - 3 floats * 4 bytes each = 12 bytes\n",
    "            ByteBuffer buffer = ByteBuffer.wrap(embBytes).order(ByteOrder.LITTLE_ENDIAN);\n",
    "            float[] floats = new float[3];\n",
    "            for (int i = 0; i < 3; i++) {\n",
    "                floats[i] = buffer.getFloat();\n",
    "            }\n",
    "            user.put(\"user_embedding\", floats); // Replace with float array\n",
    "        }\n",
    "    }\n",
    "\n",
    "    // Create ASCII table for displaying loaded data\n",
    "    AsciiTable table = new AsciiTable();\n",
    "    table.addRule();\n",
    "    table.addRow(\"User\", \"Age\", \"Job\", \"Credit Score\", \"Office Location\", \"User Embedding\", \"Last Updated\");\n",
    "    table.addRule();\n",
    "\n",
    "    data.forEach(user -> {\n",
    "        float[] vec = (float[]) user.get(\"user_embedding\");\n",
    "        String vectorStr = String.format(\"[%.1f, %.1f, %.1f]\", vec[0], vec[1], vec[2]);\n",
    "        table.addRow(\n",
    "            user.get(\"user\"),\n",
    "            user.get(\"age\"),\n",
    "            user.get(\"job\"),\n",
    "            user.get(\"credit_score\"),\n",
    "            user.get(\"office_location\"),\n",
    "            vectorStr,\n",
    "            user.get(\"last_updated\")\n",
    "        );\n",
    "    });\n",
    "    table.addRule();\n",
    "\n",
    "    // Configure column widths\n",
    "    CWC_LongestLine cwc = new CWC_LongestLine();\n",
    "    table.getRenderer().setCWC(cwc);\n",
    "\n",
    "    System.out.println(\"\\nLoaded data:\");\n",
    "    System.out.println(table.render());\n",
    "\n",
    "} catch (Exception e) {\n",
    "    System.err.println(\"Error loading pickle file: \" + e.getMessage());\n",
    "    e.printStackTrace();\n",
    "    throw e;\n",
    "}"
   ]
  },
  {
   "cell_type": "code",
   "execution_count": 3,
   "metadata": {
    "vscode": {
     "languageId": "java"
    }
   },
   "outputs": [],
   "source": [
    "// Helper method to print query results in table format\n",
    "public static void resultPrint(List<Map<String, Object>> results) {\n",
    "    if (results == null || results.isEmpty()) {\n",
    "        System.out.println(\"No results to display\");\n",
    "        return;\n",
    "    }\n",
    "\n",
    "    // Fields to exclude from display (keep vector_distance if present)\n",
    "    Set<String> toRemove = Set.of(\"id\", \"payload\", \"score\", \"user_embedding\", \"__user_embedding_score\");\n",
    "\n",
    "    // Get all unique keys from results, excluding the ones we want to remove\n",
    "    Set<String> allKeys = new LinkedHashSet<>();\n",
    "    for (Map<String, Object> result : results) {\n",
    "        for (String key : result.keySet()) {\n",
    "            if (!toRemove.contains(key)) {\n",
    "                allKeys.add(key);\n",
    "            }\n",
    "        }\n",
    "    }\n",
    "\n",
    "    // Create ASCII table\n",
    "    AsciiTable table = new AsciiTable();\n",
    "    table.addRule();\n",
    "\n",
    "    // Add header row\n",
    "    table.addRow(allKeys.toArray());\n",
    "    table.addRule();\n",
    "\n",
    "    // Add data rows\n",
    "    for (Map<String, Object> result : results) {\n",
    "        List<Object> row = new ArrayList<>();\n",
    "        for (String key : allKeys) {\n",
    "            Object value = result.get(key);\n",
    "            row.add(value != null ? value.toString() : \"\");\n",
    "        }\n",
    "        table.addRow(row.toArray());\n",
    "    }\n",
    "    table.addRule();\n",
    "\n",
    "    // Configure column widths\n",
    "    CWC_LongestLine cwc = new CWC_LongestLine();\n",
    "    table.getRenderer().setCWC(cwc);\n",
    "\n",
    "    // Print the table\n",
    "    System.out.println(table.render());\n",
    "}"
   ]
  },
  {
   "cell_type": "markdown",
   "metadata": {},
   "source": [
    "## Define Schema and Create Index\n",
    "\n",
    "Create a more complex schema that includes geographic and timestamp fields:"
   ]
  },
  {
   "cell_type": "code",
   "execution_count": 4,
   "metadata": {
    "vscode": {
     "languageId": "java"
    }
   },
   "outputs": [
    {
     "name": "stdout",
     "output_type": "stream",
     "text": [
      "Schema created with 7 fields\n"
     ]
    }
   ],
   "source": [
    "Map<String,Object> schemaMap = Map.<String, Object>of(\n",
    "  // Index configuration\n",
    "  \"index\", Map.of(\n",
    "    \"name\", \"user_queries\",\n",
    "    \"prefix\", \"user_queries_docs\",\n",
    "    \"storage_type\", \"hash\"\n",
    "  ),\n",
    "  // Field definitions\n",
    "  \"fields\", List.of(\n",
    "    Map.of(\"name\", \"user\", \"type\", \"tag\"),\n",
    "    Map.of(\"name\", \"credit_score\", \"type\", \"tag\"),\n",
    "    Map.of(\"name\", \"job\", \"type\", \"text\"),\n",
    "    Map.of(\"name\", \"age\", \"type\", \"numeric\"),\n",
    "    Map.of(\"name\", \"last_updated\", \"type\", \"numeric\"),\n",
    "    Map.of(\"name\", \"office_location\", \"type\", \"geo\"),\n",
    "    // Vector field\n",
    "    Map.of(\n",
    "      \"name\", \"user_embedding\",\n",
    "      \"type\", \"vector\",\n",
    "      \"attrs\", Map.of(\n",
    "        \"dims\", 3,\n",
    "        \"distance_metric\", \"cosine\",\n",
    "        \"algorithm\", \"flat\",\n",
    "        \"datatype\", \"float32\"\n",
    "      )\n",
    "    )\n",
    "  )\n",
    ");\n",
    "\n",
    "int size = ((List<?>) schemaMap.get(\"fields\")).size();\n",
    "System.out.println(\"Schema created with \" + size + \" fields\");"
   ]
  },
  {
   "cell_type": "code",
   "execution_count": 5,
   "metadata": {
    "vscode": {
     "languageId": "java"
    }
   },
   "outputs": [
    {
     "name": "stderr",
     "output_type": "stream",
     "text": [
      "SLF4J: Failed to load class \"org.slf4j.impl.StaticLoggerBinder\".\n",
      "SLF4J: Defaulting to no-operation (NOP) logger implementation\n",
      "SLF4J: See http://www.slf4j.org/codes.html#StaticLoggerBinder for further details.\n"
     ]
    },
    {
     "name": "stdout",
     "output_type": "stream",
     "text": [
      "Index created: user_queries\n",
      "Index exists: true\n"
     ]
    }
   ],
   "source": [
    "// Connect to Redis and create index\n",
    "UnifiedJedis jedis = new UnifiedJedis(new HostAndPort(\"redis-stack\", 6379));\n",
    "\n",
    "// Create SearchIndex\n",
    "SearchIndex index = SearchIndex.fromDict(schemaMap, jedis);\n",
    "\n",
    "// Create the index (overwrite if exists)\n",
    "index.create(true);\n",
    "\n",
    "System.out.println(\"Index created: \" + index.getName());\n",
    "System.out.println(\"Index exists: \" + index.exists());"
   ]
  },
  {
   "cell_type": "code",
   "execution_count": 6,
   "metadata": {
    "vscode": {
     "languageId": "java"
    }
   },
   "outputs": [
    {
     "name": "stdout",
     "output_type": "stream",
     "text": [
      "Data loaded successfully!\n",
      "Document count: 7\n",
      "  user_queries_docs:john\n",
      "  user_queries_docs:derrick\n",
      "  user_queries_docs:nancy\n",
      "  user_queries_docs:tyler\n",
      "  user_queries_docs:tim\n",
      "  user_queries_docs:taimur\n",
      "  user_queries_docs:joe\n"
     ]
    }
   ],
   "source": [
    "// Load data to Redis\n",
    "List<String> keys = index.load(data, \"user\");\n",
    "\n",
    "System.out.println(\"Data loaded successfully!\");\n",
    "System.out.println(\"Document count: \" + index.getDocumentCount());\n",
    "\n",
    "// Show loaded keys\n",
    "keys.forEach(key -> System.out.println(\"  \" + key));"
   ]
  },
  {
   "cell_type": "markdown",
   "metadata": {},
   "source": [
    "## Hybrid Queries\n",
    "\n",
    "Hybrid queries are queries that combine multiple types of filters. For example, you may want to search for a user that is a certain age, has a certain job, and is within a certain distance of a location. This is a hybrid query that combines numeric, tag, and geographic filters."
   ]
  },
  {
   "cell_type": "markdown",
   "metadata": {},
   "source": [
    "### Tag Filters\n",
    "\n",
    "Tag filters are filters that are applied to tag fields. These are fields that are not tokenized and are used to store a single categorical value."
   ]
  },
  {
   "cell_type": "code",
   "execution_count": 7,
   "metadata": {
    "vscode": {
     "languageId": "java"
    }
   },
   "outputs": [
    {
     "name": "stdout",
     "output_type": "stream",
     "text": [
      "┌────────────┬────────────┬───────────────┬─────────────────┬─────────────┬─────┬───┐\n",
      "│credit_score│last_updated│vector_distance│office_location  │job          │user │age│\n",
      "├────────────┼────────────┼───────────────┼─────────────────┼─────────────┼─────┼───┤\n",
      "│high        │1741627789  │0              │-122.4194,37.7749│engineer     │john │18 │\n",
      "│high        │1710696589  │0.266666650772 │-122.4194,37.7749│doctor       │nancy│94 │\n",
      "│high        │1742232589  │0.109129190445 │-122.0839,37.3861│engineer     │tyler│100│\n",
      "│high        │1739644189  │0.158808887005 │-122.0839,37.3861│dermatologist│tim  │12 │\n",
      "└────────────┴────────────┴───────────────┴─────────────────┴─────────────┴─────┴───┘\n"
     ]
    }
   ],
   "source": [
    "// Test tag filter query\n",
    "Filter tagFilter = Filter.tag(\"credit_score\", \"high\");\n",
    "\n",
    "VectorQuery vectorQuery = VectorQuery.builder()\n",
    "    .vector(new float[]{0.1f, 0.1f, 0.5f})\n",
    "    .field(\"user_embedding\")\n",
    "    .returnFields(\"user\", \"credit_score\", \"age\", \"job\", \"office_location\", \"last_updated\", \"vector_distance\")\n",
    "    .numResults(10)\n",
    "    .withPreFilter(tagFilter.build())\n",
    "    .build();\n",
    "\n",
    "List<Map<String, Object>> results = index.query(vectorQuery);\n",
    "resultPrint(results);"
   ]
  },
  {
   "cell_type": "code",
   "execution_count": 8,
   "metadata": {
    "vscode": {
     "languageId": "java"
    }
   },
   "outputs": [
    {
     "name": "stdout",
     "output_type": "stream",
     "text": [
      "┌────────────┬────────────┬───────────────┬─────────────────┬───────┬───────┬───┐\n",
      "│credit_score│last_updated│vector_distance│office_location  │job    │user   │age│\n",
      "├────────────┼────────────┼───────────────┼─────────────────┼───────┼───────┼───┤\n",
      "│low         │1741627789  │0              │-122.4194,37.7749│doctor │derrick│14 │\n",
      "│low         │1742232589  │0.217881977558 │-122.0839,37.3861│CEO    │taimur │15 │\n",
      "│medium      │1742232589  │0.653301358223 │-122.0839,37.3861│dentist│joe    │35 │\n",
      "└────────────┴────────────┴───────────────┴─────────────────┴───────┴───────┴───┘\n"
     ]
    }
   ],
   "source": [
    "// Tag negation (credit_score != high)\n",
    "Filter tagNotFilter = Filter.tagNot(\"credit_score\", \"high\");\n",
    "\n",
    "VectorQuery tagNotQuery = VectorQuery.builder()\n",
    "    .vector(new float[]{0.1f, 0.1f, 0.5f})\n",
    "    .field(\"user_embedding\")\n",
    "    .returnFields(\"user\", \"credit_score\", \"age\", \"job\", \"office_location\", \"last_updated\", \"vector_distance\")\n",
    "    .numResults(10)\n",
    "    .withPreFilter(tagNotFilter.build())\n",
    "    .build();\n",
    "\n",
    "List<Map<String, Object>> tagNotResults = index.query(tagNotQuery);\n",
    "resultPrint(tagNotResults);"
   ]
  },
  {
   "cell_type": "code",
   "execution_count": 9,
   "metadata": {
    "vscode": {
     "languageId": "java"
    }
   },
   "outputs": [
    {
     "name": "stdout",
     "output_type": "stream",
     "text": [
      "┌────────────┬────────────┬───────────────┬─────────────────┬─────────────┬─────┬───┐\n",
      "│credit_score│last_updated│vector_distance│office_location  │job          │user │age│\n",
      "├────────────┼────────────┼───────────────┼─────────────────┼─────────────┼─────┼───┤\n",
      "│medium      │1742232589  │0.653301358223 │-122.0839,37.3861│dentist      │joe  │35 │\n",
      "│high        │1741627789  │0              │-122.4194,37.7749│engineer     │john │18 │\n",
      "│high        │1710696589  │0.266666650772 │-122.4194,37.7749│doctor       │nancy│94 │\n",
      "│high        │1742232589  │0.109129190445 │-122.0839,37.3861│engineer     │tyler│100│\n",
      "│high        │1739644189  │0.158808887005 │-122.0839,37.3861│dermatologist│tim  │12 │\n",
      "└────────────┴────────────┴───────────────┴─────────────────┴─────────────┴─────┴───┘\n"
     ]
    }
   ],
   "source": [
    "// Multiple tag values\n",
    "Filter multiTagFilter = Filter.tag(\"credit_score\", \"high\", \"medium\");\n",
    "\n",
    "VectorQuery multiTagQuery = VectorQuery.builder()\n",
    "    .vector(new float[]{0.1f, 0.1f, 0.5f})\n",
    "    .field(\"user_embedding\")\n",
    "    .returnFields(\"user\", \"credit_score\", \"age\", \"job\", \"office_location\", \"last_updated\", \"vector_distance\")\n",
    "    .numResults(10)\n",
    "    .withPreFilter(multiTagFilter.build())\n",
    "    .build();\n",
    "\n",
    "List<Map<String, Object>> multiResults = index.query(multiTagQuery);\n",
    "resultPrint(multiResults);"
   ]
  },
  {
   "cell_type": "markdown",
   "metadata": {},
   "source": [
    "What about scenarios where you might want to dynamically generate a list of tags? Have no fear. RedisVL allows you to do this gracefully without having to check for the **empty case**. The **empty case** is when you attempt to run a Tag filter on a field with no defined values to match:\n",
    "\n",
    "`FilterQuery.tag(\"credit_score\")` with empty values\n",
    "\n",
    "An empty filter like this will yield a `*` Redis query filter which implies the base case -- there is no filter here to use."
   ]
  },
  {
   "cell_type": "markdown",
   "metadata": {},
   "source": [
    "### Numeric Filters\n",
    "\n",
    "Numeric filters are filters that are applied to numeric fields and can be used to isolate a range of values for a given field."
   ]
  },
  {
   "cell_type": "code",
   "execution_count": 10,
   "metadata": {
    "vscode": {
     "languageId": "java"
    }
   },
   "outputs": [
    {
     "name": "stdout",
     "output_type": "stream",
     "text": [
      "┌────────────┬────────────┬───────────────┬─────────────────┬────────┬──────┬───┐\n",
      "│credit_score│last_updated│vector_distance│office_location  │job     │user  │age│\n",
      "├────────────┼────────────┼───────────────┼─────────────────┼────────┼──────┼───┤\n",
      "│high        │1741627789  │0              │-122.4194,37.7749│engineer│john  │18 │\n",
      "│low         │1742232589  │0.217881977558 │-122.0839,37.3861│CEO     │taimur│15 │\n",
      "│medium      │1742232589  │0.653301358223 │-122.0839,37.3861│dentist │joe   │35 │\n",
      "└────────────┴────────────┴───────────────┴─────────────────┴────────┴──────┴───┘\n"
     ]
    }
   ],
   "source": [
    "// Age range filter\n",
    "Filter ageFilter = Filter.numeric(\"age\").between(15, 35);\n",
    "\n",
    "VectorQuery ageQuery = VectorQuery.builder()\n",
    "    .vector(new float[]{0.1f, 0.1f, 0.5f})\n",
    "    .field(\"user_embedding\")\n",
    "    .returnFields(\"user\", \"age\", \"job\", \"credit_score\", \"office_location\", \"last_updated\", \"vector_distance\")\n",
    "    .numResults(10)\n",
    "    .withPreFilter(ageFilter.build())\n",
    "    .build();\n",
    "\n",
    "List<Map<String, Object>> ageResults = index.query(ageQuery);\n",
    "resultPrint(ageResults);"
   ]
  },
  {
   "cell_type": "code",
   "execution_count": 11,
   "metadata": {
    "vscode": {
     "languageId": "java"
    }
   },
   "outputs": [
    {
     "name": "stdout",
     "output_type": "stream",
     "text": [
      "┌────────────┬────────────┬───────────────┬─────────────────┬──────┬───────┬───┐\n",
      "│credit_score│last_updated│vector_distance│office_location  │job   │user   │age│\n",
      "├────────────┼────────────┼───────────────┼─────────────────┼──────┼───────┼───┤\n",
      "│low         │1741627789  │0              │-122.4194,37.7749│doctor│derrick│14 │\n",
      "└────────────┴────────────┴───────────────┴─────────────────┴──────┴───────┴───┘\n"
     ]
    }
   ],
   "source": [
    "// Exact age filter\n",
    "Filter exactAgeFilter = Filter.numeric(\"age\").eq(14);\n",
    "\n",
    "VectorQuery exactAgeQuery = VectorQuery.builder()\n",
    "    .vector(new float[]{0.1f, 0.1f, 0.5f})\n",
    "    .field(\"user_embedding\")\n",
    "    .returnFields(\"user\", \"age\", \"job\", \"credit_score\", \"office_location\", \"last_updated\", \"vector_distance\")\n",
    "    .numResults(10)\n",
    "    .withPreFilter(exactAgeFilter.build())\n",
    "    .build();\n",
    "\n",
    "List<Map<String, Object>> exactResults = index.query(exactAgeQuery);\n",
    "resultPrint(exactResults);"
   ]
  },
  {
   "cell_type": "markdown",
   "metadata": {},
   "source": [
    "### Timestamp Filters\n",
    "\n",
    "In Redis all times are stored as an epoch time numeric however, this class allows you to filter with Java datetime objects for ease of use."
   ]
  },
  {
   "cell_type": "code",
   "execution_count": 12,
   "metadata": {
    "vscode": {
     "languageId": "java"
    }
   },
   "outputs": [
    {
     "name": "stdout",
     "output_type": "stream",
     "text": [
      "Epoch comparison: 1.742132739132589E9\n",
      "┌────────────┬────────────┬───────────────┬─────────────────┬────────┬──────┬───┐\n",
      "│credit_score│last_updated│vector_distance│office_location  │job     │user  │age│\n",
      "├────────────┼────────────┼───────────────┼─────────────────┼────────┼──────┼───┤\n",
      "│high        │1742232589  │0.109129190445 │-122.0839,37.3861│engineer│tyler │100│\n",
      "│low         │1742232589  │0.217881977558 │-122.0839,37.3861│CEO     │taimur│15 │\n",
      "│medium      │1742232589  │0.653301358223 │-122.0839,37.3861│dentist │joe   │35 │\n",
      "└────────────┴────────────┴───────────────┴─────────────────┴────────┴──────┴───┘\n"
     ]
    }
   ],
   "source": [
    "// Import Java time classes\n",
    "import java.time.LocalDateTime;\n",
    "import java.time.Instant;\n",
    "import java.time.ZoneOffset;\n",
    "\n",
    "// Create a datetime for comparison (matching Python: datetime(2025, 3, 16, 13, 45, 39, 132589))\n",
    "// Note: Java LocalDateTime doesn't support microseconds, so we use nanoseconds\n",
    "LocalDateTime dt = LocalDateTime.of(2025, 3, 16, 13, 45, 39, 132589000);\n",
    "double epochWithMicros = dt.toEpochSecond(ZoneOffset.UTC) + (132589.0 / 1000000.0);\n",
    "System.out.println(\"Epoch comparison: \" + epochWithMicros);\n",
    "\n",
    "// Filter for timestamps after the given datetime\n",
    "Filter timestampAfterFilter = Filter.timestamp(\"last_updated\").gt(dt);\n",
    "\n",
    "VectorQuery timestampAfterQuery = VectorQuery.builder()\n",
    "    .vector(new float[]{0.1f, 0.1f, 0.5f})\n",
    "    .field(\"user_embedding\")\n",
    "    .returnFields(\"user\", \"last_updated\", \"job\", \"credit_score\", \"age\", \"office_location\", \"vector_distance\")\n",
    "    .numResults(10)\n",
    "    .withPreFilter(timestampAfterFilter.build())\n",
    "    .build();\n",
    "\n",
    "List<Map<String, Object>> afterResults = index.query(timestampAfterQuery);\n",
    "resultPrint(afterResults);"
   ]
  },
  {
   "cell_type": "code",
   "execution_count": 13,
   "metadata": {
    "vscode": {
     "languageId": "java"
    }
   },
   "outputs": [
    {
     "name": "stdout",
     "output_type": "stream",
     "text": [
      "\n",
      "Timestamps before 2025-03-16T13:45:39.132589:\n",
      "┌────────────┬────────────┬───────────────┬─────────────────┬─────────────┬───────┬───┐\n",
      "│credit_score│last_updated│vector_distance│office_location  │job          │user   │age│\n",
      "├────────────┼────────────┼───────────────┼─────────────────┼─────────────┼───────┼───┤\n",
      "│high        │1741627789  │0              │-122.4194,37.7749│engineer     │john   │18 │\n",
      "│low         │1741627789  │0              │-122.4194,37.7749│doctor       │derrick│14 │\n",
      "│high        │1710696589  │0.266666650772 │-122.4194,37.7749│doctor       │nancy  │94 │\n",
      "│high        │1739644189  │0.158808887005 │-122.0839,37.3861│dermatologist│tim    │12 │\n",
      "└────────────┴────────────┴───────────────┴─────────────────┴─────────────┴───────┴───┘\n"
     ]
    }
   ],
   "source": [
    "// Filter for timestamps before the given datetime\n",
    "Filter timestampBeforeFilter = Filter.timestamp(\"last_updated\").before(dt);\n",
    "\n",
    "VectorQuery timestampBeforeQuery = VectorQuery.builder()\n",
    "    .vector(new float[]{0.1f, 0.1f, 0.5f})\n",
    "    .field(\"user_embedding\")\n",
    "    .returnFields(\"user\", \"last_updated\", \"job\", \"credit_score\", \"age\", \"office_location\", \"vector_distance\")\n",
    "    .numResults(10)\n",
    "    .withPreFilter(timestampBeforeFilter.build())\n",
    "    .build();\n",
    "\n",
    "List<Map<String, Object>> beforeResults = index.query(timestampBeforeQuery);\n",
    "System.out.println(\"\\nTimestamps before \" + dt + \":\");\n",
    "resultPrint(beforeResults);"
   ]
  },
  {
   "cell_type": "code",
   "execution_count": 14,
   "metadata": {
    "vscode": {
     "languageId": "java"
    }
   },
   "outputs": [
    {
     "name": "stdout",
     "output_type": "stream",
     "text": [
      "\n",
      "Epoch comparison: 1.742132739132589E9\n",
      "┌────────────┬────────────┬───────────────┬─────────────────┬─────────────┬───────┬───┐\n",
      "│credit_score│last_updated│vector_distance│office_location  │job          │user   │age│\n",
      "├────────────┼────────────┼───────────────┼─────────────────┼─────────────┼───────┼───┤\n",
      "│high        │1741627789  │0              │-122.4194,37.7749│engineer     │john   │18 │\n",
      "│low         │1741627789  │0              │-122.4194,37.7749│doctor       │derrick│14 │\n",
      "│high        │1710696589  │0.266666650772 │-122.4194,37.7749│doctor       │nancy  │94 │\n",
      "│high        │1739644189  │0.158808887005 │-122.0839,37.3861│dermatologist│tim    │12 │\n",
      "└────────────┴────────────┴───────────────┴─────────────────┴─────────────┴───────┴───┘\n"
     ]
    }
   ],
   "source": [
    "// Filter for timestamps less than the given datetime (matching Python's lt)\n",
    "System.out.println(\"\\nEpoch comparison: \" + epochWithMicros);\n",
    "\n",
    "Filter timestampBeforeFilter = Filter.timestamp(\"last_updated\").lt(dt);\n",
    "\n",
    "VectorQuery timestampBeforeQuery = VectorQuery.builder()\n",
    "    .vector(new float[]{0.1f, 0.1f, 0.5f})\n",
    "    .field(\"user_embedding\")\n",
    "    .returnFields(\"user\", \"last_updated\", \"job\", \"credit_score\", \"age\", \"office_location\", \"vector_distance\")\n",
    "    .numResults(10)\n",
    "    .withPreFilter(timestampBeforeFilter.build())\n",
    "    .build();\n",
    "\n",
    "List<Map<String, Object>> beforeResults = index.query(timestampBeforeQuery);\n",
    "resultPrint(beforeResults);"
   ]
  },
  {
   "cell_type": "markdown",
   "metadata": {},
   "source": [
    "### Text Filters\n",
    "\n",
    "Text filters are applied to text fields and support various matching strategies including exact matches, wildcards, and fuzzy matching."
   ]
  },
  {
   "cell_type": "code",
   "execution_count": 15,
   "metadata": {
    "vscode": {
     "languageId": "java"
    }
   },
   "outputs": [
    {
     "name": "stdout",
     "output_type": "stream",
     "text": [
      "┌────────────┬────────────┬───────────────┬─────────────────┬──────┬───────┬───┐\n",
      "│credit_score│last_updated│vector_distance│office_location  │job   │user   │age│\n",
      "├────────────┼────────────┼───────────────┼─────────────────┼──────┼───────┼───┤\n",
      "│low         │1741627789  │0              │-122.4194,37.7749│doctor│derrick│14 │\n",
      "│high        │1710696589  │0.266666650772 │-122.4194,37.7749│doctor│nancy  │94 │\n",
      "└────────────┴────────────┴───────────────┴─────────────────┴──────┴───────┴───┘\n"
     ]
    }
   ],
   "source": [
    "// Exact text match filter\n",
    "Filter textFilter = Filter.text(\"job\", \"doctor\");\n",
    "\n",
    "VectorQuery textQuery = VectorQuery.builder()\n",
    "    .vector(new float[]{0.1f, 0.1f, 0.5f})\n",
    "    .field(\"user_embedding\")\n",
    "    .returnFields(\"user\", \"job\", \"credit_score\", \"age\", \"office_location\", \"last_updated\", \"vector_distance\")\n",
    "    .numResults(10)\n",
    "    .withPreFilter(textFilter.build())\n",
    "    .build();\n",
    "\n",
    "List<Map<String, Object>> textResults = index.query(textQuery);\n",
    "resultPrint(textResults);"
   ]
  },
  {
   "cell_type": "code",
   "execution_count": 16,
   "metadata": {
    "vscode": {
     "languageId": "java"
    }
   },
   "outputs": [
    {
     "name": "stdout",
     "output_type": "stream",
     "text": [
      "No results to display\n"
     ]
    }
   ],
   "source": [
    "// Fuzzy text filter\n",
    "Filter fuzzyFilter = Filter.fuzzy(\"job\", \"dctr\");\n",
    "\n",
    "VectorQuery fuzzyQuery = VectorQuery.builder()\n",
    "    .vector(new float[]{0.1f, 0.1f, 0.5f})\n",
    "    .field(\"user_embedding\")\n",
    "    .returnFields(\"user\", \"job\", \"credit_score\", \"age\", \"office_location\", \"last_updated\", \"vector_distance\")\n",
    "    .numResults(10)\n",
    "    .withPreFilter(fuzzyFilter.build())\n",
    "    .build();\n",
    "\n",
    "List<Map<String, Object>> fuzzyResults = index.query(fuzzyQuery);\n",
    "resultPrint(fuzzyResults);"
   ]
  },
  {
   "cell_type": "markdown",
   "metadata": {},
   "source": [
    "### Geographic Filters\n",
    "\n",
    "Geographic filters enable location-based queries using latitude/longitude coordinates and radius searches."
   ]
  },
  {
   "cell_type": "code",
   "execution_count": 17,
   "metadata": {
    "vscode": {
     "languageId": "java"
    }
   },
   "outputs": [
    {
     "name": "stdout",
     "output_type": "stream",
     "text": [
      "┌────────────┬────────────┬───────────────┬─────────────────┬──────┬───────┬───┐\n",
      "│credit_score│last_updated│vector_distance│office_location  │job   │user   │age│\n",
      "├────────────┼────────────┼───────────────┼─────────────────┼──────┼───────┼───┤\n",
      "│low         │1741627789  │0              │-122.4194,37.7749│doctor│derrick│14 │\n",
      "│high        │1710696589  │0.266666650772 │-122.4194,37.7749│doctor│nancy  │94 │\n",
      "└────────────┴────────────┴───────────────┴─────────────────┴──────┴───────┴───┘\n"
     ]
    }
   ],
   "source": [
    "// Wildcard text filter (prefix match)\n",
    "Filter wildcardFilter = Filter.prefix(\"job\", \"doct\");\n",
    "\n",
    "VectorQuery wildcardQuery = VectorQuery.builder()\n",
    "    .vector(new float[]{0.1f, 0.1f, 0.5f})\n",
    "    .field(\"user_embedding\")\n",
    "    .returnFields(\"user\", \"job\", \"credit_score\", \"age\", \"office_location\", \"last_updated\", \"vector_distance\")\n",
    "    .numResults(10)\n",
    "    .withPreFilter(wildcardFilter.build())\n",
    "    .build();\n",
    "\n",
    "List<Map<String, Object>> wildcardResults = index.query(wildcardQuery);\n",
    "resultPrint(wildcardResults);"
   ]
  },
  {
   "cell_type": "code",
   "execution_count": 18,
   "metadata": {
    "vscode": {
     "languageId": "java"
    }
   },
   "outputs": [
    {
     "name": "stdout",
     "output_type": "stream",
     "text": [
      "┌────────────┬────────────┬───────────────┬─────────────────┬─────────────┬───────┬───┐\n",
      "│credit_score│last_updated│vector_distance│office_location  │job          │user   │age│\n",
      "├────────────┼────────────┼───────────────┼─────────────────┼─────────────┼───────┼───┤\n",
      "│high        │1741627789  │0              │-122.4194,37.7749│engineer     │john   │18 │\n",
      "│low         │1741627789  │0              │-122.4194,37.7749│doctor       │derrick│14 │\n",
      "│high        │1710696589  │0.266666650772 │-122.4194,37.7749│doctor       │nancy  │94 │\n",
      "│high        │1742232589  │0.109129190445 │-122.0839,37.3861│engineer     │tyler  │100│\n",
      "│high        │1739644189  │0.158808887005 │-122.0839,37.3861│dermatologist│tim    │12 │\n",
      "│low         │1742232589  │0.217881977558 │-122.0839,37.3861│CEO          │taimur │15 │\n",
      "│medium      │1742232589  │0.653301358223 │-122.0839,37.3861│dentist      │joe    │35 │\n",
      "└────────────┴────────────┴───────────────┴─────────────────┴─────────────┴───────┴───┘\n"
     ]
    }
   ],
   "source": [
    "// Larger radius - within 100 km\n",
    "Filter largerGeoFilter = Filter.geo(\"office_location\")\n",
    "    .radius(-122.4194, 37.7749, 100, Filter.GeoUnit.KM);\n",
    "\n",
    "VectorQuery largerGeoQuery = VectorQuery.builder()\n",
    "    .vector(new float[]{0.1f, 0.1f, 0.5f})\n",
    "    .field(\"user_embedding\")\n",
    "    .returnFields(\"user\", \"office_location\", \"job\", \"credit_score\", \"age\", \"last_updated\", \"vector_distance\")\n",
    "    .numResults(10)\n",
    "    .withPreFilter(largerGeoFilter.build())\n",
    "    .build();\n",
    "\n",
    "List<Map<String, Object>> largerGeoResults = index.query(largerGeoQuery);\n",
    "resultPrint(largerGeoResults);"
   ]
  },
  {
   "cell_type": "markdown",
   "metadata": {},
   "source": [
    "### Multiple Filter Combinations\n",
    "\n",
    "You can combine multiple filters using AND and OR logic to create complex query conditions."
   ]
  },
  {
   "cell_type": "code",
   "execution_count": 19,
   "metadata": {
    "vscode": {
     "languageId": "java"
    }
   },
   "outputs": [
    {
     "name": "stdout",
     "output_type": "stream",
     "text": [
      "┌────────────┬────────────┬───────────────┬─────────────────┬─────────────┬──────┬───┐\n",
      "│credit_score│last_updated│vector_distance│office_location  │job          │user  │age│\n",
      "├────────────┼────────────┼───────────────┼─────────────────┼─────────────┼──────┼───┤\n",
      "│high        │1742232589  │0.109129190445 │-122.0839,37.3861│engineer     │tyler │100│\n",
      "│high        │1739644189  │0.158808887005 │-122.0839,37.3861│dermatologist│tim   │12 │\n",
      "│low         │1742232589  │0.217881977558 │-122.0839,37.3861│CEO          │taimur│15 │\n",
      "│medium      │1742232589  │0.653301358223 │-122.0839,37.3861│dentist      │joe   │35 │\n",
      "└────────────┴────────────┴───────────────┴─────────────────┴─────────────┴──────┴───┘\n"
     ]
    }
   ],
   "source": [
    "// Geographic negation - NOT within 10 km of San Francisco\n",
    "Filter geoNotFilter = Filter.geo(\"office_location\")\n",
    "    .notRadius(-122.4194, 37.7749, 10, Filter.GeoUnit.KM);\n",
    "\n",
    "VectorQuery geoNotQuery = VectorQuery.builder()\n",
    "    .vector(new float[]{0.1f, 0.1f, 0.5f})\n",
    "    .field(\"user_embedding\")\n",
    "    .returnFields(\"user\", \"office_location\", \"job\", \"credit_score\", \"age\", \"last_updated\", \"vector_distance\")\n",
    "    .numResults(10)\n",
    "    .withPreFilter(geoNotFilter.build())\n",
    "    .build();\n",
    "\n",
    "List<Map<String, Object>> geoNotResults = index.query(geoNotQuery);\n",
    "resultPrint(geoNotResults);"
   ]
  },
  {
   "cell_type": "code",
   "execution_count": 20,
   "metadata": {
    "vscode": {
     "languageId": "java"
    }
   },
   "outputs": [
    {
     "name": "stdout",
     "output_type": "stream",
     "text": [
      "┌────────────┬────────────┬───────────────┬─────────────────┬─────────────┬───────┬───┐\n",
      "│credit_score│last_updated│vector_distance│office_location  │job          │user   │age│\n",
      "├────────────┼────────────┼───────────────┼─────────────────┼─────────────┼───────┼───┤\n",
      "│high        │1741627789  │0              │-122.4194,37.7749│engineer     │john   │18 │\n",
      "│low         │1741627789  │0              │-122.4194,37.7749│doctor       │derrick│14 │\n",
      "│high        │1710696589  │0.266666650772 │-122.4194,37.7749│doctor       │nancy  │94 │\n",
      "│high        │1742232589  │0.109129190445 │-122.0839,37.3861│engineer     │tyler  │100│\n",
      "│high        │1739644189  │0.158808887005 │-122.0839,37.3861│dermatologist│tim    │12 │\n",
      "│low         │1742232589  │0.217881977558 │-122.0839,37.3861│CEO          │taimur │15 │\n",
      "│medium      │1742232589  │0.653301358223 │-122.0839,37.3861│dentist      │joe    │35 │\n",
      "└────────────┴────────────┴───────────────┴─────────────────┴─────────────┴───────┴───┘\n"
     ]
    }
   ],
   "source": [
    "// Larger radius - within 100 km\n",
    "Filter largergeoFilter = Filter.geo(\"office_location\")\n",
    "    .radius(-122.4194, 37.7749, 100, Filter.GeoUnit.KM);\n",
    "\n",
    "VectorQuery largerGeoQuery = VectorQuery.builder()\n",
    "    .vector(new float[]{0.1f, 0.1f, 0.5f})\n",
    "    .field(\"user_embedding\")\n",
    "    .returnFields(\"user\", \"office_location\", \"job\", \"credit_score\", \"age\", \"last_updated\", \"vector_distance\")\n",
    "    .numResults(10)\n",
    "    .withPreFilter(largergeoFilter.build())\n",
    "    .build();\n",
    "\n",
    "List<Map<String, Object>> largerGeoResults = index.query(largerGeoQuery);\n",
    "resultPrint(largerGeoResults);"
   ]
  },
  {
   "cell_type": "code",
   "execution_count": 21,
   "metadata": {
    "vscode": {
     "languageId": "java"
    }
   },
   "outputs": [
    {
     "name": "stdout",
     "output_type": "stream",
     "text": [
      "┌────────────┬────────────┬───────────────┬─────────────────┬────────┬─────┬───┐\n",
      "│credit_score│last_updated│vector_distance│office_location  │job     │user │age│\n",
      "├────────────┼────────────┼───────────────┼─────────────────┼────────┼─────┼───┤\n",
      "│high        │1741627789  │0              │-122.4194,37.7749│engineer│john │18 │\n",
      "│high        │1710696589  │0.266666650772 │-122.4194,37.7749│doctor  │nancy│94 │\n",
      "│high        │1742232589  │0.109129190445 │-122.0839,37.3861│engineer│tyler│100│\n",
      "└────────────┴────────────┴───────────────┴─────────────────┴────────┴─────┴───┘\n"
     ]
    }
   ],
   "source": [
    "// Combine multiple filters with AND logic\n",
    "Filter creditFilter = Filter.tag(\"credit_score\", \"high\");\n",
    "Filter ageLowFilter = Filter.numeric(\"age\").gte(18);\n",
    "Filter ageHighFilter = Filter.numeric(\"age\").lte(100);\n",
    "\n",
    "// Combine using AND - all conditions must be true\n",
    "Filter combinedFilter = Filter.and(\n",
    "    creditFilter,\n",
    "    ageLowFilter,\n",
    "    ageHighFilter\n",
    ");\n",
    "\n",
    "VectorQuery combinedQuery = VectorQuery.builder()\n",
    "    .vector(new float[]{0.1f, 0.1f, 0.5f})\n",
    "    .field(\"user_embedding\")\n",
    "    .returnFields(\"user\", \"credit_score\", \"age\", \"job\", \"office_location\", \"last_updated\", \"vector_distance\")\n",
    "    .numResults(10)\n",
    "    .withPreFilter(combinedFilter.build())\n",
    "    .build();\n",
    "\n",
    "List<Map<String, Object>> combinedResults = index.query(combinedQuery);\n",
    "resultPrint(combinedResults);"
   ]
  },
  {
   "cell_type": "code",
   "execution_count": 22,
   "metadata": {
    "vscode": {
     "languageId": "java"
    }
   },
   "outputs": [
    {
     "name": "stdout",
     "output_type": "stream",
     "text": [
      "┌────────────┬────────────┬───────────────┬─────────────────┬────────┬─────┬───┐\n",
      "│credit_score│last_updated│vector_distance│office_location  │job     │user │age│\n",
      "├────────────┼────────────┼───────────────┼─────────────────┼────────┼─────┼───┤\n",
      "│high        │1741627789  │0              │-122.4194,37.7749│engineer│john │18 │\n",
      "│high        │1742232589  │0.109129190445 │-122.0839,37.3861│engineer│tyler│100│\n",
      "└────────────┴────────────┴───────────────┴─────────────────┴────────┴─────┴───┘\n"
     ]
    }
   ],
   "source": [
    "// Combine multiple filters with AND logic\n",
    "Filter creditFilter = Filter.tag(\"credit_score\", \"high\");\n",
    "Filter ageRangeFilter = Filter.numeric(\"age\").between(18, 100);\n",
    "Filter jobFilter = Filter.text(\"job\", \"engineer\");\n",
    "\n",
    "// Combine using AND - all conditions must be true\n",
    "Filter combinedFilter = Filter.and(\n",
    "    creditFilter,\n",
    "    ageRangeFilter,\n",
    "    jobFilter\n",
    ");\n",
    "\n",
    "VectorQuery combinedQuery = VectorQuery.builder()\n",
    "    .vector(new float[]{0.1f, 0.1f, 0.5f})\n",
    "    .field(\"user_embedding\")\n",
    "    .returnFields(\"user\", \"credit_score\", \"age\", \"job\", \"office_location\", \"last_updated\", \"vector_distance\")\n",
    "    .numResults(10)\n",
    "    .withPreFilter(combinedFilter.build())\n",
    "    .build();\n",
    "\n",
    "List<Map<String, Object>> combinedResults = index.query(combinedQuery);\n",
    "resultPrint(combinedResults);"
   ]
  },
  {
   "cell_type": "code",
   "execution_count": 23,
   "metadata": {
    "vscode": {
     "languageId": "java"
    }
   },
   "outputs": [
    {
     "name": "stdout",
     "output_type": "stream",
     "text": [
      "┌────────────┬────────────┬───────────────┬─────────────────┬─────────────┬───────┬───┐\n",
      "│credit_score│last_updated│vector_distance│office_location  │job          │user   │age│\n",
      "├────────────┼────────────┼───────────────┼─────────────────┼─────────────┼───────┼───┤\n",
      "│low         │1741627789  │0              │-122.4194,37.7749│doctor       │derrick│14 │\n",
      "│high        │1710696589  │0.266666650772 │-122.4194,37.7749│doctor       │nancy  │94 │\n",
      "│high        │1742232589  │0.109129190445 │-122.0839,37.3861│engineer     │tyler  │100│\n",
      "│high        │1739644189  │0.158808887005 │-122.0839,37.3861│dermatologist│tim    │12 │\n",
      "│low         │1742232589  │0.217881977558 │-122.0839,37.3861│CEO          │taimur │15 │\n",
      "└────────────┴────────────┴───────────────┴─────────────────┴─────────────┴───────┴───┘\n"
     ]
    }
   ],
   "source": [
    "// Combine filters with OR logic\n",
    "Filter youngFilter = Filter.numeric(\"age\").lt(18);\n",
    "Filter oldFilter = Filter.numeric(\"age\").gt(93);\n",
    "\n",
    "// Combine using OR - either condition can be true\n",
    "Filter orFilter = Filter.or(youngFilter, oldFilter);\n",
    "\n",
    "VectorQuery orQuery = VectorQuery.builder()\n",
    "    .vector(new float[]{0.1f, 0.1f, 0.5f})\n",
    "    .field(\"user_embedding\")\n",
    "    .returnFields(\"user\", \"age\", \"job\", \"credit_score\", \"office_location\", \"last_updated\", \"vector_distance\")\n",
    "    .numResults(10)\n",
    "    .withPreFilter(orFilter.build())\n",
    "    .build();\n",
    "\n",
    "List<Map<String, Object>> orResults = index.query(orQuery);\n",
    "resultPrint(orResults);"
   ]
  },
  {
   "cell_type": "code",
   "execution_count": 24,
   "metadata": {
    "vscode": {
     "languageId": "java"
    }
   },
   "outputs": [
    {
     "name": "stdout",
     "output_type": "stream",
     "text": [
      "┌────────────┬────────────┬───────────────┬─────────────────┬─────────────┬───────┬───┐\n",
      "│credit_score│last_updated│vector_distance│office_location  │job          │user   │age│\n",
      "├────────────┼────────────┼───────────────┼─────────────────┼─────────────┼───────┼───┤\n",
      "│high        │1741627789  │0              │-122.4194,37.7749│engineer     │john   │18 │\n",
      "│low         │1741627789  │0              │-122.4194,37.7749│doctor       │derrick│14 │\n",
      "│high        │1710696589  │0.266666650772 │-122.4194,37.7749│doctor       │nancy  │94 │\n",
      "│high        │1742232589  │0.109129190445 │-122.0839,37.3861│engineer     │tyler  │100│\n",
      "│high        │1739644189  │0.158808887005 │-122.0839,37.3861│dermatologist│tim    │12 │\n",
      "│low         │1742232589  │0.217881977558 │-122.0839,37.3861│CEO          │taimur │15 │\n",
      "└────────────┴────────────┴───────────────┴─────────────────┴─────────────┴───────┴───┘\n"
     ]
    }
   ],
   "source": [
    "// Combine filters with OR logic\n",
    "Filter youngFilter = Filter.numeric(\"age\").between(0, 18);\n",
    "Filter oldFilter = Filter.numeric(\"age\").between(93, 200);\n",
    "\n",
    "// Combine using OR - either condition can be true\n",
    "Filter orFilter = Filter.or(youngFilter, oldFilter);\n",
    "\n",
    "VectorQuery orQuery = VectorQuery.builder()\n",
    "    .vector(new float[]{0.1f, 0.1f, 0.5f})\n",
    "    .field(\"user_embedding\")\n",
    "    .returnFields(\"user\", \"age\", \"job\", \"credit_score\", \"office_location\", \"last_updated\", \"vector_distance\")\n",
    "    .numResults(10)\n",
    "    .withPreFilter(orFilter.build())\n",
    "    .build();\n",
    "\n",
    "List<Map<String, Object>> orResults = index.query(orQuery);\n",
    "resultPrint(orResults);"
   ]
  },
  {
   "cell_type": "markdown",
   "metadata": {},
   "source": [
    "## Non-vector Queries\n",
    "\n",
    "In some cases, you may not want to run a vector query, but just use a filter similar to a SQL query. RedisVL supports pure filter queries."
   ]
  },
  {
   "cell_type": "code",
   "execution_count": 25,
   "metadata": {
    "vscode": {
     "languageId": "java"
    }
   },
   "outputs": [
    {
     "name": "stdout",
     "output_type": "stream",
     "text": [
      "Pure filter query results (low credit): 2 documents\n",
      "  Document ID: user_queries_docs:derrick\n",
      "    credit_score: low\n",
      "    job: doctor\n",
      "    user: derrick\n",
      "\n",
      "  Document ID: user_queries_docs:taimur\n",
      "    credit_score: low\n",
      "    job: CEO\n",
      "    user: taimur\n",
      "\n"
     ]
    }
   ],
   "source": [
    "// Pure filter query without vector similarity\n",
    "Filter lowCreditFilter = Filter.tag(\"credit_score\", \"low\");\n",
    "\n",
    "SearchResult filterResult = index.search(lowCreditFilter.build());\n",
    "\n",
    "System.out.println(\"Pure filter query results (low credit): \" + filterResult.getTotalResults() + \" documents\");\n",
    "filterResult.getDocuments().forEach(doc -> {\n",
    "    System.out.println(\"  Document ID: \" + doc.getId());\n",
    "    doc.getProperties().forEach(prop -> {\n",
    "        if (\"user\".equals(prop.getKey()) || \"credit_score\".equals(prop.getKey()) || \"job\".equals(prop.getKey())) {\n",
    "            System.out.println(\"    \" + prop.getKey() + \": \" + prop.getValue());\n",
    "        }\n",
    "    });\n",
    "    System.out.println();\n",
    "});"
   ]
  },
  {
   "cell_type": "code",
   "execution_count": 26,
   "metadata": {
    "vscode": {
     "languageId": "java"
    }
   },
   "outputs": [
    {
     "name": "stdout",
     "output_type": "stream",
     "text": [
      "Vector Query String:\n",
      "  *=>[KNN $K @user_embedding $vec AS vector_distance]\n",
      "\n",
      "Tag Filter String:\n",
      "  @credit_score:{high}\n",
      "\n",
      "Raw query result count: 4\n"
     ]
    }
   ],
   "source": [
    "// Show query strings\n",
    "VectorQuery sampleQuery = VectorQuery.builder()\n",
    "    .vector(new float[]{0.1f, 0.1f, 0.5f})\n",
    "    .field(\"user_embedding\")\n",
    "    .returnFields(\"user\", \"job\")\n",
    "    .numResults(5)\n",
    "    .build();\n",
    "\n",
    "System.out.println(\"Vector Query String:\");\n",
    "System.out.println(\"  \" + sampleQuery.toQueryString());\n",
    "\n",
    "Filter tagQuery = Filter.tag(\"credit_score\", \"high\");\n",
    "System.out.println(\"\\nTag Filter String:\");\n",
    "System.out.println(\"  \" + tagQuery.build());\n",
    "\n",
    "// Execute raw query string\n",
    "SearchResult rawResult = index.search(tagQuery.build());\n",
    "System.out.println(\"\\nRaw query result count: \" + rawResult.getTotalResults());"
   ]
  },
  {
   "cell_type": "code",
   "execution_count": 27,
   "metadata": {},
   "outputs": [
    {
     "name": "stdout",
     "output_type": "stream",
     "text": [
      "2 records match the filter expression @credit_score:{low} for the given index.\n"
     ]
    }
   ],
   "source": [
    "// Import the CountQuery class\n",
    "import com.redis.vl.query.CountQuery;\n",
    "\n",
    "// Example matching Python notebook - count documents with low credit score\n",
    "Filter hasLowCredit = Filter.tag(\"credit_score\", \"low\");\n",
    "\n",
    "CountQuery filterQuery = new CountQuery(hasLowCredit);\n",
    "\n",
    "long count = index.count(filterQuery);\n",
    "\n",
    "System.out.println(count + \" records match the filter expression \" + hasLowCredit.build() + \" for the given index.\");"
   ]
  },
  {
   "cell_type": "markdown",
   "metadata": {},
   "source": [
    "## Count Queries\n",
    "\n",
    "In some cases, you may need to use a filter expression to execute a `CountQuery` that simply returns the count of the number of entities in the pertaining set. The `count()` method provides efficient server-side counting without retrieving the actual documents."
   ]
  },
  {
   "cell_type": "markdown",
   "metadata": {},
   "source": [
    "## Cleanup\n",
    "\n",
    "Clean up the index and close connections:"
   ]
  },
  {
   "cell_type": "code",
   "execution_count": 28,
   "metadata": {
    "vscode": {
     "languageId": "java"
    }
   },
   "outputs": [
    {
     "name": "stdout",
     "output_type": "stream",
     "text": [
      "Index deleted\n",
      "Redis connection closed\n"
     ]
    }
   ],
   "source": [
    "// Clean up\n",
    "index.delete(true);\n",
    "System.out.println(\"Index deleted\");\n",
    "\n",
    "// Close Redis connection\n",
    "jedis.close();\n",
    "System.out.println(\"Redis connection closed\");"
   ]
  },
  {
   "cell_type": "markdown",
   "metadata": {},
   "source": [
    "## Summary\n",
    "\n",
    "This notebook demonstrated advanced querying capabilities in RedisVL:\n",
    "\n",
    "1. **Tag Filters**: Exact matches on categorical fields\n",
    "2. **Numeric Filters**: Range and exact value filters on numeric fields\n",
    "3. **Text Filters**: Full-text search with exact, wildcard, and fuzzy matching\n",
    "4. **Geographic Filters**: Radius-based location filtering\n",
    "5. **Filter Combinations**: AND/OR logic for complex queries\n",
    "6. **Pure Filter Queries**: Traditional database-style queries without vector similarity\n",
    "7. **Raw Query Strings**: Direct Redis query execution\n",
    "\n",
    "These hybrid query capabilities make RedisVL a powerful tool for building sophisticated search applications that combine traditional database operations with vector similarity search."
   ]
  }
 ],
 "metadata": {
  "kernelspec": {
   "display_name": "Java",
   "language": "java",
   "name": "java"
  },
  "language_info": {
   "codemirror_mode": "java",
   "file_extension": ".jshell",
   "mimetype": "text/x-java-source",
   "name": "Java",
   "pygments_lexer": "java",
   "version": "21.0.8+9-Ubuntu-0ubuntu124.04.1"
  }
 },
 "nbformat": 4,
 "nbformat_minor": 4
}
