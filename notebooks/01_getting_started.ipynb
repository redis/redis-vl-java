{
 "cells": [
  {
   "cell_type": "markdown",
   "id": "e144e37c",
   "metadata": {},
   "source": [
    "# Getting Started with RedisVL\n",
    "`RedisVL` is a versatile Java library designed to enhance AI applications using Redis. This guide will walk you through the following steps:\n",
    "\n",
    "1. Defining an `IndexSchema`\n",
    "2. Preparing a sample dataset\n",
    "3. Creating a `SearchIndex` object\n",
    "4. Loading the sample data\n",
    "5. Building `VectorQuery` objects and executing searches\n",
    "6. Updating a `SearchIndex` object\n",
    "\n",
    "...and more!\n",
    "\n",
    "Prerequisites:\n",
    "- Ensure `RedisVL` is installed in your Java environment.\n",
    "- Have a running instance of [Redis Stack](https://redis.io/docs/install/install-stack/) or [Redis Cloud](https://redis.io/cloud).\n",
    "\n",
    "_____"
   ]
  },
  {
   "cell_type": "code",
   "execution_count": 1,
   "id": "8d0f3a9e",
   "metadata": {
    "vscode": {
     "languageId": "java"
    }
   },
   "outputs": [],
   "source": [
    "// Load Maven dependencies\n",
    "%maven redis.clients:jedis:6.2.0\n",
    "%maven org.slf4j:slf4j-nop:2.0.16\n",
    "%maven com.fasterxml.jackson.core:jackson-databind:2.18.0\n",
    "%maven com.fasterxml.jackson.dataformat:jackson-dataformat-yaml:2.18.0\n",
    "%maven com.github.f4b6a3:ulid-creator:5.2.3\n",
    "\n",
    "// Import RedisVL classes\n",
    "import com.redis.vl.index.SearchIndex;\n",
    "import com.redis.vl.schema.IndexSchema;\n",
    "import com.redis.vl.query.VectorQuery;\n",
    "\n",
    "// Import Redis client\n",
    "import redis.clients.jedis.UnifiedJedis;\n",
    "import redis.clients.jedis.HostAndPort;\n",
    "\n",
    "// Import ULID generator\n",
    "import com.github.f4b6a3.ulid.UlidCreator;\n",
    "\n",
    "// Import Java standard libraries\n",
    "import java.util.*;\n",
    "import java.nio.*;"
   ]
  },
  {
   "cell_type": "markdown",
   "id": "4641aa72",
   "metadata": {},
   "source": [
    "## Define an `IndexSchema`\n",
    "\n",
    "The `IndexSchema` maintains crucial **index configuration** and **field definitions** to\n",
    "enable search with Redis. For ease of use, the schema can be constructed from a\n",
    "Java Map or YAML file.\n",
    "\n",
    "### Example Schema Creation\n",
    "Consider a dataset with user information, including `job`, `age`, `credit_score`,\n",
    "and a 3-dimensional `user_embedding` vector.\n",
    "\n",
    "You must also decide on a Redis index name and key prefix to use for this\n",
    "dataset. Below are example schema definitions in both YAML and Dict format.\n",
    "\n",
    "**YAML Definition:**\n",
    "\n",
    "```yaml\n",
    "version: '0.1.0'\n",
    "\n",
    "index:\n",
    "  name: user_simple\n",
    "  prefix: user_simple_docs\n",
    "\n",
    "fields:\n",
    "    - name: user\n",
    "      type: tag\n",
    "    - name: credit_score\n",
    "      type: tag\n",
    "    - name: job\n",
    "      type: text\n",
    "    - name: age\n",
    "      type: numeric\n",
    "    - name: user_embedding\n",
    "      type: vector\n",
    "      attrs:\n",
    "        algorithm: flat\n",
    "        dims: 3\n",
    "        distance_metric: cosine\n",
    "        datatype: float32\n",
    "```\n",
    "> Store this in a local file, such as `schema.yaml`, for RedisVL usage."
   ]
  },
  {
   "cell_type": "markdown",
   "id": "6abff2cb",
   "metadata": {},
   "source": [
    "**Java Dictionary:**"
   ]
  },
  {
   "cell_type": "code",
   "execution_count": 2,
   "id": "b80785ce",
   "metadata": {
    "vscode": {
     "languageId": "java"
    }
   },
   "outputs": [
    {
     "name": "stdout",
     "output_type": "stream",
     "text": [
      "Schema created with 5 fields\n"
     ]
    }
   ],
   "source": [
    "Map<String,Object> schema = Map.<String, Object>of(\n",
    "  \"index\", Map.of(\n",
    "    \"name\", \"user_simple\",\n",
    "    \"prefix\", \"user_simple_docs\"\n",
    "  ),\n",
    "  \"fields\", List.of(\n",
    "    Map.of(\"name\", \"user\", \"type\", \"tag\"),\n",
    "    Map.of(\"name\", \"credit_score\", \"type\", \"tag\"),\n",
    "    Map.of(\"name\", \"job\", \"type\", \"text\"),\n",
    "    Map.of(\"name\", \"age\", \"type\", \"numeric\"),\n",
    "    Map.of(\n",
    "      \"name\", \"user_embedding\",\n",
    "      \"type\", \"vector\",\n",
    "      \"attrs\", Map.of(\n",
    "        \"dims\", 3,\n",
    "        \"distance_metric\", \"cosine\",\n",
    "        \"algorithm\", \"flat\",\n",
    "        \"datatype\", \"float32\"\n",
    "      )\n",
    "    )\n",
    "  )\n",
    ");\n",
    "\n",
    "// (optional) count fields\n",
    "int count = ((List<?>) schema.get(\"fields\")).size();\n",
    "System.out.println(\"Schema created with \" + count + \" fields\");"
   ]
  },
  {
   "cell_type": "markdown",
   "id": "9d6c0d8e",
   "metadata": {},
   "source": [
    "## Sample Dataset Preparation\n",
    "\n",
    "Below, create a mock dataset with `user`, `job`, `age`, `credit_score`, and\n",
    "`user_embedding` fields. The `user_embedding` vectors are synthetic examples\n",
    "for demonstration purposes.\n",
    "\n",
    "For more information on creating real-world embeddings, refer to this\n",
    "[article](https://mlops.community/vector-similarity-search-from-basics-to-production/)."
   ]
  },
  {
   "cell_type": "code",
   "execution_count": 3,
   "id": "db2413b9",
   "metadata": {
    "vscode": {
     "languageId": "java"
    }
   },
   "outputs": [],
   "source": [
    "List<Map<String, Object>> data = List.<Map<String, Object>>of(\n",
    "  Map.of(\n",
    "    \"user\", \"john\",\n",
    "    \"age\", 1,\n",
    "    \"job\", \"engineer\",\n",
    "    \"credit_score\", \"high\",\n",
    "    \"user_embedding\", new float[]{0.1f, 0.1f, 0.5f}\n",
    "  ),\n",
    "  Map.of(\n",
    "    \"user\", \"mary\",\n",
    "    \"age\", 2,\n",
    "    \"job\", \"doctor\",\n",
    "    \"credit_score\", \"low\",\n",
    "    \"user_embedding\", new float[]{0.1f, 0.1f, 0.5f}\n",
    "  ),\n",
    "  Map.of(\n",
    "    \"user\", \"joe\",\n",
    "    \"age\", 3,\n",
    "    \"job\", \"dentist\",\n",
    "    \"credit_score\", \"medium\",\n",
    "    \"user_embedding\", new float[]{0.9f, 0.9f, 0.1f}\n",
    "  )\n",
    ");"
   ]
  },
  {
   "cell_type": "markdown",
   "id": "16e5d431",
   "metadata": {},
   "source": [
    ">As seen above, the sample `user_embedding` vectors are provided as float arrays. The RedisVL framework automatically handles the conversion to bytes when storing in Redis."
   ]
  },
  {
   "cell_type": "markdown",
   "id": "da5eef62",
   "metadata": {},
   "source": [
    "## Create a `SearchIndex`\n",
    "\n",
    "With the schema and sample dataset ready, create a `SearchIndex`."
   ]
  },
  {
   "cell_type": "markdown",
   "id": "9c7e0556",
   "metadata": {},
   "source": [
    "### Bring your own Redis connection instance\n",
    "\n",
    "This is ideal in scenarios where you have custom settings on the connection instance or if your application will share a connection pool:"
   ]
  },
  {
   "cell_type": "code",
   "execution_count": 4,
   "id": "603dc240",
   "metadata": {
    "vscode": {
     "languageId": "java"
    }
   },
   "outputs": [
    {
     "name": "stderr",
     "output_type": "stream",
     "text": [
      "SLF4J: Failed to load class \"org.slf4j.impl.StaticLoggerBinder\".\n",
      "SLF4J: Defaulting to no-operation (NOP) logger implementation\n",
      "SLF4J: See http://www.slf4j.org/codes.html#StaticLoggerBinder for further details.\n"
     ]
    }
   ],
   "source": [
    "// Connect to Redis\n",
    "UnifiedJedis client = new UnifiedJedis(new HostAndPort(\"redis-stack\", 6379));\n",
    "\n",
    "// Create SearchIndex from schema (validateOnLoad is true by default)\n",
    "SearchIndex index = SearchIndex.fromDict(schema, client);\n",
    "\n",
    "// Or explicitly enable validation\n",
    "// SearchIndex index = SearchIndex.fromDict(schema, client, true);"
   ]
  },
  {
   "cell_type": "markdown",
   "id": "036ff507",
   "metadata": {},
   "source": [
    "### Let the index manage the connection instance\n",
    "\n",
    "You can also pass a Redis URL string directly to the SearchIndex, and it will manage the connection for you:"
   ]
  },
  {
   "cell_type": "code",
   "execution_count": 5,
   "id": "mv1vdixzgjj",
   "metadata": {},
   "outputs": [
    {
     "name": "stdout",
     "output_type": "stream",
     "text": [
      "Created indices with URL-based connection\n"
     ]
    }
   ],
   "source": [
    "// Create SearchIndex with Redis URL - the index will manage the connection\n",
    "SearchIndex indexWithUrl = SearchIndex.fromDict(schema, \"redis://redis-stack:6379\");\n",
    "\n",
    "// Or with validateOnLoad option enabled\n",
    "SearchIndex indexWithValidation = SearchIndex.fromDict(schema, \"redis://redis-stack:6379\", true);\n",
    "\n",
    "System.out.println(\"Created indices with URL-based connection\");"
   ]
  },
  {
   "cell_type": "markdown",
   "id": "m4dho2buog",
   "metadata": {},
   "source": [
    "### Create the index\n",
    "\n",
    "Now that we are connected to Redis, we need to run the create command."
   ]
  },
  {
   "cell_type": "code",
   "execution_count": 6,
   "id": "d848dabb",
   "metadata": {
    "vscode": {
     "languageId": "java"
    }
   },
   "outputs": [],
   "source": [
    "index.create(true); // overwrite=True"
   ]
  },
  {
   "cell_type": "markdown",
   "id": "7f138fcd",
   "metadata": {},
   "source": [
    ">Note that at this point, the index has no entries. Data loading follows."
   ]
  },
  {
   "cell_type": "markdown",
   "id": "ba3dcf0f",
   "metadata": {},
   "source": [
    "## Load Data to `SearchIndex`\n",
    "\n",
    "Load the sample dataset to Redis.\n",
    "\n",
    "### Validate data entries on load\n",
    "RedisVL uses built-in validation to ensure loaded data is valid and conforms to your schema. This validation happens automatically during load operations when the index is created with `validateOnLoad` enabled (which is the default behavior)."
   ]
  },
  {
   "cell_type": "code",
   "execution_count": 7,
   "id": "pcexez2r69j",
   "metadata": {},
   "outputs": [
    {
     "name": "stdout",
     "output_type": "stream",
     "text": [
      "Validation enabled: false\n",
      "Index name: user_simple\n",
      "Index prefix: user_simple_docs\n"
     ]
    }
   ],
   "source": [
    "// The SearchIndex automatically validates data during load operations\n",
    "// Let's verify validation is enabled on our index\n",
    "System.out.println(\"Validation enabled: \" + index.isValidateOnLoad());\n",
    "System.out.println(\"Index name: \" + index.getName());\n",
    "System.out.println(\"Index prefix: \" + index.getPrefix());"
   ]
  },
  {
   "cell_type": "code",
   "execution_count": 8,
   "id": "7ecc00e4",
   "metadata": {
    "vscode": {
     "languageId": "java"
    }
   },
   "outputs": [
    {
     "name": "stdout",
     "output_type": "stream",
     "text": [
      "[user_simple_docs:01K70ZR1PYMQFQ737CTSDCMAP5, user_simple_docs:01K70ZR1PY414PXY73W2AEANE7, user_simple_docs:01K70ZR1PYZZTV2QSHM4DJYB89]\n"
     ]
    }
   ],
   "source": [
    "// Load data with automatic ULID generation\n",
    "List<String> keys = index.load(data);\n",
    "System.out.println(keys);"
   ]
  },
  {
   "cell_type": "markdown",
   "id": "1c395760",
   "metadata": {},
   "source": [
    ">By default, `load` will create a unique Redis key as a combination of the index key `prefix` and a random ULID. You can also customize the key by providing direct keys or pointing to a specified `id_field` on load."
   ]
  },
  {
   "cell_type": "markdown",
   "id": "481a5712",
   "metadata": {},
   "source": [
    "### Upsert the index with new data\n",
    "Upsert data by using the `load` method again:"
   ]
  },
  {
   "cell_type": "markdown",
   "id": "zco0hikszbp",
   "metadata": {},
   "source": [
    "### Load INVALID data\n",
    "This will raise a validation error since RedisVL now validates data against the schema automatically during load operations."
   ]
  },
  {
   "cell_type": "code",
   "execution_count": 9,
   "id": "x77eci4ptla",
   "metadata": {
    "vscode": {
     "languageId": "java"
    }
   },
   "outputs": [
    {
     "name": "stdout",
     "output_type": "stream",
     "text": [
      "Data validation failed during load operation\n",
      "Schema validation failed for field 'user_embedding'. Field expects bytes (vector data), but got Boolean value 'true'. If this should be a vector field, provide a list of numbers or bytes.\n"
     ]
    }
   ],
   "source": [
    "// Try to load invalid data - this should fail during the addDocument operation\n",
    "try {\n",
    "    Map<String, Object> invalidDoc = new HashMap<>();\n",
    "    invalidDoc.put(\"user_embedding\", true); // Wrong type - should be byte[], float[], or double[]\n",
    "\n",
    "    String invalidKey = index.getPrefix() + \":invalid\";\n",
    "    index.addDocument(invalidKey, invalidDoc);\n",
    "\n",
    "    System.out.println(\"Validation passed (shouldn't happen)\");\n",
    "} catch (Exception e) {\n",
    "    System.out.println(\"Data validation failed during load operation\");\n",
    "    System.out.println(e.getMessage());\n",
    "}"
   ]
  },
  {
   "cell_type": "markdown",
   "id": "a334561b-b4cd-44e9-af04-926cdebaa07c",
   "metadata": {},
   "source": [
    "### Upsert the index with new data\n",
    "Upsert data by using the `load` method again:"
   ]
  },
  {
   "cell_type": "code",
   "execution_count": 10,
   "id": "55dbf777",
   "metadata": {
    "vscode": {
     "languageId": "java"
    }
   },
   "outputs": [
    {
     "name": "stdout",
     "output_type": "stream",
     "text": [
      "[user_simple_docs:01K70ZR1WATEXBRXMSNFVP4GCH]\n"
     ]
    }
   ],
   "source": [
    "// Add more data using the simplified load method\n",
    "var newData = Map.<String, Object>of(\n",
    "  \"user\", \"tyler\",\n",
    "  \"age\", 9,\n",
    "  \"job\", \"engineer\",\n",
    "  \"credit_score\", \"high\",\n",
    "  \"user_embedding\", new float[]{0.1f, 0.3f, 0.5f}\n",
    ");\n",
    "\n",
    "// Load a single document with automatic ULID generation\n",
    "var keys = index.load(List.of(newData));\n",
    "System.out.println(keys);"
   ]
  },
  {
   "cell_type": "markdown",
   "id": "c212ccc8",
   "metadata": {},
   "source": [
    "## Creating `VectorQuery` Objects\n",
    "\n",
    "Next we will create a vector query object for our newly populated index. This example will use a simple vector to demonstrate how vector similarity works. Vectors in production will likely be much larger than 3 floats and often require Machine Learning models (i.e. Huggingface sentence transformers) or an embeddings API (Cohere, OpenAI)."
   ]
  },
  {
   "cell_type": "code",
   "execution_count": 11,
   "id": "536c6fa6",
   "metadata": {
    "vscode": {
     "languageId": "java"
    }
   },
   "outputs": [],
   "source": [
    "VectorQuery query = VectorQuery.builder()\n",
    "    .vector(new float[]{0.1f, 0.1f, 0.5f})\n",
    "    .field(\"user_embedding\")\n",
    "    .returnFields(\"user\", \"age\", \"job\", \"credit_score\", \"vector_distance\")\n",
    "    .numResults(3)\n",
    "    .build();"
   ]
  },
  {
   "cell_type": "markdown",
   "id": "0d8807ee",
   "metadata": {},
   "source": [
    "### Executing queries\n",
    "With our `VectorQuery` object defined above, we can execute the query over the `SearchIndex` using the `query` method."
   ]
  },
  {
   "cell_type": "code",
   "execution_count": 12,
   "id": "b6f79921",
   "metadata": {
    "vscode": {
     "languageId": "java"
    }
   },
   "outputs": [
    {
     "name": "stdout",
     "output_type": "stream",
     "text": [
      "{credit_score=high, score=1.0, vector_distance=0, user_embedding=���=���=\u0000\u0000\u0000?, id=user_simple_docs:01K70ZR1PYMQFQ737CTSDCMAP5, job=engineer, user=john, age=1}\n",
      "{credit_score=low, score=1.0, vector_distance=0, user_embedding=���=���=\u0000\u0000\u0000?, id=user_simple_docs:01K70ZR1PY414PXY73W2AEANE7, job=doctor, user=mary, age=2}\n",
      "{credit_score=high, score=1.0, vector_distance=0.0566298961639, user_embedding=���=���>\u0000\u0000\u0000?, id=user_simple_docs:01K70ZR1WATEXBRXMSNFVP4GCH, job=engineer, user=tyler, age=9}\n"
     ]
    }
   ],
   "source": [
    "List<Map<String, Object>> results = index.query(query);\n",
    "\n",
    "// Display results\n",
    "for (Map<String, Object> result : results) {\n",
    "    System.out.println(result);\n",
    "}"
   ]
  },
  {
   "cell_type": "markdown",
   "id": "33a73600",
   "metadata": {},
   "source": [
    "## Updating a schema\n",
    "In some scenarios, it makes sense to update the index schema. With Redis and `RedisVL`, this is easy because Redis can keep the underlying data in place while you change or make updates to the index configuration."
   ]
  },
  {
   "cell_type": "markdown",
   "id": "b441f105",
   "metadata": {},
   "source": [
    "So for our scenario, let's imagine we want to reindex this data in 2 ways:\n",
    "- by using a `Tag` type for `job` field instead of `Text`\n",
    "- by using an `hnsw` vector index for the `user_embedding` field instead of a `flat` vector index"
   ]
  },
  {
   "cell_type": "code",
   "execution_count": 13,
   "id": "257988c9",
   "metadata": {
    "vscode": {
     "languageId": "java"
    }
   },
   "outputs": [],
   "source": [
    "// Modify the schema to have what we want\n",
    "// First remove the fields we want to change\n",
    "index.getSchema().removeField(\"job\");\n",
    "index.getSchema().removeField(\"user_embedding\");\n",
    "\n",
    "// Then add them back with new types\n",
    "index.getSchema().addFields(List.of(\n",
    "    Map.of(\"name\", \"job\", \"type\", \"tag\"),       // changed text -> tag\n",
    "    Map.of(                                      // HNSW vector field\n",
    "      \"name\", \"user_embedding\",\n",
    "      \"type\", \"vector\",\n",
    "      \"attrs\", Map.of(\n",
    "        \"dims\", 3,\n",
    "        \"distance_metric\", \"cosine\",\n",
    "        \"algorithm\", \"hnsw\",                     // flat -> hnsw\n",
    "        \"datatype\", \"float32\"\n",
    "      )\n",
    "    )\n",
    "));\n",
    "\n",
    "// Run the index update but keep underlying data in place\n",
    "index.create(true, false); // overwrite=true, drop=false"
   ]
  },
  {
   "cell_type": "code",
   "execution_count": 14,
   "id": "6a1d5e07",
   "metadata": {
    "vscode": {
     "languageId": "java"
    }
   },
   "outputs": [
    {
     "name": "stdout",
     "output_type": "stream",
     "text": [
      "{credit_score=low, score=1.0, vector_distance=0, user_embedding=���=���=\u0000\u0000\u0000?, id=user_simple_docs:01K70ZR1PY414PXY73W2AEANE7, job=doctor, user=mary, age=2}\n",
      "{credit_score=high, score=1.0, vector_distance=0, user_embedding=���=���=\u0000\u0000\u0000?, id=user_simple_docs:01K70ZR1PYMQFQ737CTSDCMAP5, job=engineer, user=john, age=1}\n",
      "{credit_score=high, score=1.0, vector_distance=0.0566298961639, user_embedding=���=���>\u0000\u0000\u0000?, id=user_simple_docs:01K70ZR1WATEXBRXMSNFVP4GCH, job=engineer, user=tyler, age=9}\n"
     ]
    }
   ],
   "source": [
    "// Execute the vector query with updated schema\n",
    "results = index.query(query);\n",
    "\n",
    "// Display results\n",
    "for (Map<String, Object> result : results) {\n",
    "    System.out.println(result);\n",
    "}"
   ]
  },
  {
   "cell_type": "markdown",
   "id": "779c6qojdp7",
   "metadata": {},
   "source": [
    "## Loading Schema from YAML File\n",
    "\n",
    "RedisVL also supports loading schemas from YAML files for convenience, similar to the Python version:"
   ]
  },
  {
   "cell_type": "code",
   "execution_count": 15,
   "id": "vklt969fu3",
   "metadata": {
    "vscode": {
     "languageId": "java"
    }
   },
   "outputs": [
    {
     "name": "stdout",
     "output_type": "stream",
     "text": [
      "Created schema.yaml file\n",
      "Loaded schema from YAML: user_simple_yaml\n",
      "Created index from YAML schema\n"
     ]
    }
   ],
   "source": [
    "// First, let's create a YAML schema file (matching the YAML from the beginning)\n",
    "String yamlSchema = \"\"\"\n",
    "version: '0.1.0'\n",
    "\n",
    "index:\n",
    "  name: user_simple_yaml\n",
    "  prefix: user_simple_yaml_docs\n",
    "\n",
    "fields:\n",
    "    - name: user\n",
    "      type: tag\n",
    "    - name: credit_score\n",
    "      type: tag\n",
    "    - name: job\n",
    "      type: text\n",
    "    - name: age\n",
    "      type: numeric\n",
    "    - name: user_embedding\n",
    "      type: vector\n",
    "      attrs:\n",
    "        algorithm: flat\n",
    "        dims: 3\n",
    "        distance_metric: cosine\n",
    "        datatype: float32\n",
    "\"\"\";\n",
    "\n",
    "// Write the YAML to a file\n",
    "try (java.io.FileWriter writer = new java.io.FileWriter(\"schema.yaml\")) {\n",
    "    writer.write(yamlSchema);\n",
    "    System.out.println(\"Created schema.yaml file\");\n",
    "} catch (java.io.IOException e) {\n",
    "    System.err.println(\"Error writing schema file: \" + e.getMessage());\n",
    "}\n",
    "\n",
    "// Load schema from YAML file\n",
    "IndexSchema schemaFromYaml = IndexSchema.fromYamlFile(\"schema.yaml\");\n",
    "System.out.println(\"Loaded schema from YAML: \" + schemaFromYaml.getName());\n",
    "\n",
    "// Create an index from the YAML schema\n",
    "SearchIndex yamlIndex = new SearchIndex(schemaFromYaml, client);\n",
    "yamlIndex.create(true);\n",
    "System.out.println(\"Created index from YAML schema\");"
   ]
  },
  {
   "cell_type": "markdown",
   "id": "b808ccce",
   "metadata": {},
   "source": [
    "## Cleanup"
   ]
  },
  {
   "cell_type": "markdown",
   "id": "806974b6",
   "metadata": {},
   "source": [
    "Below we will clean up after our work. First, you can flush all data from Redis associated with the index by\n",
    "using the `.clear()` method. This will leave the secondary index in place for future insertions or updates.\n",
    "\n",
    "But if you want to clean up everything, including the index, just use `.delete()`\n",
    "which will by default remove the index AND the underlying data."
   ]
  },
  {
   "cell_type": "code",
   "execution_count": 16,
   "id": "8d97df3c",
   "metadata": {
    "vscode": {
     "languageId": "java"
    }
   },
   "outputs": [
    {
     "name": "stdout",
     "output_type": "stream",
     "text": [
      "4\n"
     ]
    }
   ],
   "source": [
    "// Clear all data from Redis associated with the index\n",
    "int cleared = index.clear();\n",
    "System.out.println(cleared);"
   ]
  },
  {
   "cell_type": "code",
   "execution_count": 17,
   "id": "2042c910",
   "metadata": {
    "vscode": {
     "languageId": "java"
    }
   },
   "outputs": [
    {
     "name": "stdout",
     "output_type": "stream",
     "text": [
      "true\n"
     ]
    }
   ],
   "source": [
    "// But the index is still in place\n",
    "System.out.println(index.exists());"
   ]
  },
  {
   "cell_type": "code",
   "execution_count": 18,
   "id": "8454aebd",
   "metadata": {
    "vscode": {
     "languageId": "java"
    }
   },
   "outputs": [
    {
     "name": "stdout",
     "output_type": "stream",
     "text": [
      "All indices deleted\n",
      "Redis connection closed\n"
     ]
    }
   ],
   "source": [
    "// Remove / delete the index in its entirety\n",
    "index.delete(true);\n",
    "\n",
    "// Also clean up the YAML-based index\n",
    "yamlIndex.delete(true);\n",
    "\n",
    "System.out.println(\"All indices deleted\");\n",
    "\n",
    "// Close the Redis connection\n",
    "client.close();\n",
    "System.out.println(\"Redis connection closed\");"
   ]
  },
  {
   "cell_type": "code",
   "execution_count": null,
   "id": "df1ce6ab-9df2-4f8d-8a4c-8ee8f44baf10",
   "metadata": {
    "vscode": {
     "languageId": "java"
    }
   },
   "outputs": [],
   "source": []
  }
 ],
 "metadata": {
  "kernelspec": {
   "display_name": "Java",
   "language": "java",
   "name": "java"
  },
  "language_info": {
   "codemirror_mode": "java",
   "file_extension": ".jshell",
   "mimetype": "text/x-java-source",
   "name": "Java",
   "pygments_lexer": "java",
   "version": "21.0.8+9-Ubuntu-0ubuntu124.04.1"
  }
 },
 "nbformat": 4,
 "nbformat_minor": 5
}
