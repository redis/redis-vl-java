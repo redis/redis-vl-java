{
 "cells": [
  {
   "cell_type": "markdown",
   "metadata": {},
   "source": [
    "# Hash vs JSON Storage\n",
    "\n",
    "Out of the box, Redis provides a [variety of data structures](https://redis.com/redis-enterprise/data-structures/) that can adapt to your domain specific applications and use cases.\n",
    "In this notebook, we will demonstrate how to use RedisVL4J with both [Hash](https://redis.io/docs/data-types/hashes/) and [JSON](https://redis.io/docs/data-types/json/) data.\n",
    "\n",
    "Before running this notebook, be sure to:\n",
    "1. Have installed RedisVL4J and have that environment active for this notebook.\n",
    "2. Have a running Redis Stack or Redis Enterprise instance with RediSearch > 2.4 activated.\n",
    "\n",
    "For example, you can run [Redis Stack](https://redis.io/docs/install/install-stack/) locally with Docker:\n",
    "\n",
    "```bash\n",
    "docker run -d -p 6379:6379 -p 8001:8001 redis/redis-stack:latest\n",
    "```\n",
    "\n",
    "Or create a [FREE Redis Cloud](https://redis.io/cloud)."
   ]
  },
  {
   "cell_type": "code",
   "execution_count": 1,
   "metadata": {
    "vscode": {
     "languageId": "java"
    }
   },
   "outputs": [
    {
     "name": "stdout",
     "output_type": "stream",
     "text": [
      "Libraries imported successfully!\n"
     ]
    }
   ],
   "source": [
    "// Load Maven dependencies\n",
    "%maven redis.clients:jedis:5.2.0\n",
    "%maven org.slf4j:slf4j-nop:2.0.16\n",
    "%maven com.fasterxml.jackson.core:jackson-databind:2.18.0\n",
    "%maven com.fasterxml.jackson.dataformat:jackson-dataformat-yaml:2.18.0\n",
    "%maven net.razorvine:pickle:1.4\n",
    "%maven de.vandermeer:asciitable:0.3.2\n",
    "%maven com.github.f4b6a3:ulid-creator:5.2.3\n",
    "\n",
    "// Add LangChain4J dependencies for embeddings\n",
    "%maven dev.langchain4j:langchain4j-embeddings:0.36.2\n",
    "%maven dev.langchain4j:langchain4j-embeddings-all-minilm-l6-v2:0.36.2\n",
    "\n",
    "// Import RedisVL4J classes\n",
    "import com.redis.vl.index.SearchIndex;\n",
    "import com.redis.vl.schema.IndexSchema;\n",
    "import com.redis.vl.query.VectorQuery;\n",
    "import com.redis.vl.query.Filter;\n",
    "\n",
    "// Import Redis client\n",
    "import redis.clients.jedis.UnifiedJedis;\n",
    "import redis.clients.jedis.HostAndPort;\n",
    "import redis.clients.jedis.search.SearchResult;\n",
    "\n",
    "// Import pickle library\n",
    "import net.razorvine.pickle.Unpickler;\n",
    "\n",
    "// Import ASCII Table\n",
    "import de.vandermeer.asciitable.AsciiTable;\n",
    "import de.vandermeer.asciitable.CWC_LongestLine;\n",
    "\n",
    "// Import ULID generator\n",
    "import com.github.f4b6a3.ulid.UlidCreator;\n",
    "\n",
    "// Import LangChain4J for embeddings\n",
    "import dev.langchain4j.data.embedding.Embedding;\n",
    "import dev.langchain4j.model.embedding.EmbeddingModel;\n",
    "import dev.langchain4j.model.embedding.onnx.allminilml6v2.AllMiniLmL6V2EmbeddingModel;\n",
    "\n",
    "// Import Java standard libraries\n",
    "import java.util.*;\n",
    "import java.nio.*;\n",
    "import java.io.*;\n",
    "\n",
    "System.out.println(\"Libraries imported successfully!\");"
   ]
  },
  {
   "cell_type": "code",
   "execution_count": 2,
   "metadata": {
    "vscode": {
     "languageId": "java"
    }
   },
   "outputs": [
    {
     "name": "stderr",
     "output_type": "stream",
     "text": [
      "SLF4J: Failed to load class \"org.slf4j.impl.StaticLoggerBinder\".\n",
      "SLF4J: Defaulting to no-operation (NOP) logger implementation\n",
      "SLF4J: See http://www.slf4j.org/codes.html#StaticLoggerBinder for further details.\n"
     ]
    },
    {
     "name": "stdout",
     "output_type": "stream",
     "text": [
      "Embedding model initialized: AllMiniLmL6V2\n",
      "This model generates 384-dimensional embeddings\n"
     ]
    }
   ],
   "source": [
    "// Initialize the embedding model\n",
    "// Using AllMiniLmL6V2 which is similar to the Python's all-mpnet-base-v2\n",
    "// Both are sentence transformer models suitable for semantic similarity\n",
    "EmbeddingModel embeddingModel = new AllMiniLmL6V2EmbeddingModel();\n",
    "\n",
    "System.out.println(\"Embedding model initialized: AllMiniLmL6V2\");\n",
    "System.out.println(\"This model generates 384-dimensional embeddings\");"
   ]
  },
  {
   "cell_type": "code",
   "execution_count": 3,
   "metadata": {
    "vscode": {
     "languageId": "java"
    }
   },
   "outputs": [
    {
     "name": "stdout",
     "output_type": "stream",
     "text": [
      "Sample data loaded from pickle file with 7 users\n",
      "\n",
      "Loaded data:\n",
      "┌───────┬───┬─────────────┬────────────┬─────────────────┬──────────────┬────────────┐\n",
      "│User   │Age│Job          │Credit Score│Office Location  │User Embedding│Last Updated│\n",
      "├───────┼───┼─────────────┼────────────┼─────────────────┼──────────────┼────────────┤\n",
      "│john   │18 │engineer     │high        │-122.4194,37.7749│<12 bytes>    │1741627789  │\n",
      "│derrick│14 │doctor       │low         │-122.4194,37.7749│<12 bytes>    │1741627789  │\n",
      "│nancy  │94 │doctor       │high        │-122.4194,37.7749│<12 bytes>    │1710696589  │\n",
      "│tyler  │100│engineer     │high        │-122.0839,37.3861│<12 bytes>    │1742232589  │\n",
      "│tim    │12 │dermatologist│high        │-122.0839,37.3861│<12 bytes>    │1739644189  │\n",
      "│taimur │15 │CEO          │low         │-122.0839,37.3861│<12 bytes>    │1742232589  │\n",
      "│joe    │35 │dentist      │medium      │-122.0839,37.3861│<12 bytes>    │1742232589  │\n",
      "└───────┴───┴─────────────┴────────────┴─────────────────┴──────────────┴────────────┘\n"
     ]
    }
   ],
   "source": [
    "// Load data from pickle file\n",
    "Unpickler unpickler = new Unpickler();\n",
    "List<Map<String, Object>> data;\n",
    "\n",
    "try {\n",
    "    FileInputStream fileInputStream = new FileInputStream(\"resources/hybrid_example_data.pkl\");\n",
    "    data = (List<Map<String, Object>>) unpickler.load(fileInputStream);\n",
    "    fileInputStream.close();\n",
    "\n",
    "    System.out.println(\"Sample data loaded from pickle file with \" + data.size() + \" users\");\n",
    "\n",
    "} catch (Exception e) {\n",
    "    System.err.println(\"Error loading pickle file: \" + e.getMessage());\n",
    "    e.printStackTrace();\n",
    "    throw e;\n",
    "}\n",
    "\n",
    "// Helper method to print query results in table format\n",
    "public static void resultPrint(List<Map<String, Object>> results) {\n",
    "    if (results == null || results.isEmpty()) {\n",
    "        System.out.println(\"No results to display\");\n",
    "        return;\n",
    "    }\n",
    "\n",
    "    // Fields to exclude from display\n",
    "    Set<String> toRemove = Set.of(\"id\", \"payload\", \"score\", \"user_embedding\", \"__user_embedding_score\");\n",
    "\n",
    "    // Get all unique keys from results, excluding the ones we want to remove\n",
    "    Set<String> allKeys = new LinkedHashSet<>();\n",
    "    for (Map<String, Object> result : results) {\n",
    "        for (String key : result.keySet()) {\n",
    "            if (!toRemove.contains(key) && !key.contains(\"_distance\")) {\n",
    "                allKeys.add(key);\n",
    "            }\n",
    "        }\n",
    "    }\n",
    "\n",
    "    // Create ASCII table\n",
    "    AsciiTable table = new AsciiTable();\n",
    "    table.addRule();\n",
    "\n",
    "    // Add header row\n",
    "    table.addRow(allKeys.toArray());\n",
    "    table.addRule();\n",
    "\n",
    "    // Add data rows\n",
    "    for (Map<String, Object> result : results) {\n",
    "        List<Object> row = new ArrayList<>();\n",
    "        for (String key : allKeys) {\n",
    "            Object value = result.get(key);\n",
    "            row.add(value != null ? value.toString() : \"\");\n",
    "        }\n",
    "        table.addRow(row.toArray());\n",
    "    }\n",
    "    table.addRule();\n",
    "\n",
    "    // Configure column widths\n",
    "    CWC_LongestLine cwc = new CWC_LongestLine();\n",
    "    table.getRenderer().setCWC(cwc);\n",
    "\n",
    "    // Print the table\n",
    "    System.out.println(table.render());\n",
    "}\n",
    "\n",
    "// Display the loaded data\n",
    "AsciiTable dataTable = new AsciiTable();\n",
    "dataTable.addRule();\n",
    "dataTable.addRow(\"User\", \"Age\", \"Job\", \"Credit Score\", \"Office Location\", \"User Embedding\", \"Last Updated\");\n",
    "dataTable.addRule();\n",
    "\n",
    "data.forEach(user -> {\n",
    "    Object embedding = user.get(\"user_embedding\");\n",
    "    String embStr = \"<bytes>\";\n",
    "    if (embedding instanceof byte[]) {\n",
    "        embStr = \"<\" + ((byte[])embedding).length + \" bytes>\";\n",
    "    }\n",
    "    dataTable.addRow(\n",
    "        user.get(\"user\"),\n",
    "        user.get(\"age\"),\n",
    "        user.get(\"job\"),\n",
    "        user.get(\"credit_score\"),\n",
    "        user.get(\"office_location\"),\n",
    "        embStr,\n",
    "        user.get(\"last_updated\")\n",
    "    );\n",
    "});\n",
    "dataTable.addRule();\n",
    "\n",
    "CWC_LongestLine cwc = new CWC_LongestLine();\n",
    "dataTable.getRenderer().setCWC(cwc);\n",
    "\n",
    "System.out.println(\"\\nLoaded data:\");\n",
    "System.out.println(dataTable.render());"
   ]
  },
  {
   "cell_type": "markdown",
   "metadata": {},
   "source": [
    "## Hash or JSON -- how to choose?\n",
    "Both storage options offer a variety of features and tradeoffs. Below we will work through a dummy dataset to learn when and how to use both."
   ]
  },
  {
   "cell_type": "markdown",
   "metadata": {},
   "source": [
    "### Working with Hashes\n",
    "Hashes in Redis are simple collections of field-value pairs. Think of it like a mutable single-level dictionary contains multiple \"rows\":\n",
    "\n",
    "```java\n",
    "{\n",
    "    \"model\": \"Deimos\",\n",
    "    \"brand\": \"Ergonom\",\n",
    "    \"type\": \"Enduro bikes\",\n",
    "    \"price\": 4972,\n",
    "}\n",
    "```\n",
    "\n",
    "Hashes are best suited for use cases with the following characteristics:\n",
    "- Performance (speed) and storage space (memory consumption) are top concerns\n",
    "- Data can be easily normalized and modeled as a single-level dict\n",
    "\n",
    "> Hashes are typically the default recommendation."
   ]
  },
  {
   "cell_type": "code",
   "execution_count": 4,
   "metadata": {
    "vscode": {
     "languageId": "java"
    }
   },
   "outputs": [
    {
     "name": "stdout",
     "output_type": "stream",
     "text": [
      "Hash schema defined\n"
     ]
    }
   ],
   "source": [
    "// Define the hash index schema\n",
    "Map<String, Object> hashSchema = Map.of(\n",
    "    \"index\", Map.of(\n",
    "        \"name\", \"user-hash\",\n",
    "        \"prefix\", \"user-hash-docs\",\n",
    "        \"storage_type\", \"hash\"  // default setting -- HASH\n",
    "    ),\n",
    "    \"fields\", List.of(\n",
    "        Map.of(\"name\", \"user\", \"type\", \"tag\"),\n",
    "        Map.of(\"name\", \"credit_score\", \"type\", \"tag\"),\n",
    "        Map.of(\"name\", \"job\", \"type\", \"text\"),\n",
    "        Map.of(\"name\", \"age\", \"type\", \"numeric\"),\n",
    "        Map.of(\"name\", \"office_location\", \"type\", \"geo\"),\n",
    "        Map.of(\n",
    "            \"name\", \"user_embedding\",\n",
    "            \"type\", \"vector\",\n",
    "            \"attrs\", Map.of(\n",
    "                \"dims\", 3,\n",
    "                \"distance_metric\", \"cosine\",\n",
    "                \"algorithm\", \"flat\",\n",
    "                \"datatype\", \"float32\"\n",
    "            )\n",
    "        )\n",
    "    )\n",
    ");\n",
    "\n",
    "System.out.println(\"Hash schema defined\");"
   ]
  },
  {
   "cell_type": "code",
   "execution_count": 5,
   "metadata": {
    "vscode": {
     "languageId": "java"
    }
   },
   "outputs": [
    {
     "name": "stdout",
     "output_type": "stream",
     "text": [
      "Hash index created: user-hash\n"
     ]
    }
   ],
   "source": [
    "// Connect to Redis and construct a search index from the hash schema\n",
    "UnifiedJedis jedis = new UnifiedJedis(new HostAndPort(\"redis-stack\", 6379));\n",
    "\n",
    "SearchIndex hindex = SearchIndex.fromDict(hashSchema, jedis);\n",
    "\n",
    "// Create the index (no data yet)\n",
    "hindex.create(true);\n",
    "\n",
    "System.out.println(\"Hash index created: \" + hindex.getName());"
   ]
  },
  {
   "cell_type": "code",
   "execution_count": 6,
   "metadata": {
    "vscode": {
     "languageId": "java"
    }
   },
   "outputs": [
    {
     "name": "stdout",
     "output_type": "stream",
     "text": [
      "Storage type: HASH\n"
     ]
    }
   ],
   "source": [
    "// Show the underlying storage type\n",
    "System.out.println(\"Storage type: \" + hindex.getStorageType());"
   ]
  },
  {
   "cell_type": "markdown",
   "metadata": {},
   "source": [
    "#### Vectors as byte strings\n",
    "One nuance when working with Hashes in Redis, is that all vectorized data must be passed as a byte string (for efficient storage, indexing, and processing). An example of that can be seen below:"
   ]
  },
  {
   "cell_type": "code",
   "execution_count": 7,
   "metadata": {
    "vscode": {
     "languageId": "java"
    }
   },
   "outputs": [
    {
     "name": "stdout",
     "output_type": "stream",
     "text": [
      "Sample user entry:\n",
      "  credit_score: high\n",
      "  last_updated: 1741627789\n",
      "  user_embedding: <12 bytes>\n",
      "  office_location: -122.4194,37.7749\n",
      "  job: engineer\n",
      "  user: john\n",
      "  age: 18\n"
     ]
    }
   ],
   "source": [
    "// Show a single entry from the data that will be loaded\n",
    "Map<String, Object> sampleUser = data.get(0);\n",
    "System.out.println(\"Sample user entry:\");\n",
    "sampleUser.forEach((key, value) -> {\n",
    "    if (\"user_embedding\".equals(key) && value instanceof byte[]) {\n",
    "        System.out.println(\"  \" + key + \": <\" + ((byte[])value).length + \" bytes>\");\n",
    "    } else {\n",
    "        System.out.println(\"  \" + key + \": \" + value);\n",
    "    }\n",
    "});"
   ]
  },
  {
   "cell_type": "code",
   "execution_count": 8,
   "metadata": {
    "vscode": {
     "languageId": "java"
    }
   },
   "outputs": [
    {
     "name": "stdout",
     "output_type": "stream",
     "text": [
      "Loaded 7 documents to hash index\n",
      "Keys created: \n",
      "  user-hash-docs:john\n",
      "  user-hash-docs:derrick\n",
      "  user-hash-docs:nancy\n",
      "  user-hash-docs:tyler\n",
      "  user-hash-docs:tim\n",
      "  user-hash-docs:taimur\n",
      "  user-hash-docs:joe\n"
     ]
    }
   ],
   "source": [
    "// Load hash data (vectors remain as byte arrays)\n",
    "List<String> keys = hindex.load(data, \"user\");\n",
    "\n",
    "System.out.println(\"Loaded \" + keys.size() + \" documents to hash index\");\n",
    "System.out.println(\"Keys created: \");\n",
    "keys.forEach(key -> System.out.println(\"  \" + key));"
   ]
  },
  {
   "cell_type": "markdown",
   "metadata": {},
   "source": [
    "#### Performing Queries\n",
    "Once our index is created and data is loaded into the right format, we can run queries against the index with RedisVL4J:"
   ]
  },
  {
   "cell_type": "code",
   "execution_count": 9,
   "metadata": {
    "vscode": {
     "languageId": "java"
    }
   },
   "outputs": [
    {
     "name": "stdout",
     "output_type": "stream",
     "text": [
      "DEBUG: Executing search query: '((@credit_score:{high} @job:enginee* @age:[(17 +inf]))=>[KNN $K @user_embedding $vec AS vector_distance]'\n",
      "DEBUG: Search params: {vec=[B@53f7d99a, K=10}\n",
      "┌────────────┬────────────┬─────────────────┬────────┬─────┬───┐\n",
      "│credit_score│last_updated│office_location  │job     │user │age│\n",
      "├────────────┼────────────┼─────────────────┼────────┼─────┼───┤\n",
      "│high        │1741627789  │-122.4194,37.7749│engineer│john │18 │\n",
      "│high        │1742232589  │-122.0839,37.3861│engineer│tyler│100│\n",
      "└────────────┴────────────┴─────────────────┴────────┴─────┴───┘\n"
     ]
    }
   ],
   "source": [
    "// Create a combined filter expression\n",
    "Filter creditFilter = Filter.tag(\"credit_score\", \"high\");\n",
    "Filter jobFilter = Filter.prefix(\"job\", \"enginee\");\n",
    "Filter ageFilter = Filter.numeric(\"age\").gt(17);\n",
    "\n",
    "Filter combinedFilter = Filter.and(creditFilter, jobFilter, ageFilter);\n",
    "\n",
    "// Create vector query with filter\n",
    "VectorQuery v = VectorQuery.builder()\n",
    "    .vector(new float[]{0.1f, 0.1f, 0.5f})\n",
    "    .field(\"user_embedding\")\n",
    "    .returnFields(\"user\", \"credit_score\", \"age\", \"job\", \"office_location\")\n",
    "    .withPreFilter(combinedFilter.build())\n",
    "    .build();\n",
    "\n",
    "List<Map<String, Object>> results = hindex.query(v);\n",
    "resultPrint(results);"
   ]
  },
  {
   "cell_type": "code",
   "execution_count": 10,
   "metadata": {
    "vscode": {
     "languageId": "java"
    }
   },
   "outputs": [
    {
     "name": "stdout",
     "output_type": "stream",
     "text": [
      "Hash index deleted\n"
     ]
    }
   ],
   "source": [
    "// Clean up hash index\n",
    "hindex.delete(true);\n",
    "System.out.println(\"Hash index deleted\");"
   ]
  },
  {
   "cell_type": "markdown",
   "metadata": {},
   "source": [
    "### Working with JSON\n",
    "\n",
    "JSON is best suited for use cases with the following characteristics:\n",
    "- Ease of use and data model flexibility are top concerns\n",
    "- Application data is already native JSON\n",
    "- Replacing another document storage/db solution"
   ]
  },
  {
   "cell_type": "code",
   "execution_count": 11,
   "metadata": {
    "vscode": {
     "languageId": "java"
    }
   },
   "outputs": [
    {
     "name": "stdout",
     "output_type": "stream",
     "text": [
      "JSON schema defined\n"
     ]
    }
   ],
   "source": [
    "// Define the json index schema\n",
    "// The library should automatically add $.field_name paths for JSON storage\n",
    "Map<String, Object> jsonSchema = Map.of(\n",
    "    \"index\", Map.of(\n",
    "        \"name\", \"user-json\",\n",
    "        \"prefix\", \"user-json-docs\",\n",
    "        \"storage_type\", \"json\"  // JSON storage type\n",
    "    ),\n",
    "    \"fields\", List.of(\n",
    "        Map.of(\"name\", \"user\", \"type\", \"tag\"),\n",
    "        Map.of(\"name\", \"credit_score\", \"type\", \"tag\"),\n",
    "        Map.of(\"name\", \"job\", \"type\", \"text\"),\n",
    "        Map.of(\"name\", \"age\", \"type\", \"numeric\"),\n",
    "        Map.of(\"name\", \"office_location\", \"type\", \"geo\"),\n",
    "        Map.of(\n",
    "            \"name\", \"user_embedding\",\n",
    "            \"type\", \"vector\",\n",
    "            \"attrs\", Map.of(\n",
    "                \"dims\", 3,\n",
    "                \"distance_metric\", \"cosine\",\n",
    "                \"algorithm\", \"flat\",\n",
    "                \"datatype\", \"float32\"\n",
    "            )\n",
    "        )\n",
    "    )\n",
    ");\n",
    "\n",
    "System.out.println(\"JSON schema defined\");"
   ]
  },
  {
   "cell_type": "code",
   "execution_count": 12,
   "metadata": {
    "vscode": {
     "languageId": "java"
    }
   },
   "outputs": [
    {
     "name": "stdout",
     "output_type": "stream",
     "text": [
      "JSON index created: user-json\n"
     ]
    }
   ],
   "source": [
    "// Construct a search index from the json schema\n",
    "SearchIndex jindex = SearchIndex.fromDict(jsonSchema, jedis);\n",
    "\n",
    "// Create the index (no data yet)\n",
    "jindex.create(true);\n",
    "\n",
    "System.out.println(\"JSON index created: \" + jindex.getName());"
   ]
  },
  {
   "cell_type": "markdown",
   "metadata": {},
   "source": [
    "#### Vectors as float arrays\n",
    "Vectorized data stored in JSON must be stored as a pure array (Java List) of floats. We will modify our sample data to account for this below:"
   ]
  },
  {
   "cell_type": "code",
   "execution_count": 13,
   "metadata": {
    "vscode": {
     "languageId": "java"
    }
   },
   "outputs": [
    {
     "name": "stdout",
     "output_type": "stream",
     "text": [
      "Converted data for JSON storage\n"
     ]
    }
   ],
   "source": [
    "// Convert byte array vectors to float arrays for JSON storage\n",
    "List<Map<String, Object>> jsonData = new ArrayList<>();\n",
    "\n",
    "for (Map<String, Object> user : data) {\n",
    "    Map<String, Object> jsonUser = new HashMap<>(user);\n",
    "\n",
    "    // Convert byte array embedding to float array for JSON\n",
    "    Object embedding = user.get(\"user_embedding\");\n",
    "    if (embedding instanceof byte[]) {\n",
    "        byte[] embBytes = (byte[]) embedding;\n",
    "        ByteBuffer buffer = ByteBuffer.wrap(embBytes).order(ByteOrder.LITTLE_ENDIAN);\n",
    "        float[] floats = new float[3];\n",
    "        for (int i = 0; i < 3; i++) {\n",
    "            floats[i] = buffer.getFloat();\n",
    "        }\n",
    "        jsonUser.put(\"user_embedding\", floats);\n",
    "    }\n",
    "\n",
    "    jsonData.add(jsonUser);\n",
    "}\n",
    "\n",
    "System.out.println(\"Converted data for JSON storage\");"
   ]
  },
  {
   "cell_type": "code",
   "execution_count": 14,
   "metadata": {
    "vscode": {
     "languageId": "java"
    }
   },
   "outputs": [
    {
     "name": "stdout",
     "output_type": "stream",
     "text": [
      "Sample JSON user entry:\n",
      "  credit_score: high\n",
      "  last_updated: 1741627789\n",
      "  user_embedding: [0.1, 0.1, 0.5]\n",
      "  office_location: -122.4194,37.7749\n",
      "  job: engineer\n",
      "  user: john\n",
      "  age: 18\n"
     ]
    }
   ],
   "source": [
    "// Inspect a single JSON record\n",
    "Map<String, Object> sampleJsonUser = jsonData.get(0);\n",
    "System.out.println(\"Sample JSON user entry:\");\n",
    "sampleJsonUser.forEach((key, value) -> {\n",
    "    if (\"user_embedding\".equals(key) && value instanceof float[]) {\n",
    "        float[] vec = (float[]) value;\n",
    "        System.out.println(\"  \" + key + \": [\" + vec[0] + \", \" + vec[1] + \", \" + vec[2] + \"]\");\n",
    "    } else {\n",
    "        System.out.println(\"  \" + key + \": \" + value);\n",
    "    }\n",
    "});"
   ]
  },
  {
   "cell_type": "code",
   "execution_count": 15,
   "metadata": {
    "vscode": {
     "languageId": "java"
    }
   },
   "outputs": [
    {
     "name": "stdout",
     "output_type": "stream",
     "text": [
      "Loaded 7 documents to JSON index\n",
      "Keys created: \n",
      "  user-json-docs:john\n",
      "  user-json-docs:derrick\n",
      "  user-json-docs:nancy\n",
      "  user-json-docs:tyler\n",
      "  user-json-docs:tim\n",
      "  user-json-docs:taimur\n",
      "  user-json-docs:joe\n"
     ]
    }
   ],
   "source": [
    "// Load JSON data\n",
    "List<String> jsonKeys = jindex.load(jsonData, \"user\");\n",
    "\n",
    "System.out.println(\"Loaded \" + jsonKeys.size() + \" documents to JSON index\");\n",
    "System.out.println(\"Keys created: \");\n",
    "jsonKeys.forEach(key -> System.out.println(\"  \" + key));"
   ]
  },
  {
   "cell_type": "code",
   "execution_count": 16,
   "metadata": {
    "vscode": {
     "languageId": "java"
    }
   },
   "outputs": [
    {
     "name": "stdout",
     "output_type": "stream",
     "text": [
      "DEBUG: Executing search query: '((@\\$\\.credit_score:{high} @\\$\\.job:enginee* @\\$\\.age:[(17 +inf]))=>[KNN $K @\\$\\.user_embedding $vec AS vector_distance]'\n",
      "DEBUG: Search params: {vec=[B@2228e74c, K=10}\n",
      "┌────────┬─────┬─────────────────┬──────────────┬──────┬────────────────┬──────────────┐\n",
      "│$.job   │$.age│$.office_location│$.last_updated│$.user│$.user_embedding│$.credit_score│\n",
      "├────────┼─────┼─────────────────┼──────────────┼──────┼────────────────┼──────────────┤\n",
      "│engineer│18   │-122.4194,37.7749│1741627789    │john  │[0.1, 0.1, 0.5] │high          │\n",
      "│engineer│100  │-122.0839,37.3861│1742232589    │tyler │[0.1, 0.4, 0.5] │high          │\n",
      "└────────┴─────┴─────────────────┴──────────────┴──────┴────────────────┴──────────────┘\n"
     ]
    }
   ],
   "source": [
    "// For JSON storage, we need to use JSON paths in filters\n",
    "Filter jsonCreditFilter = Filter.tag(\"$.credit_score\", \"high\");\n",
    "Filter jsonJobFilter = Filter.prefix(\"$.job\", \"enginee\");\n",
    "Filter jsonAgeFilter = Filter.numeric(\"$.age\").gt(17);\n",
    "\n",
    "Filter jsonCombinedFilter = Filter.and(jsonCreditFilter, jsonJobFilter, jsonAgeFilter);\n",
    "\n",
    "// Create vector query with JSON paths\n",
    "VectorQuery jsonV = VectorQuery.builder()\n",
    "    .vector(new float[]{0.1f, 0.1f, 0.5f})\n",
    "    .field(\"$.user_embedding\")\n",
    "    .returnFields(\"user\", \"credit_score\", \"age\", \"job\", \"office_location\")\n",
    "    .withPreFilter(jsonCombinedFilter.build())\n",
    "    .build();\n",
    "\n",
    "List<Map<String, Object>> jsonResults = jindex.query(jsonV);\n",
    "resultPrint(jsonResults);"
   ]
  },
  {
   "cell_type": "markdown",
   "metadata": {},
   "source": [
    "## Cleanup"
   ]
  },
  {
   "cell_type": "code",
   "execution_count": 17,
   "metadata": {
    "vscode": {
     "languageId": "java"
    }
   },
   "outputs": [
    {
     "name": "stdout",
     "output_type": "stream",
     "text": [
      "JSON index deleted\n"
     ]
    }
   ],
   "source": [
    "// Clean up JSON index\n",
    "jindex.delete(true);\n",
    "System.out.println(\"JSON index deleted\");"
   ]
  },
  {
   "cell_type": "markdown",
   "metadata": {},
   "source": [
    "# Working with nested data in JSON\n",
    "\n",
    "Redis also supports native **JSON** objects. These can be multi-level (nested) objects, with full JSONPath support for updating/retrieving sub elements:\n",
    "\n",
    "```json\n",
    "{\n",
    "    \"name\": \"Specialized Stump jumper\",\n",
    "    \"metadata\": {\n",
    "        \"model\": \"Stumpjumper\",\n",
    "        \"brand\": \"Specialized\",\n",
    "        \"type\": \"Enduro bikes\",\n",
    "        \"price\": 3000\n",
    "    },\n",
    "}\n",
    "```\n",
    "\n",
    "#### Full JSON Path support\n",
    "Because Redis enables full JSON path support, when creating an index schema, elements need to be indexed and selected by their path with the desired `name` AND `path` that points to where the data is located within the objects.\n",
    "\n",
    "> By default, RedisVL4J will assume the path as `$.{name}` if not provided in JSON fields schema. If nested provide path as `$.object.attribute`\n",
    "\n",
    "### As an example:"
   ]
  },
  {
   "cell_type": "code",
   "execution_count": 18,
   "metadata": {
    "vscode": {
     "languageId": "java"
    }
   },
   "outputs": [
    {
     "name": "stdout",
     "output_type": "stream",
     "text": [
      "Loaded 2 bikes\n",
      "Created bike data with nested metadata and 384-dim embeddings\n",
      "Embeddings generated using AllMiniLmL6V2 model\n"
     ]
    }
   ],
   "source": [
    "// Create bike data with nested metadata\n",
    "// Descriptions\n",
    "var desc1 = \"The Specialized Stumpjumper is a versatile enduro bike that dominates both climbs and descents. \"\n",
    "  + \"Features a FACT 11m carbon fiber frame, FOX FLOAT suspension with 160mm travel, and SRAM X01 Eagle drivetrain. \"\n",
    "  + \"The asymmetric frame design and internal storage compartment make it a practical choice for all-day adventures.\";\n",
    "\n",
    "var desc2 = \"Trek's Slash is built for aggressive enduro riding and racing. \"\n",
    "  + \"Featuring Trek's Alpha Aluminum frame with RE:aktiv suspension technology, 160mm travel, and Knock Block frame protection. \"\n",
    "  + \"Equipped with Bontrager components and a Shimano XT drivetrain, this bike excels on technical trails and enduro race courses.\";\n",
    "\n",
    "// Real embeddings\n",
    "float[] embeddingArray1 = embeddingModel.embed(desc1).content().vector();\n",
    "float[] embeddingArray2 = embeddingModel.embed(desc2).content().vector();\n",
    "\n",
    "var bikeData = List.<Map<String, Object>>of(\n",
    "  Map.<String, Object>of(\n",
    "    \"name\", \"Specialized Stumpjumper\",\n",
    "    \"metadata\", Map.of(\n",
    "      \"model\", \"Stumpjumper\",\n",
    "      \"brand\", \"Specialized\",\n",
    "      \"type\", \"Enduro bikes\",\n",
    "      \"price\", 3000\n",
    "    ),\n",
    "    \"description\", desc1,\n",
    "    \"bike_embedding\", embeddingArray1\n",
    "  ),\n",
    "  Map.<String, Object>of(\n",
    "    \"name\", \"bike_2\",\n",
    "    \"metadata\", Map.of(\n",
    "      \"model\", \"Slash\",\n",
    "      \"brand\", \"Trek\",\n",
    "      \"type\", \"Enduro bikes\",\n",
    "      \"price\", 5000\n",
    "    ),\n",
    "    \"description\", desc2,\n",
    "    \"bike_embedding\", embeddingArray2\n",
    "  )\n",
    ");\n",
    "\n",
    "// Optional\n",
    "System.out.println(\"Loaded \" + bikeData.size() + \" bikes\");\n",
    "\n",
    "\n",
    "// Define bike schema with nested JSON paths\n",
    "Map<String, Object> bikeSchema = Map.of(\n",
    "    \"index\", Map.of(\n",
    "        \"name\", \"bike-json\",\n",
    "        \"prefix\", \"bike-json\",\n",
    "        \"storage_type\", \"json\"  // JSON storage type\n",
    "    ),\n",
    "    \"fields\", List.of(\n",
    "        Map.of(\n",
    "            \"name\", \"model\",\n",
    "            \"type\", \"tag\",\n",
    "            \"path\", \"$.metadata.model\"  // note the '$'\n",
    "        ),\n",
    "        Map.of(\n",
    "            \"name\", \"brand\",\n",
    "            \"type\", \"tag\",\n",
    "            \"path\", \"$.metadata.brand\"\n",
    "        ),\n",
    "        Map.of(\n",
    "            \"name\", \"price\",\n",
    "            \"type\", \"numeric\",\n",
    "            \"path\", \"$.metadata.price\"\n",
    "        ),\n",
    "        Map.of(\n",
    "            \"name\", \"bike_embedding\",\n",
    "            \"type\", \"vector\",\n",
    "            \"attrs\", Map.of(\n",
    "                \"dims\", embeddingArray1.length,  // Use actual embedding dimensions\n",
    "                \"distance_metric\", \"cosine\",\n",
    "                \"algorithm\", \"flat\",\n",
    "                \"datatype\", \"float32\"\n",
    "            )\n",
    "            // No explicit path - should default to $.bike_embedding\n",
    "        )\n",
    "    )\n",
    ");\n",
    "\n",
    "System.out.println(\"Created bike data with nested metadata and \" + embeddingArray1.length + \"-dim embeddings\");\n",
    "System.out.println(\"Embeddings generated using AllMiniLmL6V2 model\");"
   ]
  },
  {
   "cell_type": "code",
   "execution_count": 19,
   "metadata": {
    "vscode": {
     "languageId": "java"
    }
   },
   "outputs": [
    {
     "name": "stdout",
     "output_type": "stream",
     "text": [
      "Bike index created: bike-json\n"
     ]
    }
   ],
   "source": [
    "// Construct a search index from the json schema\n",
    "SearchIndex bikeIndex = SearchIndex.fromDict(bikeSchema, jedis);\n",
    "\n",
    "// Create the index (no data yet)\n",
    "bikeIndex.create(true);\n",
    "\n",
    "System.out.println(\"Bike index created: \" + bikeIndex.getName());"
   ]
  },
  {
   "cell_type": "code",
   "execution_count": 20,
   "metadata": {
    "vscode": {
     "languageId": "java"
    }
   },
   "outputs": [
    {
     "name": "stdout",
     "output_type": "stream",
     "text": [
      "Loaded 2 bikes\n",
      "  bike-json:01K379F22GC6723VVGD6KT295B\n",
      "  bike-json:01K379F22KE06T84THDNJQBT54\n"
     ]
    }
   ],
   "source": [
    "// Load bike data\n",
    "List<String> bikeKeys = bikeIndex.load(bikeData);\n",
    "\n",
    "System.out.println(\"Loaded \" + bikeKeys.size() + \" bikes\");\n",
    "bikeKeys.forEach(key -> System.out.println(\"  \" + key));"
   ]
  },
  {
   "cell_type": "code",
   "execution_count": 21,
   "metadata": {
    "vscode": {
     "languageId": "java"
    }
   },
   "outputs": [
    {
     "name": "stdout",
     "output_type": "stream",
     "text": [
      "DEBUG: Executing search query: '*=>[KNN $K @\\$\\.bike_embedding $vec AS vector_distance]'\n",
      "DEBUG: Search params: {vec=[B@7525b9b, K=2}\n",
      "\n",
      "Semantic search for: 'I'd like a bike for aggressive riding'\n",
      "Results found: 2\n"
     ]
    }
   ],
   "source": [
    "// Create a semantic search query\n",
    "String queryText = \"I'd like a bike for aggressive riding\";\n",
    "\n",
    "// Generate embedding for the query using the same model - use .content() to get the Embedding\n",
    "float[] queryVector = embeddingModel.embed(queryText).content().vector();\n",
    "\n",
    "VectorQuery bikeQuery = VectorQuery.builder()\n",
    "    .vector(queryVector)\n",
    "    .field(\"$.bike_embedding\")  // Use JSON path for JSON storage\n",
    "    .returnFields(\n",
    "        \"$.metadata.brand\",  // Use JSON path for indexed nested field\n",
    "        \"$.name\",\n",
    "        \"$.metadata.type\"  // Note: retrieving non-indexed field requires full path\n",
    "    )\n",
    "    .numResults(2)\n",
    "    .build();\n",
    "\n",
    "List<Map<String, Object>> bikeResults = bikeIndex.query(bikeQuery);\n",
    "\n",
    "System.out.println(\"\\nSemantic search for: '\" + queryText + \"'\");\n",
    "System.out.println(\"Results found: \" + bikeResults.size());"
   ]
  },
  {
   "cell_type": "markdown",
   "metadata": {},
   "source": [
    "**Note:** As shown in the example if you want to retrieve a field from json object that was not indexed you will also need to supply the full path as with `$.metadata.type`."
   ]
  },
  {
   "cell_type": "code",
   "execution_count": 22,
   "metadata": {
    "vscode": {
     "languageId": "java"
    }
   },
   "outputs": [
    {
     "name": "stdout",
     "output_type": "stream",
     "text": [
      "ID: bike-json:01K379F22GC6723VVGD6KT295B\n",
      "  Brand: Specialized\n",
      "  Name: Specialized Stumpjumper\n",
      "  Type: Enduro bikes\n",
      "  Cosine Distance: 0.623969972134\n",
      "  Similarity Score: 0.3760\n",
      "\n",
      "ID: bike-json:01K379F22KE06T84THDNJQBT54\n",
      "  Brand: Trek\n",
      "  Name: bike_2\n",
      "  Type: Enduro bikes\n",
      "  Cosine Distance: 0.579276919365\n",
      "  Similarity Score: 0.4207\n",
      "\n"
     ]
    }
   ],
   "source": [
    "// Display the results with similarity scores\n",
    "bikeResults.forEach(result -> {\n",
    "    String id = (String) result.get(\"id\");\n",
    "\n",
    "    // For JSON storage, results come back with JSON paths\n",
    "    // Handle both nested objects and direct values\n",
    "    Object metadataObj = result.get(\"$.metadata\");\n",
    "    String brand = null;\n",
    "    String type = null;\n",
    "\n",
    "    if (metadataObj instanceof Map) {\n",
    "        Map<String, Object> metadata = (Map<String, Object>) metadataObj;\n",
    "        brand = (String) metadata.get(\"brand\");\n",
    "        type = (String) metadata.get(\"type\");\n",
    "    }\n",
    "\n",
    "    String name = (String) result.get(\"$.name\");\n",
    "    String distance = (String) result.get(\"vector_distance\");\n",
    "\n",
    "    // Convert distance to similarity score (1 - cosine distance)\n",
    "    double similarity = 1.0 - Double.parseDouble(distance);\n",
    "\n",
    "    System.out.println(\"ID: \" + id);\n",
    "    System.out.println(\"  Brand: \" + brand);\n",
    "    System.out.println(\"  Name: \" + name);\n",
    "    System.out.println(\"  Type: \" + type);\n",
    "    System.out.println(\"  Cosine Distance: \" + distance);\n",
    "    System.out.println(\"  Similarity Score: \" + String.format(\"%.4f\", similarity));\n",
    "    System.out.println();\n",
    "});\n",
    "\n",
    "// The bike with the lower distance (higher similarity) should be Trek Slash\n",
    "// since it's described as \"aggressive enduro riding and racing\""
   ]
  },
  {
   "cell_type": "code",
   "execution_count": 23,
   "metadata": {
    "vscode": {
     "languageId": "java"
    }
   },
   "outputs": [
    {
     "name": "stdout",
     "output_type": "stream",
     "text": [
      "DEBUG: Executing search query: '*=>[KNN $K @\\$\\.bike_embedding $vec AS vector_distance]'\n",
      "DEBUG: Search params: {vec=[B@176dfae0, K=2}\n",
      "\n",
      "Semantic search for: 'versatile bike for all-day trail adventures'\n",
      "Specialized - Specialized Stumpjumper (similarity: 0.4292)\n",
      "Trek - bike_2 (similarity: 0.3124)\n"
     ]
    }
   ],
   "source": [
    "// Let's try another query to see the model understands different contexts\n",
    "String query2 = \"versatile bike for all-day trail adventures\";\n",
    "\n",
    "// Use .content() to get the Embedding\n",
    "float[] queryVector2 = embeddingModel.embed(query2).content().vector();\n",
    "\n",
    "VectorQuery bikeQuery2 = VectorQuery.builder()\n",
    "    .vector(queryVector2)\n",
    "    .field(\"$.bike_embedding\")  // Use JSON path\n",
    "    .returnFields(\"$.metadata.brand\", \"$.name\")\n",
    "    .numResults(2)\n",
    "    .build();\n",
    "\n",
    "List<Map<String, Object>> results2 = bikeIndex.query(bikeQuery2);\n",
    "\n",
    "System.out.println(\"\\nSemantic search for: '\" + query2 + \"'\");\n",
    "results2.forEach(result -> {\n",
    "    // Handle nested metadata structure\n",
    "    Object metadataObj = result.get(\"$.metadata\");\n",
    "    String brand = null;\n",
    "    if (metadataObj instanceof Map) {\n",
    "        Map<String, Object> metadata = (Map<String, Object>) metadataObj;\n",
    "        brand = (String) metadata.get(\"brand\");\n",
    "    }\n",
    "\n",
    "    String name = (String) result.get(\"$.name\");\n",
    "    String distance = (String) result.get(\"vector_distance\");\n",
    "    double similarity = 1.0 - Double.parseDouble(distance);\n",
    "\n",
    "    System.out.println(brand + \" - \" + name + \" (similarity: \" + String.format(\"%.4f\", similarity) + \")\");\n",
    "});\n",
    "\n",
    "// This query should rank the Specialized Stumpjumper higher\n",
    "// since it's described as \"versatile\" and \"practical choice for all-day adventures\""
   ]
  },
  {
   "cell_type": "markdown",
   "metadata": {},
   "source": [
    "# Cleanup"
   ]
  },
  {
   "cell_type": "code",
   "execution_count": 24,
   "metadata": {
    "vscode": {
     "languageId": "java"
    }
   },
   "outputs": [
    {
     "name": "stdout",
     "output_type": "stream",
     "text": [
      "Bike index deleted\n",
      "Redis connection closed\n"
     ]
    }
   ],
   "source": [
    "// Clean up bike index\n",
    "bikeIndex.delete(true);\n",
    "System.out.println(\"Bike index deleted\");\n",
    "\n",
    "// Close Redis connection\n",
    "jedis.close();\n",
    "System.out.println(\"Redis connection closed\");"
   ]
  }
 ],
 "metadata": {
  "kernelspec": {
   "display_name": "Java",
   "language": "java",
   "name": "java"
  },
  "language_info": {
   "codemirror_mode": "java",
   "file_extension": ".jshell",
   "mimetype": "text/x-java-source",
   "name": "Java",
   "pygments_lexer": "java",
   "version": "21.0.8+9-Ubuntu-0ubuntu124.04.1"
  }
 },
 "nbformat": 4,
 "nbformat_minor": 4
}
