{
 "cells": [
  {
   "cell_type": "markdown",
   "metadata": {},
   "source": [
    "# Semantic Routing\n",
    "\n",
    "RedisVL provides a `SemanticRouter` interface to utilize Redis' built-in search & aggregation in order to perform\n",
    "KNN-style classification over a set of `Route` references to determine the best match.\n",
    "\n",
    "This notebook will go over how to use Redis as a Semantic Router for your Java applications\n",
    "\n",
    "First, we will set up our dependencies."
   ]
  },
  {
   "cell_type": "code",
   "execution_count": 1,
   "metadata": {},
   "outputs": [
    {
     "name": "stdout",
     "output_type": "stream",
     "text": [
      "Dependencies loaded\n"
     ]
    }
   ],
   "source": [
    "// Load Maven dependencies\n",
    "%maven redis.clients:jedis:5.2.0\n",
    "%maven org.slf4j:slf4j-nop:2.0.16\n",
    "%maven com.microsoft.onnxruntime:onnxruntime:1.16.3\n",
    "%maven com.squareup.okhttp3:okhttp:4.12.0\n",
    "%maven com.fasterxml.jackson.core:jackson-databind:2.18.2\n",
    "%maven com.fasterxml.jackson.dataformat:jackson-dataformat-yaml:2.18.2\n",
    "%maven com.fasterxml.jackson.datatype:jackson-datatype-jsr310:2.18.2\n",
    "\n",
    "// Note: RedisVL JAR must be in classpath (loaded automatically by Docker container)\n",
    "\n",
    "// Import RedisVL classes\n",
    "import com.redis.vl.extensions.router.*;\n",
    "import com.redis.vl.utils.vectorize.*;\n",
    "\n",
    "// Import Redis client\n",
    "import redis.clients.jedis.UnifiedJedis;\n",
    "import redis.clients.jedis.HostAndPort;\n",
    "\n",
    "// Import Java standard libraries\n",
    "import java.util.*;\n",
    "\n",
    "System.out.println(\"Dependencies loaded\");"
   ]
  },
  {
   "cell_type": "markdown",
   "metadata": {},
   "source": [
    "## Define the Routes\n",
    "\n",
    "Below we define 3 different routes. One for `technology`, one for `sports`, and\n",
    "another for `entertainment`. Now for this example, the goal here is\n",
    "surely topic \"classification\". But you can create routes and references for\n",
    "almost anything.\n",
    "\n",
    "Each route has a set of references that cover the \"semantic surface area\" of the\n",
    "route. The incoming query from a user needs to be semantically similar to one or\n",
    "more of the references in order to \"match\" on the route.\n",
    "\n",
    "Additionally, each route has a `distanceThreshold` which determines the maximum distance between the query and the reference for the query to be routed to the route. This value is unique to each route."
   ]
  },
  {
   "cell_type": "code",
   "execution_count": 2,
   "metadata": {},
   "outputs": [
    {
     "name": "stdout",
     "output_type": "stream",
     "text": [
      "Defined 3 routes\n"
     ]
    }
   ],
   "source": [
    "// Define routes for the semantic router\n",
    "Route technology = Route.builder()\n",
    "    .name(\"technology\")\n",
    "    .references(List.of(\n",
    "        \"what are the latest advancements in AI?\",\n",
    "        \"tell me about the newest gadgets\",\n",
    "        \"what's trending in tech?\"\n",
    "    ))\n",
    "    .metadata(Map.of(\"category\", \"tech\", \"priority\", 1))\n",
    "    .distanceThreshold(0.71)\n",
    "    .build();\n",
    "\n",
    "Route sports = Route.builder()\n",
    "    .name(\"sports\")\n",
    "    .references(List.of(\n",
    "        \"who won the game last night?\",\n",
    "        \"tell me about the upcoming sports events\",\n",
    "        \"what's the latest in the world of sports?\",\n",
    "        \"sports\",\n",
    "        \"basketball and football\"\n",
    "    ))\n",
    "    .metadata(Map.of(\"category\", \"sports\", \"priority\", 2))\n",
    "    .distanceThreshold(0.72)\n",
    "    .build();\n",
    "\n",
    "Route entertainment = Route.builder()\n",
    "    .name(\"entertainment\")\n",
    "    .references(List.of(\n",
    "        \"what are the top movies right now?\",\n",
    "        \"who won the best actor award?\",\n",
    "        \"what's new in the entertainment industry?\"\n",
    "    ))\n",
    "    .metadata(Map.of(\"category\", \"entertainment\", \"priority\", 3))\n",
    "    .distanceThreshold(0.7)\n",
    "    .build();\n",
    "\n",
    "List<Route> routes = List.of(technology, sports, entertainment);\n",
    "System.out.println(\"Defined \" + routes.size() + \" routes\");"
   ]
  },
  {
   "cell_type": "markdown",
   "metadata": {},
   "source": [
    "## Initialize the SemanticRouter\n",
    "\n",
    "`SemanticRouter` will automatically create an index within Redis upon initialization for the route references. We'll use the `SentenceTransformersVectorizer` which downloads and runs HuggingFace models locally using ONNX Runtime.\n",
    "\n",
    "On first use, it will download the `sentence-transformers/all-mpnet-base-v2` model and cache it locally in `~/.cache/redisvl4j/models/`. Subsequent runs will use the cached model for fast initialization."
   ]
  },
  {
   "cell_type": "code",
   "execution_count": 3,
   "metadata": {},
   "outputs": [
    {
     "name": "stderr",
     "output_type": "stream",
     "text": [
      "SLF4J: Failed to load class \"org.slf4j.impl.StaticLoggerBinder\".\n",
      "SLF4J: Defaulting to no-operation (NOP) logger implementation\n",
      "SLF4J: See http://www.slf4j.org/codes.html#StaticLoggerBinder for further details.\n"
     ]
    },
    {
     "name": "stdout",
     "output_type": "stream",
     "text": [
      "Initializing vectorizer with sentence-transformers/all-mpnet-base-v2 model...\n",
      "Model dimensions: 768\n",
      "SemanticRouter initialized with index: topic-router\n"
     ]
    }
   ],
   "source": [
    "// Connect to Redis\n",
    "UnifiedJedis jedis = new UnifiedJedis(new HostAndPort(\"redis-stack\", 6379));\n",
    "\n",
    "// Create vectorizer using SentenceTransformersVectorizer to download and run model locally\n",
    "BaseVectorizer vectorizer = new SentenceTransformersVectorizer(\"sentence-transformers/all-mpnet-base-v2\");\n",
    "\n",
    "System.out.println(\"Initializing vectorizer with sentence-transformers/all-mpnet-base-v2 model...\");\n",
    "System.out.println(\"Model dimensions: \" + vectorizer.getDimensions());\n",
    "\n",
    "// Initialize the SemanticRouter\n",
    "SemanticRouter router = SemanticRouter.builder()\n",
    "    .name(\"topic-router\")\n",
    "    .vectorizer(vectorizer)\n",
    "    .routes(routes)\n",
    "    .jedis(jedis)\n",
    "    .overwrite(true) // Blow away any other routing index with this name\n",
    "    .build();\n",
    "\n",
    "System.out.println(\"SemanticRouter initialized with index: \" + router.getName());"
   ]
  },
  {
   "cell_type": "code",
   "execution_count": 4,
   "metadata": {},
   "outputs": [
    {
     "name": "stdout",
     "output_type": "stream",
     "text": [
      "Index name: topic-router\n",
      "Storage type: HASH\n",
      "Number of documents: 11\n"
     ]
    }
   ],
   "source": [
    "// Look at the index specification created for the semantic router\n",
    "Map<String, Object> indexInfo = router.getIndex().info();\n",
    "System.out.println(\"Index name: \" + indexInfo.get(\"index_name\"));\n",
    "System.out.println(\"Storage type: HASH\");\n",
    "System.out.println(\"Number of documents: \" + indexInfo.get(\"num_docs\"));"
   ]
  },
  {
   "cell_type": "markdown",
   "metadata": {},
   "source": [
    "## Simple routing"
   ]
  },
  {
   "cell_type": "code",
   "execution_count": 5,
   "metadata": {},
   "outputs": [
    {
     "name": "stdout",
     "output_type": "stream",
     "text": [
      "Route matched: technology\n",
      "Distance: 0.41914610068\n"
     ]
    }
   ],
   "source": [
    "// Query the router with a statement\n",
    "RouteMatch routeMatch = router.route(\"Can you tell me about the latest in artificial intelligence?\");\n",
    "System.out.println(\"Route matched: \" + routeMatch.getName());\n",
    "System.out.println(\"Distance: \" + routeMatch.getDistance());"
   ]
  },
  {
   "cell_type": "code",
   "execution_count": 6,
   "metadata": {},
   "outputs": [
    {
     "name": "stdout",
     "output_type": "stream",
     "text": [
      "Route matched: null\n",
      "Distance: null\n"
     ]
    }
   ],
   "source": [
    "// Query the router with a statement and return a miss\n",
    "RouteMatch noMatch = router.route(\"are aliens real?\");\n",
    "System.out.println(\"Route matched: \" + noMatch.getName());\n",
    "System.out.println(\"Distance: \" + noMatch.getDistance());"
   ]
  },
  {
   "cell_type": "markdown",
   "metadata": {},
   "source": [
    "We can also route a statement to many routes and order them by distance:"
   ]
  },
  {
   "cell_type": "code",
   "execution_count": 7,
   "metadata": {},
   "outputs": [
    {
     "name": "stdout",
     "output_type": "stream",
     "text": [
      "RouteMatch(name=technology, distance=0.556493997574)\n",
      "RouteMatch(name=sports, distance=0.671060125033)\n"
     ]
    }
   ],
   "source": [
    "// Perform multi-class classification with routeMany() -- toggle the maxK\n",
    "List<RouteMatch> routeMatches = router.routeMany(\"How is AI used in basketball?\", 3, null, null);\n",
    "for (RouteMatch match : routeMatches) {\n",
    "    System.out.println(\"RouteMatch(name=\" + match.getName() + \", distance=\" + match.getDistance() + \")\");\n",
    "}"
   ]
  },
  {
   "cell_type": "code",
   "execution_count": 8,
   "metadata": {},
   "outputs": [
    {
     "name": "stdout",
     "output_type": "stream",
     "text": [
      "RouteMatch(name=technology, distance=0.556493997574)\n",
      "RouteMatch(name=sports, distance=0.62926441431)\n"
     ]
    }
   ],
   "source": [
    "// Toggle the aggregation method -- note the different distances in the result\n",
    "List<RouteMatch> minMatches = router.routeMany(\n",
    "    \"How is AI used in basketball?\", \n",
    "    3, // maxK\n",
    "    null, // vector (will be computed from text)\n",
    "    DistanceAggregationMethod.MIN\n",
    ");\n",
    "\n",
    "for (RouteMatch match : minMatches) {\n",
    "    System.out.println(\"RouteMatch(name=\" + match.getName() + \", distance=\" + match.getDistance() + \")\");\n",
    "}"
   ]
  },
  {
   "cell_type": "markdown",
   "metadata": {},
   "source": [
    "Note the different route match distances. This is because we used the `min` aggregation method instead of the default `avg` approach."
   ]
  },
  {
   "cell_type": "markdown",
   "metadata": {},
   "source": [
    "## Update the routing config"
   ]
  },
  {
   "cell_type": "code",
   "execution_count": 9,
   "metadata": {},
   "outputs": [
    {
     "name": "stdout",
     "output_type": "stream",
     "text": [
      "Updated routing config:\n",
      "  Aggregation method: MIN\n",
      "  Max K: 3\n"
     ]
    }
   ],
   "source": [
    "router.updateRoutingConfig(\n",
    "    RoutingConfig.builder()\n",
    "        .aggregationMethod(DistanceAggregationMethod.MIN)\n",
    "        .maxK(3)\n",
    "        .build()\n",
    ");\n",
    "\n",
    "System.out.println(\"Updated routing config:\");\n",
    "System.out.println(\"  Aggregation method: \" + router.getRoutingConfig().getAggregationMethod());\n",
    "System.out.println(\"  Max K: \" + router.getRoutingConfig().getMaxK());"
   ]
  },
  {
   "cell_type": "code",
   "execution_count": 10,
   "metadata": {},
   "outputs": [
    {
     "name": "stdout",
     "output_type": "stream",
     "text": [
      "RouteMatch(name=sports, distance=0.663254201412)\n"
     ]
    }
   ],
   "source": [
    "List<RouteMatch> matches = router.routeMany(\"Lebron James\");\n",
    "for (RouteMatch match : matches) {\n",
    "    System.out.println(\"RouteMatch(name=\" + match.getName() + \", distance=\" + match.getDistance() + \")\");\n",
    "}"
   ]
  },
  {
   "cell_type": "markdown",
   "metadata": {},
   "source": [
    "## Router serialization"
   ]
  },
  {
   "cell_type": "code",
   "execution_count": 11,
   "metadata": {},
   "outputs": [
    {
     "name": "stdout",
     "output_type": "stream",
     "text": [
      "Router configuration:\n",
      "  Name: topic-router\n",
      "  Number of routes: 3\n",
      "  Vectorizer model: sentence-transformers/all-mpnet-base-v2\n",
      "  Routing config:\n",
      "    max_k: 3\n",
      "    aggregation_method: min\n",
      "\n",
      "Route details:\n",
      "  Route: technology\n",
      "    Distance threshold: 0.71\n",
      "    Metadata: {category=tech, priority=1}\n",
      "    References: 3\n",
      "  Route: sports\n",
      "    Distance threshold: 0.72\n",
      "    Metadata: {category=sports, priority=2}\n",
      "    References: 5\n",
      "  Route: entertainment\n",
      "    Distance threshold: 0.7\n",
      "    Metadata: {category=entertainment, priority=3}\n",
      "    References: 3\n"
     ]
    }
   ],
   "source": [
    "// Serialize router configuration to a dictionary (Map)\n",
    "Map<String, Object> routerDict = router.toDict();\n",
    "\n",
    "System.out.println(\"Router configuration:\");\n",
    "System.out.println(\"  Name: \" + routerDict.get(\"name\"));\n",
    "System.out.println(\"  Number of routes: \" + ((List<?>) routerDict.get(\"routes\")).size());\n",
    "System.out.println(\"  Vectorizer model: \" + ((Map<?, ?>) routerDict.get(\"vectorizer\")).get(\"model\"));\n",
    "\n",
    "// Show routing config\n",
    "Map<String, Object> config = (Map<String, Object>) routerDict.get(\"routing_config\");\n",
    "System.out.println(\"  Routing config:\");\n",
    "System.out.println(\"    max_k: \" + config.get(\"max_k\"));\n",
    "System.out.println(\"    aggregation_method: \" + config.get(\"aggregation_method\"));\n",
    "\n",
    "// Show route details with metadata\n",
    "List<Map<String, Object>> routes = (List<Map<String, Object>>) routerDict.get(\"routes\");\n",
    "System.out.println(\"\\nRoute details:\");\n",
    "for (Map<String, Object> route : routes) {\n",
    "    System.out.println(\"  Route: \" + route.get(\"name\"));\n",
    "    System.out.println(\"    Distance threshold: \" + route.get(\"distance_threshold\"));\n",
    "    System.out.println(\"    Metadata: \" + route.get(\"metadata\"));\n",
    "    System.out.println(\"    References: \" + ((List<?>) route.get(\"references\")).size());\n",
    "}"
   ]
  },
  {
   "cell_type": "code",
   "execution_count": 12,
   "metadata": {},
   "outputs": [
    {
     "name": "stdout",
     "output_type": "stream",
     "text": [
      "Router config stored in Redis at key: topic-router:route_config\n",
      "Config exists: true\n",
      "\n",
      "Stored JSON includes:\n",
      "  - Router name and routes with metadata\n",
      "  - Distance thresholds for each route\n",
      "  - Vectorizer configuration\n",
      "  - Routing config (max_k, aggregation_method)\n",
      "\n",
      "This allows the router state to be fully restored from Redis\n"
     ]
    }
   ],
   "source": [
    "// Verify router configuration is persisted to Redis as JSON\n",
    "// The router config is stored at key \"{name}:route_config\"\n",
    "String configKey = router.getName() + \":route_config\";\n",
    "Object configJson = jedis.jsonGet(configKey);\n",
    "\n",
    "System.out.println(\"Router config stored in Redis at key: \" + configKey);\n",
    "System.out.println(\"Config exists: \" + (configJson != null));\n",
    "\n",
    "if (configJson != null) {\n",
    "    System.out.println(\"\\nStored JSON includes:\");\n",
    "    System.out.println(\"  - Router name and routes with metadata\");\n",
    "    System.out.println(\"  - Distance thresholds for each route\");\n",
    "    System.out.println(\"  - Vectorizer configuration\");\n",
    "    System.out.println(\"  - Routing config (max_k, aggregation_method)\");\n",
    "    System.out.println(\"\\nThis allows the router state to be fully restored from Redis\");\n",
    "}"
   ]
  },
  {
   "cell_type": "markdown",
   "metadata": {},
   "source": [
    "## Route Reference Management\n",
    "\n",
    "You can dynamically add, retrieve, and delete route references after the router is created."
   ]
  },
  {
   "cell_type": "markdown",
   "metadata": {},
   "source": [
    "### Add Route References\n",
    "\n",
    "Add new references to an existing route:"
   ]
  },
  {
   "cell_type": "code",
   "execution_count": 13,
   "metadata": {},
   "outputs": [
    {
     "name": "stdout",
     "output_type": "stream",
     "text": [
      "Added 2 references to technology route\n",
      "  Key: technology:f243fb2d073774e8\n",
      "  Key: technology:7e4bca5853c1c329\n",
      "\n",
      "Technology route now has 5 references\n"
     ]
    }
   ],
   "source": [
    "// Add new references to the technology route\n",
    "List<String> newRefs = List.of(\"latest AI trends\", \"new tech gadgets\");\n",
    "List<String> addedKeys = router.addRouteReferences(\"technology\", newRefs);\n",
    "\n",
    "System.out.println(\"Added \" + addedKeys.size() + \" references to technology route\");\n",
    "for (String key : addedKeys) {\n",
    "    System.out.println(\"  Key: \" + key);\n",
    "}\n",
    "\n",
    "// Verify the route now has additional references\n",
    "Route techRoute = router.get(\"technology\");\n",
    "System.out.println(\"\\nTechnology route now has \" + techRoute.getReferences().size() + \" references\");"
   ]
  },
  {
   "cell_type": "markdown",
   "metadata": {},
   "source": [
    "### Get Route References\n",
    "\n",
    "Retrieve references by route name or reference ID:"
   ]
  },
  {
   "cell_type": "code",
   "execution_count": 14,
   "metadata": {},
   "outputs": [
    {
     "name": "stdout",
     "output_type": "stream",
     "text": [
      "Found 5 references for technology route:\n",
      "  Reference: what's trending in tech?\n",
      "  Reference ID: 149a9c9919c58534\n",
      "  Route: technology\n",
      "\n",
      "  Reference: latest AI trends\n",
      "  Reference ID: f243fb2d073774e8\n",
      "  Route: technology\n",
      "\n",
      "  Reference: tell me about the newest gadgets\n",
      "  Reference ID: 85cc73a1437df27c\n",
      "  Route: technology\n",
      "\n",
      "  Reference: what are the latest advancements in AI?\n",
      "  Reference ID: 851f51cce5a9ccfb\n",
      "  Route: technology\n",
      "\n",
      "  Reference: new tech gadgets\n",
      "  Reference ID: 7e4bca5853c1c329\n",
      "  Route: technology\n",
      "\n"
     ]
    }
   ],
   "source": [
    "// Get all references for the technology route\n",
    "List<Map<String, Object>> refs = router.getRouteReferences(\"technology\", null, null);\n",
    "\n",
    "System.out.println(\"Found \" + refs.size() + \" references for technology route:\");\n",
    "for (Map<String, Object> ref : refs) {\n",
    "    System.out.println(\"  Reference: \" + ref.get(\"reference\"));\n",
    "    System.out.println(\"  Reference ID: \" + ref.get(\"reference_id\"));\n",
    "    System.out.println(\"  Route: \" + ref.get(\"route_name\"));\n",
    "    System.out.println();\n",
    "}"
   ]
  },
  {
   "cell_type": "code",
   "execution_count": 15,
   "metadata": {},
   "outputs": [
    {
     "name": "stdout",
     "output_type": "stream",
     "text": [
      "Retrieved reference by ID:\n",
      "  Reference: what's trending in tech?\n",
      "  Reference ID: 149a9c9919c58534\n"
     ]
    }
   ],
   "source": [
    "// Get a specific reference by ID\n",
    "String firstRefId = (String) refs.get(0).get(\"reference_id\");\n",
    "List<Map<String, Object>> specificRef = router.getRouteReferences(null, List.of(firstRefId), null);\n",
    "\n",
    "System.out.println(\"Retrieved reference by ID:\");\n",
    "System.out.println(\"  Reference: \" + specificRef.get(0).get(\"reference\"));\n",
    "System.out.println(\"  Reference ID: \" + specificRef.get(0).get(\"reference_id\"));"
   ]
  },
  {
   "cell_type": "markdown",
   "metadata": {},
   "source": [
    "### Delete Route References\n",
    "\n",
    "Delete references by route name or reference ID:"
   ]
  },
  {
   "cell_type": "code",
   "execution_count": 16,
   "metadata": {},
   "outputs": [
    {
     "name": "stdout",
     "output_type": "stream",
     "text": [
      "Deleted 5 references from sports route\n",
      "Sports route now has 0 references\n"
     ]
    }
   ],
   "source": [
    "// Delete all references for the sports route\n",
    "int deletedCount = router.deleteRouteReferences(\"sports\", null, null);\n",
    "\n",
    "System.out.println(\"Deleted \" + deletedCount + \" references from sports route\");\n",
    "\n",
    "// Verify the route now has no references\n",
    "Route sportsRoute = router.get(\"sports\");\n",
    "System.out.println(\"Sports route now has \" + sportsRoute.getReferences().size() + \" references\");"
   ]
  },
  {
   "cell_type": "code",
   "execution_count": 17,
   "metadata": {},
   "outputs": [
    {
     "name": "stdout",
     "output_type": "stream",
     "text": [
      "Deleted 1 reference by ID\n",
      "Technology route now has 4 references\n"
     ]
    }
   ],
   "source": [
    "// Delete a specific reference by ID from technology route\n",
    "List<Map<String, Object>> techRefs = router.getRouteReferences(\"technology\", null, null);\n",
    "String refIdToDelete = (String) techRefs.get(0).get(\"reference_id\");\n",
    "\n",
    "int deleted = router.deleteRouteReferences(null, List.of(refIdToDelete), null);\n",
    "\n",
    "System.out.println(\"Deleted \" + deleted + \" reference by ID\");\n",
    "\n",
    "// Verify the deletion\n",
    "Route techRouteAfter = router.get(\"technology\");\n",
    "System.out.println(\"Technology route now has \" + techRouteAfter.getReferences().size() + \" references\");"
   ]
  },
  {
   "cell_type": "markdown",
   "metadata": {},
   "source": [
    "## Clean up the router\n",
    "\n",
    "When you're done, you can clear the router's data or delete the index entirely."
   ]
  },
  {
   "cell_type": "code",
   "execution_count": 18,
   "metadata": {},
   "outputs": [
    {
     "name": "stdout",
     "output_type": "stream",
     "text": [
      "Router cleared\n"
     ]
    }
   ],
   "source": [
    "// Use clear() to flush all routes from the index\n",
    "router.clear();\n",
    "System.out.println(\"Router cleared\");"
   ]
  },
  {
   "cell_type": "code",
   "execution_count": 19,
   "metadata": {},
   "outputs": [
    {
     "name": "stdout",
     "output_type": "stream",
     "text": [
      "Router deleted\n",
      "Index exists: false\n",
      "Redis connection closed\n"
     ]
    }
   ],
   "source": [
    "// Use delete() to clear the index and remove it completely\n",
    "router.delete();\n",
    "System.out.println(\"Router deleted\");\n",
    "System.out.println(\"Index exists: \" + router.getIndex().exists());\n",
    "\n",
    "// Close the Redis connection\n",
    "jedis.close();\n",
    "System.out.println(\"Redis connection closed\");"
   ]
  }
 ],
 "metadata": {
  "kernelspec": {
   "display_name": "Java",
   "language": "java",
   "name": "java"
  },
  "language_info": {
   "codemirror_mode": "java",
   "file_extension": ".jshell",
   "mimetype": "text/x-java-source",
   "name": "Java",
   "pygments_lexer": "java",
   "version": "21.0.8+9-Ubuntu-0ubuntu124.04.1"
  }
 },
 "nbformat": 4,
 "nbformat_minor": 4
}
