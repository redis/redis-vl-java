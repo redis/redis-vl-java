{
 "cells": [
  {
   "cell_type": "markdown",
   "metadata": {},
   "source": [
    "# Vectorizers\n",
    "\n",
    "In this notebook, we will show how to use RedisVL4j to create embeddings using the built-in text embedding vectorizers. Today RedisVL4j supports:\n",
    "1. OpenAI\n",
    "2. HuggingFace (Sentence Transformers via ONNX)\n",
    "3. Cohere\n",
    "4. VoyageAI\n",
    "5. LangChain4j (wraps many providers)\n",
    "6. Custom vectorizers\n",
    "\n",
    "Before running this notebook, be sure to:\n",
    "1. Have Java 17+ installed\n",
    "2. Have a running Redis Stack instance with RediSearch > 2.4 active\n",
    "\n",
    "For example, you can run Redis Stack locally with Docker:\n",
    "\n",
    "```bash\n",
    "docker run -d -p 6379:6379 -p 8001:8001 redis/redis-stack:latest\n",
    "```\n",
    "\n",
    "This will run Redis on port 6379 and RedisInsight at http://localhost:8001."
   ]
  },
  {
   "cell_type": "code",
   "execution_count": null,
   "metadata": {},
   "outputs": [],
   "source": [
    "// Add RedisVL4j dependencies\n",
    "%maven com.redis:redisvl4j-core:0.1.0-SNAPSHOT\n",
    "\n",
    "// Import necessary classes\n",
    "import com.redis.vl.utils.vectorize.*;\n",
    "import com.redis.vl.index.SearchIndex;\n",
    "import com.redis.vl.schema.IndexSchema;\n",
    "import com.redis.vl.query.VectorQuery;\n",
    "import redis.clients.jedis.JedisPooled;\n",
    "import java.util.List;\n",
    "import java.util.Map;\n",
    "import java.util.Arrays;"
   ]
  },
  {
   "cell_type": "markdown",
   "metadata": {},
   "source": [
    "## Creating Text Embeddings\n",
    "\n",
    "This example will show how to create an embedding from 3 simple sentences with a number of different text vectorizers in RedisVL4j.\n",
    "\n",
    "- \"That is a happy dog\"\n",
    "- \"That is a happy person\"\n",
    "- \"Today is a nice day\""
   ]
  },
  {
   "cell_type": "markdown",
   "metadata": {},
   "source": [
    "### OpenAI\n",
    "\n",
    "The `OpenAIVectorizer` makes it simple to use RedisVL4j with the embeddings models at OpenAI. This uses LangChain4j's OpenAI integration under the hood.\n",
    "\n",
    "You'll need to set your OpenAI API key as an environment variable or pass it in configuration."
   ]
  },
  {
   "cell_type": "code",
   "execution_count": null,
   "metadata": {},
   "outputs": [],
   "source": [
    "// Setup the API Key\n",
    "String apiKey = System.getenv(\"OPENAI_API_KEY\");\n",
    "if (apiKey == null) {\n",
    "    throw new IllegalStateException(\"Please set OPENAI_API_KEY environment variable\");\n",
    "}"
   ]
  },
  {
   "cell_type": "code",
   "execution_count": null,
   "metadata": {},
   "outputs": [],
   "source": [
    "// Create a vectorizer using OpenAI's text-embedding-ada-002 model\n",
    "var oai = OpenAIVectorizer.builder()\n",
    "    .apiKey(apiKey)\n",
    "    .modelName(\"text-embedding-ada-002\")\n",
    "    .build();\n",
    "\n",
    "// Embed a single sentence\n",
    "float[] test = oai.embed(\"This is a test sentence.\");\n",
    "System.out.println(\"Vector dimensions: \" + test.length);\n",
    "\n",
    "// Print first 10 dimensions\n",
    "System.out.println(Arrays.toString(Arrays.copyOfRange(test, 0, 10)));"
   ]
  },
  {
   "cell_type": "code",
   "execution_count": null,
   "metadata": {},
   "outputs": [],
   "source": [
    "// Create many embeddings at once\n",
    "List<String> sentences = Arrays.asList(\n",
    "    \"That is a happy dog\",\n",
    "    \"That is a happy person\",\n",
    "    \"Today is a sunny day\"\n",
    ");\n",
    "\n",
    "List<float[]> embeddings = oai.embedBatch(sentences);\n",
    "System.out.println(\"Number of embeddings: \" + embeddings.size());\n",
    "System.out.println(Arrays.toString(Arrays.copyOfRange(embeddings.get(0), 0, 10)));"
   ]
  },
  {
   "cell_type": "markdown",
   "metadata": {},
   "source": [
    "### HuggingFace\n",
    "\n",
    "[Huggingface](https://huggingface.co/models) is a popular NLP platform that has a number of pre-trained models you can use off the shelf. RedisVL4j supports using Huggingface \"Sentence Transformers\" via ONNX models to create embeddings from text locally.\n",
    "\n",
    "Models are automatically downloaded and cached on first use."
   ]
  },
  {
   "cell_type": "code",
   "execution_count": null,
   "metadata": {},
   "outputs": [],
   "source": [
    "// Create a vectorizer using HuggingFace Sentence Transformers\n",
    "// Choose your model from the huggingface website\n",
    "var hf = SentenceTransformersVectorizer.builder()\n",
    "    .modelName(\"sentence-transformers/all-mpnet-base-v2\")\n",
    "    .build();\n",
    "\n",
    "// Embed a sentence\n",
    "float[] hfTest = hf.embed(\"This is a test sentence.\");\n",
    "System.out.println(\"Vector dimensions: \" + hfTest.length);\n",
    "System.out.println(Arrays.toString(Arrays.copyOfRange(hfTest, 0, 10)));"
   ]
  },
  {
   "cell_type": "code",
   "execution_count": null,
   "metadata": {},
   "outputs": [],
   "source": [
    "// You can also create many embeddings at once\n",
    "List<float[]> hfEmbeddings = hf.embedBatch(sentences);\n",
    "System.out.println(\"Created \" + hfEmbeddings.size() + \" embeddings\");"
   ]
  },
  {
   "cell_type": "markdown",
   "metadata": {},
   "source": [
    "### Cohere\n",
    "\n",
    "[Cohere](https://dashboard.cohere.ai/) allows you to implement language AI into your product. The `CohereVectorizer` makes it simple to use RedisVL4j with the embeddings models at Cohere via LangChain4j.\n",
    "\n",
    "You'll need to set your Cohere API key."
   ]
  },
  {
   "cell_type": "code",
   "execution_count": null,
   "metadata": {},
   "outputs": [],
   "source": [
    "// Setup the API Key\n",
    "String cohereApiKey = System.getenv(\"COHERE_API_KEY\");\n",
    "if (cohereApiKey == null) {\n",
    "    throw new IllegalStateException(\"Please set COHERE_API_KEY environment variable\");\n",
    "}"
   ]
  },
  {
   "cell_type": "markdown",
   "metadata": {},
   "source": [
    "Special attention needs to be paid to the input type for each embed call. For example, for embedding queries, you should set input type to `SEARCH_QUERY`; for embedding documents, set to `SEARCH_DOCUMENT`. See more information [here](https://docs.cohere.com/reference/embed)"
   ]
  },
  {
   "cell_type": "code",
   "execution_count": null,
   "metadata": {},
   "outputs": [],
   "source": [
    "import dev.langchain4j.model.cohere.CohereScoringModel.InputType;\n",
    "\n",
    "// Create a vectorizer\n",
    "var co = CohereVectorizer.builder()\n",
    "    .apiKey(cohereApiKey)\n",
    "    .modelName(\"embed-english-v3.0\")\n",
    "    .build();\n",
    "\n",
    "// Embed a search query\n",
    "float[] queryEmbed = co.embed(\"This is a test sentence.\", InputType.SEARCH_QUERY);\n",
    "System.out.println(\"Query vector dimensions: \" + queryEmbed.length);\n",
    "System.out.println(Arrays.toString(Arrays.copyOfRange(queryEmbed, 0, 10)));\n",
    "\n",
    "// Embed a document\n",
    "float[] docEmbed = co.embed(\"This is a test sentence.\", InputType.SEARCH_DOCUMENT);\n",
    "System.out.println(\"Document vector dimensions: \" + docEmbed.length);\n",
    "System.out.println(Arrays.toString(Arrays.copyOfRange(docEmbed, 0, 10)));"
   ]
  },
  {
   "cell_type": "markdown",
   "metadata": {},
   "source": [
    "Learn more about using RedisVL and Cohere together through [this dedicated user guide](https://docs.cohere.com/docs/redis-and-cohere)."
   ]
  },
  {
   "cell_type": "markdown",
   "metadata": {},
   "source": [
    "### VoyageAI\n",
    "\n",
    "[VoyageAI](https://dash.voyageai.com/) allows you to implement language AI into your product. The `VoyageAIVectorizer` makes it simple to use RedisVL4j with the embeddings models at VoyageAI via LangChain4j.\n",
    "\n",
    "You'll need to set your VoyageAI API key."
   ]
  },
  {
   "cell_type": "code",
   "execution_count": null,
   "metadata": {},
   "outputs": [],
   "source": [
    "// Setup the API Key\n",
    "String voyageApiKey = System.getenv(\"VOYAGE_API_KEY\");\n",
    "if (voyageApiKey == null) {\n",
    "    throw new IllegalStateException(\"Please set VOYAGE_API_KEY environment variable\");\n",
    "}"
   ]
  },
  {
   "cell_type": "markdown",
   "metadata": {},
   "source": [
    "Special attention needs to be paid to the input type for each embed call. For example, for embedding queries, you should set input type to `QUERY`; for embedding documents, set to `DOCUMENT`. See more information [here](https://docs.voyageai.com/docs/embeddings)"
   ]
  },
  {
   "cell_type": "code",
   "execution_count": null,
   "metadata": {},
   "outputs": [],
   "source": [
    "import dev.langchain4j.model.voyageai.VoyageAiEmbeddingModel.InputType;\n",
    "\n",
    "// Create a vectorizer\n",
    "var vo = VoyageAIVectorizer.builder()\n",
    "    .apiKey(voyageApiKey)\n",
    "    .modelName(\"voyage-law-2\")  // Check available models at https://docs.voyageai.com/docs/embeddings\n",
    "    .build();\n",
    "\n",
    "// Embed a search query\n",
    "float[] voyageQuery = vo.embed(\"This is a test sentence.\", InputType.QUERY);\n",
    "System.out.println(\"Query vector dimensions: \" + voyageQuery.length);\n",
    "System.out.println(Arrays.toString(Arrays.copyOfRange(voyageQuery, 0, 10)));\n",
    "\n",
    "// Embed a document\n",
    "float[] voyageDoc = vo.embed(\"This is a test sentence.\", InputType.DOCUMENT);\n",
    "System.out.println(\"Document vector dimensions: \" + voyageDoc.length);\n",
    "System.out.println(Arrays.toString(Arrays.copyOfRange(voyageDoc, 0, 10)));"
   ]
  },
  {
   "cell_type": "markdown",
   "metadata": {},
   "source": [
    "### LangChain4j Vectorizers\n",
    "\n",
    "RedisVL4j provides a `LangChain4JVectorizer` that wraps any LangChain4j `EmbeddingModel`. This gives you access to many providers including:\n",
    "- Azure OpenAI\n",
    "- Google Vertex AI\n",
    "- Amazon Bedrock\n",
    "- Mistral AI\n",
    "- And many more\n",
    "\n",
    "Example with Azure OpenAI:"
   ]
  },
  {
   "cell_type": "code",
   "execution_count": null,
   "metadata": {},
   "outputs": [],
   "source": [
    "import dev.langchain4j.model.azure.AzureOpenAiEmbeddingModel;\n",
    "\n",
    "// Create an Azure OpenAI embedding model\n",
    "var azureModel = AzureOpenAiEmbeddingModel.builder()\n",
    "    .apiKey(System.getenv(\"AZURE_OPENAI_API_KEY\"))\n",
    "    .endpoint(System.getenv(\"AZURE_OPENAI_ENDPOINT\"))\n",
    "    .deploymentName(\"text-embedding-ada-002\")\n",
    "    .build();\n",
    "\n",
    "// Wrap it in a LangChain4JVectorizer\n",
    "var azureVectorizer = new LangChain4JVectorizer(azureModel);\n",
    "\n",
    "// Use it like any other vectorizer\n",
    "float[] azureEmbed = azureVectorizer.embed(\"This is a test sentence.\");\n",
    "System.out.println(\"Vector dimensions: \" + azureEmbed.length);"
   ]
  },
  {
   "cell_type": "markdown",
   "metadata": {},
   "source": [
    "### Custom Vectorizers\n",
    "\n",
    "RedisVL4j supports the use of custom vectorizers by implementing the `BaseVectorizer` interface. This enables compatibility with any function that generates vectors from string data."
   ]
  },
  {
   "cell_type": "code",
   "execution_count": null,
   "metadata": {},
   "outputs": [],
   "source": [
    "// Create a simple custom vectorizer\n",
    "class CustomVectorizer extends BaseVectorizer {\n",
    "    public CustomVectorizer() {\n",
    "        super(\"custom-model\", 768);\n",
    "    }\n",
    "    \n",
    "    @Override\n",
    "    public float[] embed(String text) {\n",
    "        float[] embedding = new float[768];\n",
    "        Arrays.fill(embedding, 0.101f);\n",
    "        return embedding;\n",
    "    }\n",
    "    \n",
    "    @Override\n",
    "    public List<float[]> embedBatch(List<String> texts) {\n",
    "        return texts.stream()\n",
    "            .map(this::embed)\n",
    "            .collect(java.util.stream.Collectors.toList());\n",
    "    }\n",
    "}\n",
    "\n",
    "var customVectorizer = new CustomVectorizer();\n",
    "float[] customEmbed = customVectorizer.embed(\"This is a test sentence.\");\n",
    "System.out.println(Arrays.toString(Arrays.copyOfRange(customEmbed, 0, 10)));"
   ]
  },
  {
   "cell_type": "markdown",
   "metadata": {},
   "source": [
    "This enables the use of custom vectorizers with other RedisVL4j components like SemanticCache:"
   ]
  },
  {
   "cell_type": "code",
   "execution_count": null,
   "metadata": {},
   "outputs": [],
   "source": [
    "import com.redis.vl.extensions.cache.SemanticCache;\n",
    "\n",
    "var jedis = new JedisPooled(\"localhost\", 6379);\n",
    "\n",
    "var cache = SemanticCache.builder()\n",
    "    .name(\"custom_cache\")\n",
    "    .vectorizer(customVectorizer)\n",
    "    .jedis(jedis)\n",
    "    .build();\n",
    "\n",
    "cache.store(\"this is a test prompt\", \"this is a test response\");\n",
    "var result = cache.check(\"this is also a test prompt\");\n",
    "System.out.println(\"Cache result: \" + result);"
   ]
  },
  {
   "cell_type": "markdown",
   "metadata": {},
   "source": [
    "## Search with Provider Embeddings\n",
    "\n",
    "Now that we've created our embeddings, we can use them to search for similar sentences. We will use the same 3 sentences from above and search for similar sentences.\n",
    "\n",
    "First, we need to create the schema for our index.\n",
    "\n",
    "Here's what the schema for the example looks like in YAML for the HuggingFace vectorizer:\n",
    "\n",
    "```yaml\n",
    "version: '0.1.0'\n",
    "\n",
    "index:\n",
    "    name: vectorizers\n",
    "    prefix: doc\n",
    "    storage_type: hash\n",
    "\n",
    "fields:\n",
    "    - name: sentence\n",
    "      type: text\n",
    "    - name: embedding\n",
    "      type: vector\n",
    "      attrs:\n",
    "        dims: 768\n",
    "        algorithm: flat\n",
    "        distance_metric: cosine\n",
    "```"
   ]
  },
  {
   "cell_type": "code",
   "execution_count": null,
   "metadata": {},
   "outputs": [],
   "source": [
    "import com.redis.vl.schema.*;\n",
    "import redis.clients.jedis.search.schemafields.*;\n",
    "\n",
    "// Create the schema programmatically\n",
    "var schema = IndexSchema.builder()\n",
    "    .indexName(\"vectorizers\")\n",
    "    .prefix(\"doc\")\n",
    "    .storageType(IndexSchema.StorageType.HASH)\n",
    "    .addTextField(\"sentence\")\n",
    "    .addVectorField(VectorField.builder()\n",
    "        .name(\"embedding\")\n",
    "        .algorithm(VectorField.Algorithm.FLAT)\n",
    "        .dimensions(768)\n",
    "        .distanceMetric(VectorField.DistanceMetric.COSINE)\n",
    "        .dataType(VectorField.VectorDataType.FLOAT32)\n",
    "        .build())\n",
    "    .build();\n",
    "\n",
    "// Create the index\n",
    "var index = new SearchIndex(schema, jedis);\n",
    "index.create(true); // overwrite if exists\n",
    "System.out.println(\"Index created: \" + index.getName());"
   ]
  },
  {
   "cell_type": "markdown",
   "metadata": {},
   "source": [
    "Loading data to RedisVL4j is easy. It expects a list of maps. The vector is stored as a float array."
   ]
  },
  {
   "cell_type": "code",
   "execution_count": null,
   "metadata": {},
   "outputs": [],
   "source": [
    "// Create embeddings for our sentences\n",
    "List<float[]> sentenceEmbeddings = hf.embedBatch(sentences);\n",
    "\n",
    "// Prepare data for loading\n",
    "List<Map<String, Object>> data = new java.util.ArrayList<>();\n",
    "for (int i = 0; i < sentences.size(); i++) {\n",
    "    Map<String, Object> doc = new java.util.HashMap<>();\n",
    "    doc.put(\"sentence\", sentences.get(i));\n",
    "    doc.put(\"embedding\", sentenceEmbeddings.get(i));\n",
    "    data.add(doc);\n",
    "}\n",
    "\n",
    "// Load data into the index\n",
    "index.load(data);\n",
    "System.out.println(\"Loaded \" + data.size() + \" documents\");"
   ]
  },
  {
   "cell_type": "code",
   "execution_count": null,
   "metadata": {},
   "outputs": [],
   "source": [
    "// Use the HuggingFace vectorizer to create a query embedding\n",
    "float[] queryEmbedding = hf.embed(\"That is a happy cat\");\n",
    "\n",
    "// Create and execute a vector query\n",
    "var query = VectorQuery.builder()\n",
    "    .vector(queryEmbedding)\n",
    "    .field(\"embedding\")\n",
    "    .returnFields(List.of(\"sentence\"))\n",
    "    .numResults(3)\n",
    "    .build();\n",
    "\n",
    "List<Map<String, Object>> results = index.query(query);\n",
    "for (var doc : results) {\n",
    "    System.out.println(doc.get(\"sentence\") + \" - Distance: \" + doc.get(\"vector_distance\"));\n",
    "}"
   ]
  },
  {
   "cell_type": "markdown",
   "metadata": {},
   "source": [
    "## Selecting your float data type\n",
    "\n",
    "When embedding text as vectors, RedisVL4j supports different floating point data types: `FLOAT32`, `FLOAT64`, and `FLOAT16`.\n",
    "\n",
    "Your data type must match what is defined in your search index. If one is not explicitly set, the default is `FLOAT32`."
   ]
  },
  {
   "cell_type": "code",
   "execution_count": null,
   "metadata": {},
   "outputs": [],
   "source": [
    "// Create a vectorizer with float16 precision\n",
    "var vectorizer16 = SentenceTransformersVectorizer.builder()\n",
    "    .modelName(\"sentence-transformers/all-mpnet-base-v2\")\n",
    "    .dataType(VectorField.VectorDataType.FLOAT16)\n",
    "    .build();\n",
    "\n",
    "float[] float16Embed = vectorizer16.embed(\"test sentence\");\n",
    "\n",
    "// Create a vectorizer with float64 precision\n",
    "var vectorizer64 = SentenceTransformersVectorizer.builder()\n",
    "    .modelName(\"sentence-transformers/all-mpnet-base-v2\")\n",
    "    .dataType(VectorField.VectorDataType.FLOAT64)\n",
    "    .build();\n",
    "\n",
    "float[] float64Embed = vectorizer64.embed(\"test sentence\");\n",
    "\n",
    "System.out.println(\"Different data types produce different representations: \" + \n",
    "    !Arrays.equals(float16Embed, float64Embed));"
   ]
  },
  {
   "cell_type": "code",
   "execution_count": null,
   "metadata": {},
   "outputs": [],
   "source": [
    "// Cleanup\n",
    "index.delete(true);\n",
    "System.out.println(\"Index deleted\");"
   ]
  }
 ],
 "metadata": {
  "kernelspec": {
   "display_name": "Java",
   "language": "java",
   "name": "java"
  },
  "language_info": {
   "name": "java",
   "version": "17"
  }
 },
 "nbformat": 4,
 "nbformat_minor": 4
}
