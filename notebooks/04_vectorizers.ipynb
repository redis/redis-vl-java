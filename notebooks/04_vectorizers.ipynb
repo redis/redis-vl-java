{
 "cells": [
  {
   "cell_type": "markdown",
   "metadata": {},
   "source": [
    "# Vectorizers\n",
    "\n",
    "In this notebook, we will show how to use RedisVL4j to create embeddings using the built-in text embedding vectorizers. Today RedisVL4j supports:\n",
    "1. OpenAI\n",
    "2. HuggingFace (Sentence Transformers via ONNX)\n",
    "3. Cohere\n",
    "4. VoyageAI\n",
    "5. LangChain4j (wraps many providers)\n",
    "6. Custom vectorizers\n",
    "\n",
    "Before running this notebook, be sure to:\n",
    "1. Have Java 17+ installed\n",
    "2. Have a running Redis Stack instance with RediSearch > 2.4 active\n",
    "\n",
    "For example, you can run Redis Stack locally with Docker:\n",
    "\n",
    "```bash\n",
    "docker run -d -p 6379:6379 -p 8001:8001 redis/redis-stack:latest\n",
    "```\n",
    "\n",
    "This will run Redis on port 6379 and RedisInsight at http://localhost:8001."
   ]
  },
  {
   "cell_type": "code",
   "execution_count": 1,
   "metadata": {},
   "outputs": [
    {
     "ename": "EvalException",
     "evalue": "Exception occurred while running line magic 'maven': Error resolving 'com.redis:redisvl4j-core:0.1.0-SNAPSHOT'. [unresolved dependency: com.redis#redisvl4j-core;0.1.0-SNAPSHOT: not found, unresolved dependency: com.redis#redisvl4j-core;0.1.0-SNAPSHOT: not found]",
     "output_type": "error",
     "traceback": [
      "\u001b[1m\u001b[31m---------------------------------------------------------------------------\u001b[0m",
      "\u001b[1m\u001b[31mjava.lang.RuntimeException: Exception occurred while running line magic 'maven': Error resolving 'com.redis:redisvl4j-core:0.1.0-SNAPSHOT'. [unresolved dependency: com.redis#redisvl4j-core;0.1.0-SNAPSHOT: not found, unresolved dependency: com.redis#redisvl4j-core;0.1.0-SNAPSHOT: not found]\u001b[0m",
      "\u001b[1m\u001b[31m\tat org.dflib.jjava.runtime.Magics.lineMagic(Magics.java:42)\u001b[0m",
      "\u001b[1m\u001b[31m\tat .(#12:2)\u001b[0m"
     ]
    }
   ],
   "source": [
    "// Add RedisVL4j dependencies\n",
    "%maven com.redis:redisvl4j-core:0.1.0-SNAPSHOT\n",
    "\n",
    "// Import necessary classes\n",
    "import com.redis.vl.utils.vectorize.*;\n",
    "import com.redis.vl.index.SearchIndex;\n",
    "import com.redis.vl.schema.IndexSchema;\n",
    "import com.redis.vl.query.VectorQuery;\n",
    "import redis.clients.jedis.JedisPooled;\n",
    "import java.util.List;\n",
    "import java.util.Map;\n",
    "import java.util.Arrays;"
   ]
  },
  {
   "cell_type": "markdown",
   "metadata": {},
   "source": [
    "## Creating Text Embeddings\n",
    "\n",
    "This example will show how to create an embedding from 3 simple sentences with a number of different text vectorizers in RedisVL4j.\n",
    "\n",
    "- \"That is a happy dog\"\n",
    "- \"That is a happy person\"\n",
    "- \"Today is a nice day\""
   ]
  },
  {
   "cell_type": "markdown",
   "metadata": {},
   "source": [
    "### OpenAI\n",
    "\n",
    "The `OpenAIVectorizer` makes it simple to use RedisVL4j with the embeddings models at OpenAI. This uses LangChain4j's OpenAI integration under the hood.\n",
    "\n",
    "You'll need to set your OpenAI API key as an environment variable or pass it in configuration."
   ]
  },
  {
   "cell_type": "code",
   "execution_count": 2,
   "metadata": {},
   "outputs": [],
   "source": [
    "// Setup the API Key\n",
    "String apiKey = System.getenv(\"OPENAI_API_KEY\");\n",
    "if (apiKey == null) {\n",
    "    throw new IllegalStateException(\"Please set OPENAI_API_KEY environment variable\");\n",
    "}"
   ]
  },
  {
   "cell_type": "code",
   "execution_count": 3,
   "metadata": {},
   "outputs": [
    {
     "ename": "CompilationException",
     "evalue": "",
     "output_type": "error",
     "traceback": [
      "\u001b[1m\u001b[30m|   \u001b[1m\u001b[30mvar oai = \u001b[0m\u001b[1m\u001b[30m\u001b[41mOpenAIVectorizer\u001b[0m\u001b[1m\u001b[30m.builder()\u001b[0m",
      "\u001b[1m\u001b[31mcannot find symbol\u001b[0m",
      "\u001b[1m\u001b[31m  symbol:   variable OpenAIVectorizer\u001b[0m",
      ""
     ]
    }
   ],
   "source": [
    "// Create a vectorizer using OpenAI's text-embedding-ada-002 model\n",
    "var oai = OpenAIVectorizer.builder()\n",
    "    .apiKey(apiKey)\n",
    "    .modelName(\"text-embedding-ada-002\")\n",
    "    .build();\n",
    "\n",
    "// Embed a single sentence\n",
    "float[] test = oai.embed(\"This is a test sentence.\");\n",
    "System.out.println(\"Vector dimensions: \" + test.length);\n",
    "\n",
    "// Print first 10 dimensions\n",
    "System.out.println(Arrays.toString(Arrays.copyOfRange(test, 0, 10)));"
   ]
  },
  {
   "cell_type": "code",
   "execution_count": 4,
   "metadata": {},
   "outputs": [
    {
     "ename": "CompilationException",
     "evalue": "",
     "output_type": "error",
     "traceback": [
      "\u001b[1m\u001b[30m|   \u001b[1m\u001b[30mList<float[]> embeddings = \u001b[0m\u001b[1m\u001b[30m\u001b[41moai\u001b[0m\u001b[1m\u001b[30m.embedBatch(sentences);\u001b[0m",
      "\u001b[1m\u001b[31mcannot find symbol\u001b[0m",
      "\u001b[1m\u001b[31m  symbol:   variable oai\u001b[0m",
      ""
     ]
    }
   ],
   "source": [
    "// Create many embeddings at once\n",
    "List<String> sentences = Arrays.asList(\n",
    "    \"That is a happy dog\",\n",
    "    \"That is a happy person\",\n",
    "    \"Today is a sunny day\"\n",
    ");\n",
    "\n",
    "List<float[]> embeddings = oai.embedBatch(sentences);\n",
    "System.out.println(\"Number of embeddings: \" + embeddings.size());\n",
    "System.out.println(Arrays.toString(Arrays.copyOfRange(embeddings.get(0), 0, 10)));"
   ]
  },
  {
   "cell_type": "markdown",
   "metadata": {},
   "source": [
    "### HuggingFace\n",
    "\n",
    "[Huggingface](https://huggingface.co/models) is a popular NLP platform that has a number of pre-trained models you can use off the shelf. RedisVL4j supports using Huggingface \"Sentence Transformers\" via ONNX models to create embeddings from text locally.\n",
    "\n",
    "Models are automatically downloaded and cached on first use."
   ]
  },
  {
   "cell_type": "code",
   "execution_count": 5,
   "metadata": {},
   "outputs": [
    {
     "ename": "CompilationException",
     "evalue": "",
     "output_type": "error",
     "traceback": [
      "\u001b[1m\u001b[30m|   \u001b[1m\u001b[30mvar hf = \u001b[0m\u001b[1m\u001b[30m\u001b[41mSentenceTransformersVectorizer\u001b[0m\u001b[1m\u001b[30m.builder()\u001b[0m",
      "\u001b[1m\u001b[31mcannot find symbol\u001b[0m",
      "\u001b[1m\u001b[31m  symbol:   variable SentenceTransformersVectorizer\u001b[0m",
      ""
     ]
    }
   ],
   "source": [
    "// Create a vectorizer using HuggingFace Sentence Transformers\n",
    "// Choose your model from the huggingface website\n",
    "var hf = SentenceTransformersVectorizer.builder()\n",
    "    .modelName(\"sentence-transformers/all-mpnet-base-v2\")\n",
    "    .build();\n",
    "\n",
    "// Embed a sentence\n",
    "float[] hfTest = hf.embed(\"This is a test sentence.\");\n",
    "System.out.println(\"Vector dimensions: \" + hfTest.length);\n",
    "System.out.println(Arrays.toString(Arrays.copyOfRange(hfTest, 0, 10)));"
   ]
  },
  {
   "cell_type": "code",
   "execution_count": 6,
   "metadata": {},
   "outputs": [
    {
     "ename": "CompilationException",
     "evalue": "",
     "output_type": "error",
     "traceback": [
      "\u001b[1m\u001b[30m|   \u001b[1m\u001b[30mList<float[]> hfEmbeddings = \u001b[0m\u001b[1m\u001b[30m\u001b[41mhf\u001b[0m\u001b[1m\u001b[30m.embedBatch(sentences);\u001b[0m",
      "\u001b[1m\u001b[31mcannot find symbol\u001b[0m",
      "\u001b[1m\u001b[31m  symbol:   variable hf\u001b[0m",
      ""
     ]
    }
   ],
   "source": [
    "// You can also create many embeddings at once\n",
    "List<float[]> hfEmbeddings = hf.embedBatch(sentences);\n",
    "System.out.println(\"Created \" + hfEmbeddings.size() + \" embeddings\");"
   ]
  },
  {
   "cell_type": "markdown",
   "metadata": {},
   "source": [
    "### Cohere\n",
    "\n",
    "[Cohere](https://dashboard.cohere.ai/) allows you to implement language AI into your product. The `CohereVectorizer` makes it simple to use RedisVL4j with the embeddings models at Cohere via LangChain4j.\n",
    "\n",
    "You'll need to set your Cohere API key."
   ]
  },
  {
   "cell_type": "code",
   "execution_count": 7,
   "metadata": {},
   "outputs": [],
   "source": [
    "// Setup the API Key\n",
    "String cohereApiKey = System.getenv(\"COHERE_API_KEY\");\n",
    "if (cohereApiKey == null) {\n",
    "    throw new IllegalStateException(\"Please set COHERE_API_KEY environment variable\");\n",
    "}"
   ]
  },
  {
   "cell_type": "markdown",
   "metadata": {},
   "source": [
    "Special attention needs to be paid to the input type for each embed call. For example, for embedding queries, you should set input type to `SEARCH_QUERY`; for embedding documents, set to `SEARCH_DOCUMENT`. See more information [here](https://docs.cohere.com/reference/embed)"
   ]
  },
  {
   "cell_type": "code",
   "execution_count": 8,
   "metadata": {},
   "outputs": [
    {
     "ename": "CompilationException",
     "evalue": "",
     "output_type": "error",
     "traceback": [
      "\u001b[1m\u001b[30m|   \u001b[1m\u001b[30mimport \u001b[0m\u001b[1m\u001b[30m\u001b[41mdev.langchain4j.model.cohere.CohereScoringModel.InputType\u001b[0m\u001b[1m\u001b[30m;\u001b[0m",
      "\u001b[1m\u001b[31mpackage dev.langchain4j.model.cohere.CohereScoringModel does not exist\u001b[0m",
      ""
     ]
    }
   ],
   "source": [
    "import dev.langchain4j.model.cohere.CohereScoringModel.InputType;\n",
    "\n",
    "// Create a vectorizer\n",
    "var co = CohereVectorizer.builder()\n",
    "    .apiKey(cohereApiKey)\n",
    "    .modelName(\"embed-english-v3.0\")\n",
    "    .build();\n",
    "\n",
    "// Embed a search query\n",
    "float[] queryEmbed = co.embed(\"This is a test sentence.\", InputType.SEARCH_QUERY);\n",
    "System.out.println(\"Query vector dimensions: \" + queryEmbed.length);\n",
    "System.out.println(Arrays.toString(Arrays.copyOfRange(queryEmbed, 0, 10)));\n",
    "\n",
    "// Embed a document\n",
    "float[] docEmbed = co.embed(\"This is a test sentence.\", InputType.SEARCH_DOCUMENT);\n",
    "System.out.println(\"Document vector dimensions: \" + docEmbed.length);\n",
    "System.out.println(Arrays.toString(Arrays.copyOfRange(docEmbed, 0, 10)));"
   ]
  },
  {
   "cell_type": "markdown",
   "metadata": {},
   "source": [
    "Learn more about using RedisVL and Cohere together through [this dedicated user guide](https://docs.cohere.com/docs/redis-and-cohere)."
   ]
  },
  {
   "cell_type": "markdown",
   "metadata": {},
   "source": [
    "### VoyageAI\n",
    "\n",
    "[VoyageAI](https://dash.voyageai.com/) allows you to implement language AI into your product. The `VoyageAIVectorizer` makes it simple to use RedisVL4j with the embeddings models at VoyageAI via LangChain4j.\n",
    "\n",
    "You'll need to set your VoyageAI API key."
   ]
  },
  {
   "cell_type": "code",
   "execution_count": 9,
   "metadata": {},
   "outputs": [],
   "source": [
    "// Setup the API Key\n",
    "String voyageApiKey = System.getenv(\"VOYAGE_API_KEY\");\n",
    "if (voyageApiKey == null) {\n",
    "    throw new IllegalStateException(\"Please set VOYAGE_API_KEY environment variable\");\n",
    "}"
   ]
  },
  {
   "cell_type": "markdown",
   "metadata": {},
   "source": [
    "Special attention needs to be paid to the input type for each embed call. For example, for embedding queries, you should set input type to `QUERY`; for embedding documents, set to `DOCUMENT`. See more information [here](https://docs.voyageai.com/docs/embeddings)"
   ]
  },
  {
   "cell_type": "code",
   "execution_count": 10,
   "metadata": {},
   "outputs": [
    {
     "ename": "CompilationException",
     "evalue": "",
     "output_type": "error",
     "traceback": [
      "\u001b[1m\u001b[30m|   \u001b[1m\u001b[30mimport \u001b[0m\u001b[1m\u001b[30m\u001b[41mdev.langchain4j.model.voyageai.VoyageAiEmbeddingModel.InputType\u001b[0m\u001b[1m\u001b[30m;\u001b[0m",
      "\u001b[1m\u001b[31mpackage dev.langchain4j.model.voyageai.VoyageAiEmbeddingModel does not exist\u001b[0m",
      ""
     ]
    }
   ],
   "source": [
    "import dev.langchain4j.model.voyageai.VoyageAiEmbeddingModel.InputType;\n",
    "\n",
    "// Create a vectorizer\n",
    "var vo = VoyageAIVectorizer.builder()\n",
    "    .apiKey(voyageApiKey)\n",
    "    .modelName(\"voyage-law-2\")  // Check available models at https://docs.voyageai.com/docs/embeddings\n",
    "    .build();\n",
    "\n",
    "// Embed a search query\n",
    "float[] voyageQuery = vo.embed(\"This is a test sentence.\", InputType.QUERY);\n",
    "System.out.println(\"Query vector dimensions: \" + voyageQuery.length);\n",
    "System.out.println(Arrays.toString(Arrays.copyOfRange(voyageQuery, 0, 10)));\n",
    "\n",
    "// Embed a document\n",
    "float[] voyageDoc = vo.embed(\"This is a test sentence.\", InputType.DOCUMENT);\n",
    "System.out.println(\"Document vector dimensions: \" + voyageDoc.length);\n",
    "System.out.println(Arrays.toString(Arrays.copyOfRange(voyageDoc, 0, 10)));"
   ]
  },
  {
   "cell_type": "markdown",
   "metadata": {},
   "source": [
    "### LangChain4j Vectorizers\n",
    "\n",
    "RedisVL4j provides a `LangChain4JVectorizer` that wraps any LangChain4j `EmbeddingModel`. This gives you access to many providers including:\n",
    "- Azure OpenAI\n",
    "- Google Vertex AI\n",
    "- Amazon Bedrock\n",
    "- Mistral AI\n",
    "- And many more\n",
    "\n",
    "Example with Azure OpenAI:"
   ]
  },
  {
   "cell_type": "code",
   "execution_count": 11,
   "metadata": {},
   "outputs": [
    {
     "ename": "CompilationException",
     "evalue": "",
     "output_type": "error",
     "traceback": [
      "\u001b[1m\u001b[30m|   \u001b[1m\u001b[30mimport \u001b[0m\u001b[1m\u001b[30m\u001b[41mdev.langchain4j.model.azure.AzureOpenAiEmbeddingModel\u001b[0m\u001b[1m\u001b[30m;\u001b[0m",
      "\u001b[1m\u001b[31mpackage dev.langchain4j.model.azure does not exist\u001b[0m",
      ""
     ]
    }
   ],
   "source": [
    "import dev.langchain4j.model.azure.AzureOpenAiEmbeddingModel;\n",
    "\n",
    "// Create an Azure OpenAI embedding model\n",
    "var azureModel = AzureOpenAiEmbeddingModel.builder()\n",
    "    .apiKey(System.getenv(\"AZURE_OPENAI_API_KEY\"))\n",
    "    .endpoint(System.getenv(\"AZURE_OPENAI_ENDPOINT\"))\n",
    "    .deploymentName(\"text-embedding-ada-002\")\n",
    "    .build();\n",
    "\n",
    "// Wrap it in a LangChain4JVectorizer\n",
    "var azureVectorizer = new LangChain4JVectorizer(azureModel);\n",
    "\n",
    "// Use it like any other vectorizer\n",
    "float[] azureEmbed = azureVectorizer.embed(\"This is a test sentence.\");\n",
    "System.out.println(\"Vector dimensions: \" + azureEmbed.length);"
   ]
  },
  {
   "cell_type": "markdown",
   "metadata": {},
   "source": [
    "### Custom Vectorizers\n",
    "\n",
    "RedisVL4j supports the use of custom vectorizers by implementing the `BaseVectorizer` interface. This enables compatibility with any function that generates vectors from string data."
   ]
  },
  {
   "cell_type": "code",
   "execution_count": 12,
   "metadata": {},
   "outputs": [
    {
     "ename": "CompilationException",
     "evalue": "",
     "output_type": "error",
     "traceback": [
      "\u001b[1m\u001b[30m|   \u001b[1m\u001b[30m    \u001b[0m\u001b[1m\u001b[30m\u001b[41m@Override\u001b[0m\u001b[1m\u001b[30m\u001b[0m",
      "\u001b[1m\u001b[31mmethod does not override or implement a method from a supertype\u001b[0m",
      "",
      "\u001b[1m\u001b[30m|   \u001b[1m\u001b[30m    \u001b[0m\u001b[1m\u001b[30m\u001b[41m@Override\u001b[0m\u001b[1m\u001b[30m\u001b[0m",
      "\u001b[1m\u001b[31mmethod does not override or implement a method from a supertype\u001b[0m",
      "",
      "\u001b[1m\u001b[30m|   \u001b[1m\u001b[30m// Create a simple custom vectorizer\u001b[0m",
      "\u001b[1m\u001b[30m|   \u001b[1m\u001b[30mclass CustomVectorizer extends BaseVectorizer {\u001b[0m",
      "\u001b[1m\u001b[30m|   \u001b[1m\u001b[30m    public CustomVectorizer() {\u001b[0m",
      "\u001b[1m\u001b[30m|   \u001b[1m\u001b[30m        super(\"custom-model\", 768);\u001b[0m",
      "\u001b[1m\u001b[30m|   \u001b[1m\u001b[30m    }\u001b[0m",
      "\u001b[1m\u001b[30m|   \u001b[1m\u001b[30m    \u001b[0m",
      "\u001b[1m\u001b[30m|   \u001b[1m\u001b[30m    @Override\u001b[0m",
      "\u001b[1m\u001b[30m|   \u001b[1m\u001b[30m    public float[] embed(String text) {\u001b[0m",
      "\u001b[1m\u001b[30m|   \u001b[1m\u001b[30m        float[] embedding = new float[768];\u001b[0m",
      "\u001b[1m\u001b[30m|   \u001b[1m\u001b[30m        Arrays.fill(embedding, 0.101f);\u001b[0m",
      "\u001b[1m\u001b[30m|   \u001b[1m\u001b[30m        return embedding;\u001b[0m",
      "\u001b[1m\u001b[30m|   \u001b[1m\u001b[30m    }\u001b[0m",
      "\u001b[1m\u001b[30m|   \u001b[1m\u001b[30m    \u001b[0m",
      "\u001b[1m\u001b[30m|   \u001b[1m\u001b[30m    @Override\u001b[0m",
      "\u001b[1m\u001b[30m|   \u001b[1m\u001b[30m    public List<float[]> embedBatch(List<String> texts) {\u001b[0m",
      "\u001b[1m\u001b[30m|   \u001b[1m\u001b[30m        return texts.stream()\u001b[0m",
      "\u001b[1m\u001b[30m|   \u001b[1m\u001b[30m            .map(this::embed)\u001b[0m",
      "\u001b[1m\u001b[30m|   \u001b[1m\u001b[30m            .collect(java.util.stream.Collectors.toList());\u001b[0m",
      "\u001b[1m\u001b[30m|   \u001b[1m\u001b[30m    }\u001b[0m",
      "\u001b[1m\u001b[30m|   \u001b[1m\u001b[30m}\u001b[0m",
      "\u001b[1m\u001b[31mUnresolved dependencies:\u001b[0m",
      "\u001b[1m\u001b[31m   - class BaseVectorizer\u001b[0m"
     ]
    }
   ],
   "source": [
    "// Create a simple custom vectorizer\n",
    "class CustomVectorizer extends BaseVectorizer {\n",
    "    public CustomVectorizer() {\n",
    "        super(\"custom-model\", 768);\n",
    "    }\n",
    "    \n",
    "    @Override\n",
    "    public float[] embed(String text) {\n",
    "        float[] embedding = new float[768];\n",
    "        Arrays.fill(embedding, 0.101f);\n",
    "        return embedding;\n",
    "    }\n",
    "    \n",
    "    @Override\n",
    "    public List<float[]> embedBatch(List<String> texts) {\n",
    "        return texts.stream()\n",
    "            .map(this::embed)\n",
    "            .collect(java.util.stream.Collectors.toList());\n",
    "    }\n",
    "}\n",
    "\n",
    "var customVectorizer = new CustomVectorizer();\n",
    "float[] customEmbed = customVectorizer.embed(\"This is a test sentence.\");\n",
    "System.out.println(Arrays.toString(Arrays.copyOfRange(customEmbed, 0, 10)));"
   ]
  },
  {
   "cell_type": "markdown",
   "metadata": {},
   "source": [
    "This enables the use of custom vectorizers with other RedisVL4j components like SemanticCache:"
   ]
  },
  {
   "cell_type": "code",
   "execution_count": 13,
   "metadata": {},
   "outputs": [
    {
     "ename": "CompilationException",
     "evalue": "",
     "output_type": "error",
     "traceback": [
      "\u001b[1m\u001b[30m|   \u001b[1m\u001b[30mvar jedis = new \u001b[0m\u001b[1m\u001b[30m\u001b[41mJedisPooled\u001b[0m\u001b[1m\u001b[30m(\"localhost\", 6379);\u001b[0m",
      "\u001b[1m\u001b[31mcannot find symbol\u001b[0m",
      "\u001b[1m\u001b[31m  symbol:   class JedisPooled\u001b[0m",
      ""
     ]
    }
   ],
   "source": [
    "import com.redis.vl.extensions.cache.SemanticCache;\n",
    "\n",
    "var jedis = new JedisPooled(\"localhost\", 6379);\n",
    "\n",
    "var cache = SemanticCache.builder()\n",
    "    .name(\"custom_cache\")\n",
    "    .vectorizer(customVectorizer)\n",
    "    .jedis(jedis)\n",
    "    .build();\n",
    "\n",
    "cache.store(\"this is a test prompt\", \"this is a test response\");\n",
    "var result = cache.check(\"this is also a test prompt\");\n",
    "System.out.println(\"Cache result: \" + result);"
   ]
  },
  {
   "cell_type": "markdown",
   "metadata": {},
   "source": [
    "## Search with Provider Embeddings\n",
    "\n",
    "Now that we've created our embeddings, we can use them to search for similar sentences. We will use the same 3 sentences from above and search for similar sentences.\n",
    "\n",
    "First, we need to create the schema for our index.\n",
    "\n",
    "Here's what the schema for the example looks like in YAML for the HuggingFace vectorizer:\n",
    "\n",
    "```yaml\n",
    "version: '0.1.0'\n",
    "\n",
    "index:\n",
    "    name: vectorizers\n",
    "    prefix: doc\n",
    "    storage_type: hash\n",
    "\n",
    "fields:\n",
    "    - name: sentence\n",
    "      type: text\n",
    "    - name: embedding\n",
    "      type: vector\n",
    "      attrs:\n",
    "        dims: 768\n",
    "        algorithm: flat\n",
    "        distance_metric: cosine\n",
    "```"
   ]
  },
  {
   "cell_type": "code",
   "execution_count": 14,
   "metadata": {},
   "outputs": [
    {
     "ename": "CompilationException",
     "evalue": "",
     "output_type": "error",
     "traceback": [
      "\u001b[1m\u001b[30m|   \u001b[1m\u001b[30m\u001b[0m\u001b[1m\u001b[30m\u001b[41m\u001b[0m\u001b[1m\u001b[30mimport redis.clients.jedis.search.schemafields.*;\u001b[0m",
      "\u001b[1m\u001b[31mpackage redis.clients.jedis.search.schemafields does not exist\u001b[0m",
      ""
     ]
    }
   ],
   "source": [
    "import com.redis.vl.schema.*;\n",
    "import redis.clients.jedis.search.schemafields.*;\n",
    "\n",
    "// Create the schema programmatically\n",
    "var schema = IndexSchema.builder()\n",
    "    .indexName(\"vectorizers\")\n",
    "    .prefix(\"doc\")\n",
    "    .storageType(IndexSchema.StorageType.HASH)\n",
    "    .addTextField(\"sentence\")\n",
    "    .addVectorField(VectorField.builder()\n",
    "        .name(\"embedding\")\n",
    "        .algorithm(VectorField.Algorithm.FLAT)\n",
    "        .dimensions(768)\n",
    "        .distanceMetric(VectorField.DistanceMetric.COSINE)\n",
    "        .dataType(VectorField.VectorDataType.FLOAT32)\n",
    "        .build())\n",
    "    .build();\n",
    "\n",
    "// Create the index\n",
    "var index = new SearchIndex(schema, jedis);\n",
    "index.create(true); // overwrite if exists\n",
    "System.out.println(\"Index created: \" + index.getName());"
   ]
  },
  {
   "cell_type": "markdown",
   "metadata": {},
   "source": [
    "Loading data to RedisVL4j is easy. It expects a list of maps. The vector is stored as a float array."
   ]
  },
  {
   "cell_type": "code",
   "execution_count": 15,
   "metadata": {},
   "outputs": [
    {
     "ename": "CompilationException",
     "evalue": "",
     "output_type": "error",
     "traceback": [
      "\u001b[1m\u001b[30m|   \u001b[1m\u001b[30mList<float[]> sentenceEmbeddings = \u001b[0m\u001b[1m\u001b[30m\u001b[41mhf\u001b[0m\u001b[1m\u001b[30m.embedBatch(sentences);\u001b[0m",
      "\u001b[1m\u001b[31mcannot find symbol\u001b[0m",
      "\u001b[1m\u001b[31m  symbol:   variable hf\u001b[0m",
      ""
     ]
    }
   ],
   "source": [
    "// Create embeddings for our sentences\n",
    "List<float[]> sentenceEmbeddings = hf.embedBatch(sentences);\n",
    "\n",
    "// Prepare data for loading\n",
    "List<Map<String, Object>> data = new java.util.ArrayList<>();\n",
    "for (int i = 0; i < sentences.size(); i++) {\n",
    "    Map<String, Object> doc = new java.util.HashMap<>();\n",
    "    doc.put(\"sentence\", sentences.get(i));\n",
    "    doc.put(\"embedding\", sentenceEmbeddings.get(i));\n",
    "    data.add(doc);\n",
    "}\n",
    "\n",
    "// Load data into the index\n",
    "index.load(data);\n",
    "System.out.println(\"Loaded \" + data.size() + \" documents\");"
   ]
  },
  {
   "cell_type": "code",
   "execution_count": 16,
   "metadata": {},
   "outputs": [
    {
     "ename": "CompilationException",
     "evalue": "",
     "output_type": "error",
     "traceback": [
      "\u001b[1m\u001b[30m|   \u001b[1m\u001b[30mfloat[] queryEmbedding = \u001b[0m\u001b[1m\u001b[30m\u001b[41mhf\u001b[0m\u001b[1m\u001b[30m.embed(\"That is a happy cat\");\u001b[0m",
      "\u001b[1m\u001b[31mcannot find symbol\u001b[0m",
      "\u001b[1m\u001b[31m  symbol:   variable hf\u001b[0m",
      ""
     ]
    }
   ],
   "source": [
    "// Use the HuggingFace vectorizer to create a query embedding\n",
    "float[] queryEmbedding = hf.embed(\"That is a happy cat\");\n",
    "\n",
    "// Create and execute a vector query\n",
    "var query = VectorQuery.builder()\n",
    "    .vector(queryEmbedding)\n",
    "    .field(\"embedding\")\n",
    "    .returnFields(List.of(\"sentence\"))\n",
    "    .numResults(3)\n",
    "    .build();\n",
    "\n",
    "List<Map<String, Object>> results = index.query(query);\n",
    "for (var doc : results) {\n",
    "    System.out.println(doc.get(\"sentence\") + \" - Distance: \" + doc.get(\"vector_distance\"));\n",
    "}"
   ]
  },
  {
   "cell_type": "markdown",
   "metadata": {},
   "source": [
    "## Selecting your float data type\n",
    "\n",
    "When embedding text as vectors, RedisVL4j supports different floating point data types: `FLOAT32`, `FLOAT64`, and `FLOAT16`.\n",
    "\n",
    "Your data type must match what is defined in your search index. If one is not explicitly set, the default is `FLOAT32`."
   ]
  },
  {
   "cell_type": "code",
   "execution_count": 17,
   "metadata": {},
   "outputs": [
    {
     "ename": "CompilationException",
     "evalue": "",
     "output_type": "error",
     "traceback": [
      "\u001b[1m\u001b[30m|   \u001b[1m\u001b[30m    .dataType(\u001b[0m\u001b[1m\u001b[30m\u001b[41mVectorField.VectorDataType.FLOAT16\u001b[0m\u001b[1m\u001b[30m)\u001b[0m",
      "\u001b[1m\u001b[31mcannot find symbol\u001b[0m",
      "\u001b[1m\u001b[31m  symbol:   variable FLOAT16\u001b[0m",
      "",
      "\u001b[1m\u001b[30m|   \u001b[1m\u001b[30mvar vectorizer16 = \u001b[0m\u001b[1m\u001b[30m\u001b[41mSentenceTransformersVectorizer\u001b[0m\u001b[1m\u001b[30m.builder()\u001b[0m",
      "\u001b[1m\u001b[31mcannot find symbol\u001b[0m",
      "\u001b[1m\u001b[31m  symbol:   variable SentenceTransformersVectorizer\u001b[0m",
      ""
     ]
    }
   ],
   "source": [
    "// Create a vectorizer with float16 precision\n",
    "var vectorizer16 = SentenceTransformersVectorizer.builder()\n",
    "    .modelName(\"sentence-transformers/all-mpnet-base-v2\")\n",
    "    .dataType(VectorField.VectorDataType.FLOAT16)\n",
    "    .build();\n",
    "\n",
    "float[] float16Embed = vectorizer16.embed(\"test sentence\");\n",
    "\n",
    "// Create a vectorizer with float64 precision\n",
    "var vectorizer64 = SentenceTransformersVectorizer.builder()\n",
    "    .modelName(\"sentence-transformers/all-mpnet-base-v2\")\n",
    "    .dataType(VectorField.VectorDataType.FLOAT64)\n",
    "    .build();\n",
    "\n",
    "float[] float64Embed = vectorizer64.embed(\"test sentence\");\n",
    "\n",
    "System.out.println(\"Different data types produce different representations: \" + \n",
    "    !Arrays.equals(float16Embed, float64Embed));"
   ]
  },
  {
   "cell_type": "code",
   "execution_count": 18,
   "metadata": {},
   "outputs": [
    {
     "ename": "CompilationException",
     "evalue": "",
     "output_type": "error",
     "traceback": [
      "\u001b[1m\u001b[30m|   \u001b[1m\u001b[30m\u001b[0m\u001b[1m\u001b[30m\u001b[41mindex\u001b[0m\u001b[1m\u001b[30m.delete(true);\u001b[0m",
      "\u001b[1m\u001b[31mcannot find symbol\u001b[0m",
      "\u001b[1m\u001b[31m  symbol:   variable index\u001b[0m",
      ""
     ]
    }
   ],
   "source": [
    "// Cleanup\n",
    "index.delete(true);\n",
    "System.out.println(\"Index deleted\");"
   ]
  }
 ],
 "metadata": {
  "kernelspec": {
   "display_name": "Java",
   "language": "java",
   "name": "java"
  },
  "language_info": {
   "codemirror_mode": "java",
   "file_extension": ".jshell",
   "mimetype": "text/x-java-source",
   "name": "Java",
   "pygments_lexer": "java",
   "version": "21.0.8+9-Ubuntu-0ubuntu124.04.1"
  }
 },
 "nbformat": 4,
 "nbformat_minor": 4
}
