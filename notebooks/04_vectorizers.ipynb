{
 "cells": [
  {
   "cell_type": "markdown",
   "metadata": {},
   "source": [
    "# Vectorizers\n",
    "\n",
    "In this notebook, we will show how to use RedisVL4j to create embeddings using the built-in text embedding vectorizers. Today RedisVL4j supports:\n",
    "1. HuggingFace (Sentence Transformers via ONNX - runs locally)\n",
    "2. LangChain4j Integration (OpenAI, Cohere, VoyageAI, Azure, etc.)\n",
    "3. Custom vectorizers\n",
    "\n",
    "Before running this notebook, be sure to have a running Redis Stack instance. You can start it with Docker:\n",
    "\n",
    "```bash\n",
    "docker run -d -p 6379:6379 -p 8001:8001 redis/redis-stack:latest\n",
    "```\n",
    "\n",
    "This will run Redis on port 6379 and RedisInsight at http://localhost:8001."
   ]
  },
  {
   "cell_type": "code",
   "execution_count": 1,
   "metadata": {},
   "outputs": [],
   "source": [
    "// Load Maven dependencies\n",
    "%maven redis.clients:jedis:7.0.0\n",
    "%maven org.slf4j:slf4j-nop:2.0.16\n",
    "%maven com.fasterxml.jackson.core:jackson-databind:2.18.0\n",
    "%maven com.fasterxml.jackson.dataformat:jackson-dataformat-yaml:2.18.0\n",
    "%maven com.github.f4b6a3:ulid-creator:5.2.3\n",
    "%maven dev.langchain4j:langchain4j:0.36.2\n",
    "%maven dev.langchain4j:langchain4j-open-ai:0.36.2\n",
    "%maven dev.langchain4j:langchain4j-cohere:0.36.2\n",
    "%maven dev.langchain4j:langchain4j-voyage-ai:0.36.2\n",
    "%maven com.microsoft.onnxruntime:onnxruntime:1.16.3\n",
    "%maven com.squareup.okhttp3:okhttp:4.12.0\n",
    "%maven com.google.code.gson:gson:2.10.1\n",
    "%maven ai.djl.huggingface:tokenizers:0.30.0\n",
    "\n",
    "// Note: RedisVL JAR is in classpath (loaded automatically by Docker container)\n",
    "\n",
    "// Import RedisVL classes\n",
    "import com.redis.vl.utils.vectorize.*;\n",
    "import com.redis.vl.index.SearchIndex;\n",
    "import com.redis.vl.schema.IndexSchema;\n",
    "import com.redis.vl.schema.VectorField;\n",
    "import com.redis.vl.query.VectorQuery;\n",
    "\n",
    "// Import Redis client\n",
    "import redis.clients.jedis.UnifiedJedis;\n",
    "import redis.clients.jedis.HostAndPort;\n",
    "\n",
    "// Import LangChain4J\n",
    "import dev.langchain4j.model.openai.OpenAiEmbeddingModel;\n",
    "import dev.langchain4j.model.cohere.CohereEmbeddingModel;\n",
    "import dev.langchain4j.model.voyageai.VoyageAiEmbeddingModel;\n",
    "\n",
    "// Import Java standard libraries\n",
    "import java.util.*;"
   ]
  },
  {
   "cell_type": "markdown",
   "metadata": {},
   "source": [
    "## Creating Text Embeddings\n",
    "\n",
    "This example will show how to create an embedding from 3 simple sentences with different text vectorizers in RedisVL4j.\n",
    "\n",
    "- \"That is a happy dog\"\n",
    "- \"That is a happy person\"\n",
    "- \"Today is a sunny day\""
   ]
  },
  {
   "cell_type": "code",
   "execution_count": 2,
   "metadata": {},
   "outputs": [],
   "source": [
    "// Define our test sentences\n",
    "List<String> sentences = Arrays.asList(\n",
    "    \"That is a happy dog\",\n",
    "    \"That is a happy person\",\n",
    "    \"Today is a sunny day\"\n",
    ");"
   ]
  },
  {
   "cell_type": "markdown",
   "metadata": {},
   "source": [
    "### HuggingFace Sentence Transformers (Local)\n",
    "\n",
    "[Huggingface](https://huggingface.co/models) is a popular NLP platform with many pre-trained models. RedisVL4j supports using Huggingface \"Sentence Transformers\" via ONNX models to create embeddings **locally** (no API key required).\n",
    "\n",
    "Models are automatically downloaded and cached on first use."
   ]
  },
  {
   "cell_type": "code",
   "execution_count": 3,
   "metadata": {},
   "outputs": [
    {
     "name": "stderr",
     "output_type": "stream",
     "text": [
      "SLF4J: Failed to load class \"org.slf4j.impl.StaticLoggerBinder\".\n",
      "SLF4J: Defaulting to no-operation (NOP) logger implementation\n",
      "SLF4J: See http://www.slf4j.org/codes.html#StaticLoggerBinder for further details.\n"
     ]
    },
    {
     "name": "stdout",
     "output_type": "stream",
     "text": [
      "Vector dimensions: 768\n",
      "First 10 dimensions: [3.7808096E-4, -0.050803404, -0.035147283, -0.02325103, -0.044158336, 0.020487826, 0.0014618257, 0.031261846, 0.056051537, 0.018815337]\n"
     ]
    }
   ],
   "source": [
    "// Create a vectorizer using HuggingFace Sentence Transformers\n",
    "// This model runs locally - no API key needed!\n",
    "BaseVectorizer hf = new SentenceTransformersVectorizer(\"sentence-transformers/all-mpnet-base-v2\");\n",
    "\n",
    "// Embed a single sentence\n",
    "float[] test = hf.embed(\"This is a test sentence.\");\n",
    "System.out.println(\"Vector dimensions: \" + test.length);\n",
    "System.out.println(\"First 10 dimensions: \" + Arrays.toString(Arrays.copyOfRange(test, 0, 10)));"
   ]
  },
  {
   "cell_type": "code",
   "execution_count": 4,
   "metadata": {},
   "outputs": [
    {
     "name": "stdout",
     "output_type": "stream",
     "text": [
      "Created 3 embeddings\n",
      "First embedding (first 10): [-0.019594658, -0.03229537, -0.011301539, 0.019816127, 0.07692131, 0.026120719, -0.04493195, 0.011639726, 1.3129076E-4, -0.006208265]\n"
     ]
    }
   ],
   "source": [
    "// Create many embeddings at once\n",
    "List<float[]> embeddings = hf.embedBatch(sentences);\n",
    "System.out.println(\"Created \" + embeddings.size() + \" embeddings\");\n",
    "System.out.println(\"First embedding (first 10): \" + Arrays.toString(Arrays.copyOfRange(embeddings.get(0), 0, 10)));"
   ]
  },
  {
   "cell_type": "markdown",
   "metadata": {},
   "source": [
    "### OpenAI via LangChain4j\n",
    "\n",
    "The `LangChain4JVectorizer` wraps any LangChain4j `EmbeddingModel`. This gives you access to OpenAI's powerful embedding models.\n",
    "\n",
    "You'll need to set your OpenAI API key as an environment variable."
   ]
  },
  {
   "cell_type": "code",
   "execution_count": 5,
   "metadata": {},
   "outputs": [
    {
     "name": "stdout",
     "output_type": "stream",
     "text": [
      "OpenAI Vector dimensions: 1536\n",
      "First 10 dimensions: [-0.0010550643, -0.003138513, 0.0023639908, -0.0045145433, -0.01032912, 0.012896847, -0.005494419, -0.002988136, -0.0072633694, -0.03365857]\n",
      "Created 3 embeddings\n"
     ]
    }
   ],
   "source": [
    "// Get API key from environment\n",
    "String apiKey = System.getenv(\"OPENAI_API_KEY\");\n",
    "if (apiKey == null || apiKey.isEmpty()) {\n",
    "    System.out.println(\"Skipping OpenAI example - OPENAI_API_KEY not set\");\n",
    "} else {\n",
    "    // Create OpenAI embedding model\n",
    "    var openaiModel = OpenAiEmbeddingModel.builder()\n",
    "        .apiKey(apiKey)\n",
    "        .modelName(\"text-embedding-ada-002\")\n",
    "        .build();\n",
    "    \n",
    "    // Wrap in LangChain4JVectorizer\n",
    "    BaseVectorizer oai = new LangChain4JVectorizer(\"text-embedding-ada-002\", openaiModel);\n",
    "    \n",
    "    // Embed a sentence\n",
    "    float[] openaiTest = oai.embed(\"This is a test sentence.\");\n",
    "    System.out.println(\"OpenAI Vector dimensions: \" + openaiTest.length);\n",
    "    System.out.println(\"First 10 dimensions: \" + Arrays.toString(Arrays.copyOfRange(openaiTest, 0, 10)));\n",
    "    \n",
    "    // Batch embeddings\n",
    "    List<float[]> openaiEmbeddings = oai.embedBatch(sentences);\n",
    "    System.out.println(\"Created \" + openaiEmbeddings.size() + \" embeddings\");\n",
    "}"
   ]
  },
  {
   "cell_type": "markdown",
   "metadata": {},
   "source": [
    "### Cohere via LangChain4j\n",
    "\n",
    "[Cohere](https://dashboard.cohere.ai/) provides powerful language AI models. The `LangChain4JVectorizer` makes it easy to use Cohere's embedding models.\n",
    "\n",
    "You'll need to set your Cohere API key."
   ]
  },
  {
   "cell_type": "code",
   "execution_count": 6,
   "metadata": {},
   "outputs": [
    {
     "name": "stdout",
     "output_type": "stream",
     "text": [
      "Cohere Vector dimensions: 1024\n",
      "First 10 dimensions: [-0.010856628, -0.019683838, -0.0062179565, 0.003545761, -0.047943115, 9.365082E-4, -0.005924225, 0.016174316, -0.03289795, 0.049194336]\n"
     ]
    }
   ],
   "source": [
    "String cohereApiKey = System.getenv(\"COHERE_API_KEY\");\n",
    "if (cohereApiKey == null || cohereApiKey.isEmpty()) {\n",
    "    System.out.println(\"Skipping Cohere example - COHERE_API_KEY not set\");\n",
    "} else {\n",
    "    // Note: Cohere v3 models require inputType to be specified\n",
    "    var cohereModel = CohereEmbeddingModel.builder()\n",
    "        .apiKey(cohereApiKey)\n",
    "        .modelName(\"embed-english-v3.0\")\n",
    "        .inputType(\"search_query\")\n",
    "        .build();\n",
    "    \n",
    "    BaseVectorizer co = new LangChain4JVectorizer(\"embed-english-v3.0\", cohereModel);\n",
    "    \n",
    "    float[] cohereTest = co.embed(\"This is a test sentence.\");\n",
    "    System.out.println(\"Cohere Vector dimensions: \" + cohereTest.length);\n",
    "    System.out.println(\"First 10 dimensions: \" + Arrays.toString(Arrays.copyOfRange(cohereTest, 0, 10)));\n",
    "}"
   ]
  },
  {
   "cell_type": "markdown",
   "metadata": {},
   "source": [
    "### VoyageAI via LangChain4j\n",
    "\n",
    "[VoyageAI](https://dash.voyageai.com/) provides specialized embedding models. Access them via LangChain4j integration.\n",
    "\n",
    "You'll need to set your VoyageAI API key."
   ]
  },
  {
   "cell_type": "code",
   "execution_count": 7,
   "metadata": {},
   "outputs": [
    {
     "name": "stdout",
     "output_type": "stream",
     "text": [
      "VoyageAI Vector dimensions: 1024\n",
      "First 10 dimensions: [0.021035708, 0.029149586, -0.012015127, -0.06209732, -0.004808997, -0.09621606, 0.046154775, -0.006889617, 0.01176895, 0.06111594]\n"
     ]
    }
   ],
   "source": [
    "String voyageApiKey = System.getenv(\"VOYAGE_API_KEY\");\n",
    "if (voyageApiKey == null || voyageApiKey.isEmpty()) {\n",
    "    System.out.println(\"Skipping VoyageAI example - VOYAGE_API_KEY not set\");\n",
    "} else {\n",
    "    var voyageModel = VoyageAiEmbeddingModel.builder()\n",
    "        .apiKey(voyageApiKey)\n",
    "        .modelName(\"voyage-law-2\")\n",
    "        .build();\n",
    "    \n",
    "    BaseVectorizer vo = new LangChain4JVectorizer(\"voyage-law-2\", voyageModel);\n",
    "    \n",
    "    float[] voyageTest = vo.embed(\"This is a test sentence.\");\n",
    "    System.out.println(\"VoyageAI Vector dimensions: \" + voyageTest.length);\n",
    "    System.out.println(\"First 10 dimensions: \" + Arrays.toString(Arrays.copyOfRange(voyageTest, 0, 10)));\n",
    "}"
   ]
  },
  {
   "cell_type": "markdown",
   "metadata": {},
   "source": [
    "### Custom Vectorizers\n",
    "\n",
    "RedisVL4j supports custom vectorizers by extending `BaseVectorizer`. This enables compatibility with any embedding generation function."
   ]
  },
  {
   "cell_type": "code",
   "execution_count": 8,
   "metadata": {},
   "outputs": [
    {
     "name": "stdout",
     "output_type": "stream",
     "text": [
      "Custom vectorizer dimensions: 768\n",
      "First 10 values: [0.101, 0.101, 0.101, 0.101, 0.101, 0.101, 0.101, 0.101, 0.101, 0.101]\n"
     ]
    }
   ],
   "source": [
    "// Create a simple custom vectorizer\n",
    "class CustomVectorizer extends BaseVectorizer {\n",
    "    public CustomVectorizer() {\n",
    "        super(\"custom-model\", 768, \"float32\");\n",
    "    }\n",
    "    \n",
    "    @Override\n",
    "    protected float[] generateEmbedding(String text) {\n",
    "        // Simple example: fill with constant value\n",
    "        float[] embedding = new float[768];\n",
    "        Arrays.fill(embedding, 0.101f);\n",
    "        return embedding;\n",
    "    }\n",
    "    \n",
    "    @Override\n",
    "    protected List<float[]> generateEmbeddingsBatch(List<String> texts, int batchSize) {\n",
    "        List<float[]> results = new ArrayList<>();\n",
    "        for (String text : texts) {\n",
    "            results.add(generateEmbedding(text));\n",
    "        }\n",
    "        return results;\n",
    "    }\n",
    "}\n",
    "\n",
    "BaseVectorizer customVectorizer = new CustomVectorizer();\n",
    "float[] customEmbed = customVectorizer.embed(\"This is a test sentence.\");\n",
    "System.out.println(\"Custom vectorizer dimensions: \" + customEmbed.length);\n",
    "System.out.println(\"First 10 values: \" + Arrays.toString(Arrays.copyOfRange(customEmbed, 0, 10)));"
   ]
  },
  {
   "cell_type": "markdown",
   "metadata": {},
   "source": [
    "## Vector Search with Embeddings\n",
    "\n",
    "Now let's use embeddings to search for similar sentences. We'll:\n",
    "1. Create a Redis search index\n",
    "2. Load our 3 sentences with their embeddings\n",
    "3. Query for the most similar sentence to \"That is a happy cat\""
   ]
  },
  {
   "cell_type": "code",
   "execution_count": 9,
   "metadata": {},
   "outputs": [
    {
     "name": "stdout",
     "output_type": "stream",
     "text": [
      "Index created: vectorizers\n"
     ]
    }
   ],
   "source": [
    "// Connect to Redis\n",
    "UnifiedJedis jedis = new UnifiedJedis(new HostAndPort(\"redis-stack\", 6379));\n",
    "\n",
    "// Create the schema from a Map (matching the Python notebook YAML)\n",
    "Map<String, Object> schema = Map.of(\n",
    "    \"index\", Map.of(\n",
    "        \"name\", \"vectorizers\",\n",
    "        \"prefix\", \"doc\"\n",
    "    ),\n",
    "    \"fields\", List.of(\n",
    "        Map.of(\"name\", \"sentence\", \"type\", \"text\"),\n",
    "        Map.of(\n",
    "            \"name\", \"embedding\",\n",
    "            \"type\", \"vector\",\n",
    "            \"attrs\", Map.of(\n",
    "                \"dims\", 768,\n",
    "                \"distance_metric\", \"cosine\",\n",
    "                \"algorithm\", \"flat\",\n",
    "                \"datatype\", \"float32\"\n",
    "            )\n",
    "        )\n",
    "    )\n",
    ");\n",
    "\n",
    "// Create the index\n",
    "SearchIndex index = SearchIndex.fromDict(schema, jedis);\n",
    "index.create(true); // overwrite if exists\n",
    "System.out.println(\"Index created: \" + index.getName());"
   ]
  },
  {
   "cell_type": "code",
   "execution_count": 10,
   "metadata": {},
   "outputs": [
    {
     "name": "stdout",
     "output_type": "stream",
     "text": [
      "Loaded 3 documents\n",
      "Keys: [doc:01K70ZPYFTE128NAKYDDT6SNSR, doc:01K70ZPYFVNBZK8JVHJ3D8J6N6, doc:01K70ZPYFVRQQANM5GKTHESABV]\n"
     ]
    }
   ],
   "source": [
    "// Create embeddings for our sentences using HuggingFace\n",
    "List<float[]> sentenceEmbeddings = hf.embedBatch(sentences);\n",
    "\n",
    "// Prepare data for loading\n",
    "List<Map<String, Object>> data = new ArrayList<>();\n",
    "for (int i = 0; i < sentences.size(); i++) {\n",
    "    Map<String, Object> doc = new HashMap<>();\n",
    "    doc.put(\"sentence\", sentences.get(i));\n",
    "    doc.put(\"embedding\", sentenceEmbeddings.get(i));\n",
    "    data.add(doc);\n",
    "}\n",
    "\n",
    "// Load data into the index\n",
    "List<String> keys = index.load(data);\n",
    "System.out.println(\"Loaded \" + data.size() + \" documents\");\n",
    "System.out.println(\"Keys: \" + keys);"
   ]
  },
  {
   "cell_type": "code",
   "execution_count": 11,
   "metadata": {},
   "outputs": [
    {
     "name": "stdout",
     "output_type": "stream",
     "text": [
      "\n",
      "Search results for: 'That is a happy cat'\n",
      "That is a happy dog - Distance: 0.160861968994\n",
      "That is a happy person - Distance: 0.273597836494\n",
      "Today is a sunny day - Distance: 0.744559407234\n"
     ]
    }
   ],
   "source": [
    "// Create a query embedding for \"That is a happy cat\"\n",
    "float[] queryEmbedding = hf.embed(\"That is a happy cat\");\n",
    "\n",
    "// Create and execute a vector query\n",
    "VectorQuery query = VectorQuery.builder()\n",
    "    .vector(queryEmbedding)\n",
    "    .field(\"embedding\")\n",
    "    .returnFields(\"sentence\", \"vector_distance\")\n",
    "    .numResults(3)\n",
    "    .build();\n",
    "\n",
    "List<Map<String, Object>> results = index.query(query);\n",
    "\n",
    "System.out.println(\"\\nSearch results for: 'That is a happy cat'\");\n",
    "for (Map<String, Object> doc : results) {\n",
    "    System.out.println(doc.get(\"sentence\") + \" - Distance: \" + doc.get(\"vector_distance\"));\n",
    "}"
   ]
  },
  {
   "cell_type": "markdown",
   "metadata": {},
   "source": [
    "Notice that \"That is a happy dog\" is the closest match to \"That is a happy cat\" - this makes semantic sense!"
   ]
  },
  {
   "cell_type": "code",
   "execution_count": 12,
   "metadata": {},
   "outputs": [
    {
     "name": "stdout",
     "output_type": "stream",
     "text": [
      "Index deleted and connection closed\n"
     ]
    }
   ],
   "source": [
    "// Cleanup\n",
    "index.delete(true);\n",
    "jedis.close();\n",
    "System.out.println(\"Index deleted and connection closed\");"
   ]
  },
  {
   "cell_type": "markdown",
   "metadata": {},
   "source": [
    "## Summary\n",
    "\n",
    "RedisVL4j provides flexible vectorization options:\n",
    "\n",
    "1. **Local Models** - HuggingFace Sentence Transformers (no API key required)\n",
    "2. **Cloud APIs** - OpenAI, Cohere, VoyageAI via LangChain4j integration\n",
    "3. **Custom** - Implement your own vectorizer\n",
    "\n",
    "All vectorizers work seamlessly with Redis vector search for building semantic search applications!"
   ]
  }
 ],
 "metadata": {
  "kernelspec": {
   "display_name": "Java",
   "language": "java",
   "name": "java"
  },
  "language_info": {
   "codemirror_mode": "java",
   "file_extension": ".jshell",
   "mimetype": "text/x-java-source",
   "name": "Java",
   "pygments_lexer": "java",
   "version": "21.0.8+9-Ubuntu-0ubuntu124.04.1"
  }
 },
 "nbformat": 4,
 "nbformat_minor": 4
}
