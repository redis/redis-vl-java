{
 "cells": [
  {
   "cell_type": "markdown",
   "id": "e144e37c",
   "metadata": {},
   "source": [
    "# LLM Message History\n",
    "\n",
    "Large Language Models are inherently stateless and have no knowledge of previous interactions with a user, or even of previous parts of the current conversation. While this may not be noticeable when asking simple questions, it becomes a hindrance when engaging in long running conversations that rely on conversational context.\n",
    "\n",
    "The solution to this problem is to append the previous conversation history to each subsequent call to the LLM.\n",
    "\n",
    "This notebook will show how to use Redis to structure and store and retrieve this conversational message history."
   ]
  },
  {
   "cell_type": "code",
   "execution_count": 1,
   "id": "8d0f3a9e",
   "metadata": {},
   "outputs": [],
   "source": [
    "// Load Maven dependencies\n",
    "%maven redis.clients:jedis:6.2.0\n",
    "%maven org.slf4j:slf4j-nop:2.0.16\n",
    "%maven com.fasterxml.jackson.core:jackson-databind:2.18.0\n",
    "%maven com.fasterxml.jackson.dataformat:jackson-dataformat-yaml:2.18.0\n",
    "%maven com.github.f4b6a3:ulid-creator:5.2.3\n",
    "\n",
    "// Import RedisVL classes\n",
    "import com.redis.vl.extensions.messagehistory.MessageHistory;\n",
    "\n",
    "// Import Redis client\n",
    "import redis.clients.jedis.UnifiedJedis;\n",
    "import redis.clients.jedis.HostAndPort;\n",
    "\n",
    "// Import Java standard libraries\n",
    "import java.util.*;"
   ]
  },
  {
   "cell_type": "code",
   "execution_count": 2,
   "id": "603dc240",
   "metadata": {},
   "outputs": [
    {
     "name": "stderr",
     "output_type": "stream",
     "text": [
      "SLF4J: Failed to load class \"org.slf4j.impl.StaticLoggerBinder\".\n",
      "SLF4J: Defaulting to no-operation (NOP) logger implementation\n",
      "SLF4J: See http://www.slf4j.org/codes.html#StaticLoggerBinder for further details.\n"
     ]
    }
   ],
   "source": [
    "// Connect to Redis\n",
    "UnifiedJedis client = new UnifiedJedis(new HostAndPort(\"redis-stack\", 6379));"
   ]
  },
  {
   "cell_type": "code",
   "execution_count": 3,
   "id": "e144e37d",
   "metadata": {},
   "outputs": [],
   "source": [
    "// Create a MessageHistory instance\n",
    "MessageHistory chatHistory = new MessageHistory(\"student tutor\", client);"
   ]
  },
  {
   "cell_type": "markdown",
   "id": "e144e37e",
   "metadata": {},
   "source": [
    "## Storing Messages\n",
    "\n",
    "To align with common LLM APIs, Redis stores messages with `role` and `content` fields.\n",
    "The supported roles are \"system\", \"user\" and \"llm\".\n",
    "\n",
    "You can store messages one at a time or all at once."
   ]
  },
  {
   "cell_type": "code",
   "execution_count": 4,
   "id": "e144e37f",
   "metadata": {},
   "outputs": [],
   "source": [
    "// Add a system message\n",
    "chatHistory.addMessage(\n",
    "    Map.of(\n",
    "        \"role\", \"system\",\n",
    "        \"content\", \"You are a helpful geography tutor, giving simple and short answers to questions about European countries.\"\n",
    "    )\n",
    ");\n",
    "\n",
    "// Add multiple messages at once\n",
    "chatHistory.addMessages(\n",
    "    List.of(\n",
    "        Map.of(\"role\", \"user\", \"content\", \"What is the capital of France?\"),\n",
    "        Map.of(\"role\", \"llm\", \"content\", \"The capital is Paris.\"),\n",
    "        Map.of(\"role\", \"user\", \"content\", \"And what is the capital of Spain?\"),\n",
    "        Map.of(\"role\", \"llm\", \"content\", \"The capital is Madrid.\"),\n",
    "        Map.of(\"role\", \"user\", \"content\", \"What is the population of Great Britain?\"),\n",
    "        Map.of(\"role\", \"llm\", \"content\", \"As of 2023 the population of Great Britain is approximately 67 million people.\")\n",
    "    )\n",
    ");"
   ]
  },
  {
   "cell_type": "markdown",
   "id": "e144e380",
   "metadata": {},
   "source": [
    "## Retrieving Conversation History\n",
    "\n",
    "At any point we can retrieve the recent history of the conversation. It will be ordered by entry time."
   ]
  },
  {
   "cell_type": "code",
   "execution_count": 5,
   "id": "e144e381",
   "metadata": {},
   "outputs": [
    {
     "name": "stdout",
     "output_type": "stream",
     "text": [
      "{role=llm, content=The capital is Paris.}\n",
      "{role=user, content=And what is the capital of Spain?}\n",
      "{role=llm, content=The capital is Madrid.}\n",
      "{role=user, content=What is the population of Great Britain?}\n",
      "{role=llm, content=As of 2023 the population of Great Britain is approximately 67 million people.}\n"
     ]
    }
   ],
   "source": [
    "// Get recent messages (default top_k=5)\n",
    "List<Map<String, Object>> context = chatHistory.getRecent(5, false, false, null);\n",
    "\n",
    "for (Map<String, Object> message : context) {\n",
    "    System.out.println(message);\n",
    "}"
   ]
  },
  {
   "cell_type": "markdown",
   "id": "e144e382",
   "metadata": {},
   "source": [
    "## Storing Prompt/Response Pairs\n",
    "\n",
    "In many LLM flows the conversation progresses in a series of prompt and response pairs. Message history offers a convenience function `store()` to add these simply."
   ]
  },
  {
   "cell_type": "code",
   "execution_count": 6,
   "id": "e144e383",
   "metadata": {},
   "outputs": [
    {
     "name": "stdout",
     "output_type": "stream",
     "text": [
      "{role=user, content=And what is the capital of Spain?}\n",
      "{role=llm, content=The capital is Madrid.}\n",
      "{role=user, content=What is the population of Great Britain?}\n",
      "{role=llm, content=As of 2023 the population of Great Britain is approximately 67 million people.}\n",
      "{role=user, content=what is the size of England compared to Portugal?}\n",
      "{role=llm, content=England is larger in land area than Portugal by about 15000 square miles.}\n"
     ]
    }
   ],
   "source": [
    "String prompt = \"what is the size of England compared to Portugal?\";\n",
    "String response = \"England is larger in land area than Portugal by about 15000 square miles.\";\n",
    "chatHistory.store(prompt, response);\n",
    "\n",
    "// Get recent 6 messages\n",
    "List<Map<String, Object>> updatedContext = chatHistory.getRecent(6, false, false, null);\n",
    "\n",
    "for (Map<String, Object> message : updatedContext) {\n",
    "    System.out.println(message);\n",
    "}"
   ]
  },
  {
   "cell_type": "markdown",
   "id": "e144e384",
   "metadata": {},
   "source": [
    "## Managing Multiple Users and Conversations\n",
    "\n",
    "For applications that need to handle multiple conversations concurrently, Redis supports tagging messages to keep conversations separated."
   ]
  },
  {
   "cell_type": "code",
   "execution_count": 7,
   "id": "e144e385",
   "metadata": {},
   "outputs": [
    {
     "name": "stdout",
     "output_type": "stream",
     "text": [
      "Math messages for 'student two':\n",
      "{role=system, content=You are a helpful algebra tutor, giving simple answers to math problems.}\n",
      "{role=user, content=What is the value of x in the equation 2x + 3 = 7?}\n",
      "{role=llm, content=The value of x is 2.}\n",
      "{role=user, content=What is the value of y in the equation 3y - 5 = 7?}\n",
      "{role=llm, content=The value of y is 4.}\n"
     ]
    }
   ],
   "source": [
    "// Add a system message for a different session\n",
    "chatHistory.addMessage(\n",
    "    Map.of(\n",
    "        \"role\", \"system\",\n",
    "        \"content\", \"You are a helpful algebra tutor, giving simple answers to math problems.\"\n",
    "    ),\n",
    "    \"student two\"\n",
    ");\n",
    "\n",
    "// Add math-related messages to \"student two\" session\n",
    "chatHistory.addMessages(\n",
    "    List.of(\n",
    "        Map.of(\"role\", \"user\", \"content\", \"What is the value of x in the equation 2x + 3 = 7?\"),\n",
    "        Map.of(\"role\", \"llm\", \"content\", \"The value of x is 2.\"),\n",
    "        Map.of(\"role\", \"user\", \"content\", \"What is the value of y in the equation 3y - 5 = 7?\"),\n",
    "        Map.of(\"role\", \"llm\", \"content\", \"The value of y is 4.\")\n",
    "    ),\n",
    "    \"student two\"\n",
    ");\n",
    "\n",
    "// Retrieve messages for \"student two\" session\n",
    "List<Map<String, Object>> mathMessages = chatHistory.getRecent(10, false, false, \"student two\");\n",
    "\n",
    "System.out.println(\"Math messages for 'student two':\");\n",
    "for (Map<String, Object> message : mathMessages) {\n",
    "    System.out.println(message);\n",
    "}"
   ]
  },
  {
   "cell_type": "markdown",
   "id": "e144e386",
   "metadata": {},
   "source": [
    "## Retrieving Messages as Text\n",
    "\n",
    "You can also retrieve messages as simple text strings (just the content) instead of full message objects."
   ]
  },
  {
   "cell_type": "code",
   "execution_count": 8,
   "id": "e144e387",
   "metadata": {},
   "outputs": [
    {
     "name": "stdout",
     "output_type": "stream",
     "text": [
      "Messages as text:\n",
      "The capital is Madrid.\n",
      "What is the population of Great Britain?\n",
      "As of 2023 the population of Great Britain is approximately 67 million people.\n",
      "what is the size of England compared to Portugal?\n",
      "England is larger in land area than Portugal by about 15000 square miles.\n"
     ]
    }
   ],
   "source": [
    "// Get messages as text (asText=true)\n",
    "List<String> textMessages = chatHistory.getRecent(5, true, false, null);\n",
    "\n",
    "System.out.println(\"Messages as text:\");\n",
    "for (String message : textMessages) {\n",
    "    System.out.println(message);\n",
    "}"
   ]
  },
  {
   "cell_type": "markdown",
   "id": "e144e388",
   "metadata": {},
   "source": [
    "## Getting All Messages\n",
    "\n",
    "You can retrieve all messages for the default session using the `getMessages()` method."
   ]
  },
  {
   "cell_type": "code",
   "execution_count": 9,
   "id": "e144e389",
   "metadata": {},
   "outputs": [
    {
     "name": "stdout",
     "output_type": "stream",
     "text": [
      "All messages (9 total):\n",
      "{role=system, content=You are a helpful geography tutor, giving simple and short answers to questions about European countries.}\n",
      "{role=user, content=What is the capital of France?}\n",
      "{role=llm, content=The capital is Paris.}\n",
      "{role=user, content=And what is the capital of Spain?}\n",
      "{role=llm, content=The capital is Madrid.}\n",
      "{role=user, content=What is the population of Great Britain?}\n",
      "{role=llm, content=As of 2023 the population of Great Britain is approximately 67 million people.}\n",
      "{role=user, content=what is the size of England compared to Portugal?}\n",
      "{role=llm, content=England is larger in land area than Portugal by about 15000 square miles.}\n"
     ]
    }
   ],
   "source": [
    "// Get all messages for the default session\n",
    "List<Map<String, Object>> allMessages = chatHistory.getMessages();\n",
    "\n",
    "System.out.println(\"All messages (\" + allMessages.size() + \" total):\");\n",
    "for (Map<String, Object> message : allMessages) {\n",
    "    System.out.println(message);\n",
    "}"
   ]
  },
  {
   "cell_type": "markdown",
   "id": "e144e38a",
   "metadata": {},
   "source": [
    "## Conversation Control\n",
    "\n",
    "LLMs can hallucinate on occasion and when this happens it can be useful to prune incorrect information from conversational histories so this incorrect information doesn't continue to be passed as context."
   ]
  },
  {
   "cell_type": "code",
   "execution_count": 10,
   "id": "e144e38b",
   "metadata": {},
   "outputs": [
    {
     "name": "stdout",
     "output_type": "stream",
     "text": [
      "Bad message key: 01K713B8XBCP1V3XX3M625YTG7:1.7598999199724438E9\n",
      "\n",
      "Corrected context:\n",
      "{role=user, content=What is the population of Great Britain?}\n",
      "{role=llm, content=As of 2023 the population of Great Britain is approximately 67 million people.}\n",
      "{role=user, content=what is the size of England compared to Portugal?}\n",
      "{role=llm, content=England is larger in land area than Portugal by about 15000 square miles.}\n",
      "{role=user, content=what is the smallest country in Europe?}\n"
     ]
    }
   ],
   "source": [
    "// Store an incorrect response\n",
    "chatHistory.store(\n",
    "    \"what is the smallest country in Europe?\",\n",
    "    \"Monaco is the smallest country in Europe at 0.78 square miles.\" // Incorrect - Vatican City is smallest\n",
    ");\n",
    "\n",
    "// Get the key of the incorrect message (raw=true returns all fields including entry_id)\n",
    "List<Map<String, Object>> rawContext = chatHistory.getRecent(1, false, true, null);\n",
    "String badKey = (String) rawContext.get(0).get(\"entry_id\");\n",
    "\n",
    "System.out.println(\"Bad message key: \" + badKey);\n",
    "\n",
    "// Drop the incorrect response\n",
    "chatHistory.drop(badKey);\n",
    "\n",
    "// Verify the incorrect response is gone\n",
    "List<Map<String, Object>> correctedContext = chatHistory.getRecent(5, false, false, null);\n",
    "\n",
    "System.out.println(\"\\nCorrected context:\");\n",
    "for (Map<String, Object> message : correctedContext) {\n",
    "    System.out.println(message);\n",
    "}"
   ]
  },
  {
   "cell_type": "markdown",
   "id": "e144e38c",
   "metadata": {},
   "source": [
    "## Cleanup\n",
    "\n",
    "Clear the conversation history when done."
   ]
  },
  {
   "cell_type": "code",
   "execution_count": 11,
   "id": "e144e38d",
   "metadata": {},
   "outputs": [
    {
     "name": "stdout",
     "output_type": "stream",
     "text": [
      "Cleared all messages\n",
      "Deleted message history index\n",
      "Redis connection closed\n"
     ]
    }
   ],
   "source": [
    "// Clear all messages (but keep the index)\n",
    "chatHistory.clear();\n",
    "System.out.println(\"Cleared all messages\");\n",
    "\n",
    "// Or delete everything including the index\n",
    "chatHistory.delete();\n",
    "System.out.println(\"Deleted message history index\");\n",
    "\n",
    "// Close the Redis connection\n",
    "client.close();\n",
    "System.out.println(\"Redis connection closed\");"
   ]
  }
 ],
 "metadata": {
  "kernelspec": {
   "display_name": "Java",
   "language": "java",
   "name": "java"
  },
  "language_info": {
   "codemirror_mode": "java",
   "file_extension": ".jshell",
   "mimetype": "text/x-java-source",
   "name": "Java",
   "pygments_lexer": "java",
   "version": "21.0.8+9-Ubuntu-0ubuntu124.04.1"
  }
 },
 "nbformat": 4,
 "nbformat_minor": 5
}
